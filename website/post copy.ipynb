{
   "cells": [
      {
         "cell_type": "markdown",
         "metadata": {},
         "source": [
            "## [*See a £100/tonne carbon dividend in PolicyEngine*](https://policyengine.org/uk/population-impact?adult_bi=15_55&carbon_tax=100&child_bi=15_55&senior_bi=15_55)\n",
            "\n",
            "Earlier this month, the International Panel on Climate Change ([IPCC](https://www.ipcc.ch/)) released the [third installment](https://report.ipcc.ch/ar6wg3/) of its Sixth Assessment Report, titled \"Mitigation of Climate Change.\"\n",
            "The report covered a wide range of policy options to reduce carbon emissions, as well as a wide range of benefits such policies would have for humanity.\n",
            "\n",
            "As [Dana Nuccitelli of Citizens' Climate Lobby noted](https://citizensclimatelobby.org/blog/policy/the-latest-ipcc-report-has-a-lot-to-say-about-carbon-fee-and-dividend/), the report has a lot to say about one policy in particular: it contains 680 mentions of carbon pricing, from the economic theory and evidence to policy design and political support.\n",
            "While most climate change proposals require funding, carbon pricing policies raise revenue by charging fossil fuel companies for their carbon pollution.\n",
            "That means it also raises costs in isolation; to address this, the IPCC says, \"Carbon pricing is most effective if revenues are redistributed or used impartially.\"\n",
            "What's more impartial than redistributing to everyone equally?\n",
            "\n",
            "For Earth Day weekend, we're following up [our report on US carbon dividends](https://www.ubicenter.org/us-carbon-dividend) with an analysis of the policy in the UK.\n",
            "Using [PolicyEngine](http://policyengine.org), we find that levying a fee on each tonne of carbon emissions, and redistributing the proceeds equally to all UK residents, would have a progressive distributional impact.\n",
            "A carbon dividend would significantly reduce poverty and inequality, and the larger the program, the more of each it does.\n",
            "\n",
            "## Methodology\n",
            "\n",
            "As we've written on the [PolicyEngine blog today](https://blog.policyengine.org/how-policyengine-estimates-the-effects-of-uk-carbon-taxes-260ccfc5d97c), PolicyEngine uses a range of data sources and techniques to estimate how carbon taxes would affect different types of households.\n",
            "PolicyEngine is a *static* app, so it assumes that behaviour, including carbon emissions, do not respond to policy changes.\n",
            "\n",
            "In this analysis, we use PolicyEngine to first explore a single policy of a £100 per tonne carbon dividend.\n",
            "From there, we show that the poverty impacts of carbon dividends increase roughly in proportion to the size of the carbon tax.\n",
            "In each case, we assume that consumers bear 100% of the incidence of the carbon tax; changing this assumption doesn't significantly change the policy's income-based distributional impact.\n",
            "\n",
            "## [£100/tonne carbon dividend](https://policyengine.org/uk/population-impact?adult_bi=15_55&carbon_tax=100&child_bi=15_55&senior_bi=15_55)\n",
            "\n",
            "\n",
            "\n",
            "https://policyengine.org/uk/population-impact?adult_bi=15_55&carbon_tax=100&child_bi=15_55&senior_bi=15_55"
         ]
      },
      {
         "cell_type": "markdown",
         "metadata": {},
         "source": [
            "## Varying the price\n",
            "\n",
            "Since PolicyEngine is static, the revenue--and therefore the dividend--increases linearly with the carbon price.\n",
            "Each £10 per tonne funds a weekly dividend of £1.56 per person."
         ]
      },
      {
         "cell_type": "code",
         "execution_count": 1,
         "metadata": {},
         "outputs": [
            {
               "name": "stdout",
               "output_type": "stream",
               "text": [
                  "0\n",
                  "5\n",
                  "10\n",
                  "15\n",
                  "20\n",
                  "25\n",
                  "30\n",
                  "35\n",
                  "40\n",
                  "45\n",
                  "50\n",
                  "55\n",
                  "60\n",
                  "65\n",
                  "70\n",
                  "75\n",
                  "80\n",
                  "85\n",
                  "90\n",
                  "95\n",
                  "100\n"
               ]
            }
         ],
         "source": [
            "# Generate data; this takes about 3 minutes.\n",
            "\n",
            "from policyengine.countries import UK\n",
            "import pandas as pd\n",
            "\n",
            "uk = UK()\n",
            "\n",
            "tax_rates = list(range(0, 105, 5))\n",
            "changes = dict(\n",
            "    carbon_tax=[],\n",
            "    ubi=[],\n",
            "    poverty=[],\n",
            "    deep_poverty=[],\n",
            "    child_poverty=[],\n",
            "    deep_child_poverty=[],\n",
            "    adult_poverty=[],\n",
            "    deep_adult_poverty=[],\n",
            ")\n",
            "\n",
            "baseline_in_poverty = uk.baseline.calc(\"in_poverty_bhc\", map_to=\"person\")\n",
            "baseline_in_deep_poverty = uk.baseline.calc(\n",
            "    \"in_deep_poverty_bhc\", map_to=\"person\"\n",
            ")\n",
            "is_child = uk.baseline.calc(\"is_child\", map_to=\"person\")\n",
            "is_adult = uk.baseline.calc(\"is_adult\", map_to=\"person\")\n",
            "\n",
            "\n",
            "def pct_change(x, y):\n",
            "    return x / y - 1\n",
            "\n",
            "\n",
            "def pct_change_mean(x, y):\n",
            "    return pct_change(x.mean(), y.mean())\n",
            "\n",
            "\n",
            "for tax_rate in tax_rates:\n",
            "    print(tax_rate)\n",
            "    baseline, reformed = uk._get_microsimulations(dict(carbon_tax=tax_rate))\n",
            "    revenue = reformed.calc(\"carbon_tax\").sum()\n",
            "    weekly_ubi = revenue / baseline.calc(\"people\").sum() / 52\n",
            "    baseline, reformed = uk._get_microsimulations(\n",
            "        dict(\n",
            "            carbon_tax=tax_rate,\n",
            "            child_bi=weekly_ubi,\n",
            "            adult_bi=weekly_ubi,\n",
            "            senior_bi=weekly_ubi,\n",
            "        )\n",
            "    )\n",
            "    changes[\"carbon_tax\"] += [tax_rate]\n",
            "    changes[\"ubi\"] += [weekly_ubi]\n",
            "    in_poverty = reformed.calc(\"in_poverty_bhc\", map_to=\"person\")\n",
            "    in_deep_poverty = reformed.calc(\"in_deep_poverty_bhc\", map_to=\"person\")\n",
            "    changes[\"poverty\"] += [pct_change_mean(in_poverty, baseline_in_poverty)]\n",
            "    changes[\"deep_poverty\"] += [\n",
            "        pct_change_mean(in_deep_poverty, baseline_in_deep_poverty)\n",
            "    ]\n",
            "    changes[\"child_poverty\"] += [\n",
            "        pct_change_mean(in_poverty[is_child], baseline_in_poverty[is_child])\n",
            "    ]\n",
            "    changes[\"deep_child_poverty\"] += [\n",
            "        pct_change_mean(\n",
            "            in_deep_poverty[is_child], baseline_in_deep_poverty[is_child]\n",
            "        )\n",
            "    ]\n",
            "    changes[\"adult_poverty\"] += [\n",
            "        pct_change_mean(in_poverty[is_adult], baseline_in_poverty[is_adult])\n",
            "    ]\n",
            "    changes[\"deep_adult_poverty\"] += [\n",
            "        pct_change_mean(\n",
            "            in_deep_poverty[is_adult], baseline_in_deep_poverty[is_adult]\n",
            "        )\n",
            "    ]\n",
            "\n",
            "\n",
            "df = pd.DataFrame(changes)\n"
         ]
      },
      {
         "cell_type": "code",
         "execution_count": 60,
         "metadata": {},
         "outputs": [
            {
               "data": {
                  "text/html": [
                     "<div>                            <div id=\"b0d866d7-3818-4c30-ae13-863c5e4c10da\" class=\"plotly-graph-div\" style=\"height:600px; width:800px;\"></div>            <script type=\"text/javascript\">                require([\"plotly\"], function(Plotly) {                    window.PLOTLYENV=window.PLOTLYENV || {};                                    if (document.getElementById(\"b0d866d7-3818-4c30-ae13-863c5e4c10da\")) {                    Plotly.newPlot(                        \"b0d866d7-3818-4c30-ae13-863c5e4c10da\",                        [{\"customdata\":[[\"A carbon tax of \\u00a30 per tonne would fund a weekly dividend of \\u00a30.0\"],[\"A carbon tax of \\u00a35 per tonne would fund a weekly dividend of \\u00a30.78\"],[\"A carbon tax of \\u00a310 per tonne would fund a weekly dividend of \\u00a31.56\"],[\"A carbon tax of \\u00a315 per tonne would fund a weekly dividend of \\u00a32.33\"],[\"A carbon tax of \\u00a320 per tonne would fund a weekly dividend of \\u00a33.11\"],[\"A carbon tax of \\u00a325 per tonne would fund a weekly dividend of \\u00a33.89\"],[\"A carbon tax of \\u00a330 per tonne would fund a weekly dividend of \\u00a34.67\"],[\"A carbon tax of \\u00a335 per tonne would fund a weekly dividend of \\u00a35.44\"],[\"A carbon tax of \\u00a340 per tonne would fund a weekly dividend of \\u00a36.22\"],[\"A carbon tax of \\u00a345 per tonne would fund a weekly dividend of \\u00a37.0\"],[\"A carbon tax of \\u00a350 per tonne would fund a weekly dividend of \\u00a37.78\"],[\"A carbon tax of \\u00a355 per tonne would fund a weekly dividend of \\u00a38.55\"],[\"A carbon tax of \\u00a360 per tonne would fund a weekly dividend of \\u00a39.33\"],[\"A carbon tax of \\u00a365 per tonne would fund a weekly dividend of \\u00a310.11\"],[\"A carbon tax of \\u00a370 per tonne would fund a weekly dividend of \\u00a310.89\"],[\"A carbon tax of \\u00a375 per tonne would fund a weekly dividend of \\u00a311.67\"],[\"A carbon tax of \\u00a380 per tonne would fund a weekly dividend of \\u00a312.44\"],[\"A carbon tax of \\u00a385 per tonne would fund a weekly dividend of \\u00a313.22\"],[\"A carbon tax of \\u00a390 per tonne would fund a weekly dividend of \\u00a314.0\"],[\"A carbon tax of \\u00a395 per tonne would fund a weekly dividend of \\u00a314.78\"],[\"A carbon tax of \\u00a3100 per tonne would fund a weekly dividend of \\u00a315.55\"]],\"hovertemplate\":\"%{customdata[0]}<extra></extra>\",\"legendgroup\":\"\",\"line\":{\"color\":\"#49A6E2\",\"dash\":\"solid\"},\"marker\":{\"symbol\":\"circle\"},\"mode\":\"lines\",\"name\":\"\",\"orientation\":\"v\",\"showlegend\":false,\"x\":[0,5,10,15,20,25,30,35,40,45,50,55,60,65,70,75,80,85,90,95,100],\"xaxis\":\"x\",\"y\":[0.0,0.7777214458181516,1.5554428916363032,2.3331643378901936,3.1108857832726065,3.888607228902722,4.666328675780387,5.444050123278856,6.221771566545213,6.999493017483833,7.777214457805444,8.554935903059949,9.332657351560774,10.110378803383925,10.888100246557713,11.665821689942781,12.443543133090426,13.221264588098276,13.998986034967666,14.776707477854654,15.554428915610888],\"yaxis\":\"y\",\"type\":\"scatter\"}],                        {\"template\":{\"data\":{\"bar\":[{\"error_x\":{\"color\":\"#2a3f5f\"},\"error_y\":{\"color\":\"#2a3f5f\"},\"marker\":{\"line\":{\"color\":\"#E5ECF6\",\"width\":0.5},\"pattern\":{\"fillmode\":\"overlay\",\"size\":10,\"solidity\":0.2}},\"type\":\"bar\"}],\"barpolar\":[{\"marker\":{\"line\":{\"color\":\"#E5ECF6\",\"width\":0.5},\"pattern\":{\"fillmode\":\"overlay\",\"size\":10,\"solidity\":0.2}},\"type\":\"barpolar\"}],\"carpet\":[{\"aaxis\":{\"endlinecolor\":\"#2a3f5f\",\"gridcolor\":\"white\",\"linecolor\":\"white\",\"minorgridcolor\":\"white\",\"startlinecolor\":\"#2a3f5f\"},\"baxis\":{\"endlinecolor\":\"#2a3f5f\",\"gridcolor\":\"white\",\"linecolor\":\"white\",\"minorgridcolor\":\"white\",\"startlinecolor\":\"#2a3f5f\"},\"type\":\"carpet\"}],\"choropleth\":[{\"colorbar\":{\"outlinewidth\":0,\"ticks\":\"\"},\"type\":\"choropleth\"}],\"contour\":[{\"colorbar\":{\"outlinewidth\":0,\"ticks\":\"\"},\"colorscale\":[[0.0,\"#0d0887\"],[0.1111111111111111,\"#46039f\"],[0.2222222222222222,\"#7201a8\"],[0.3333333333333333,\"#9c179e\"],[0.4444444444444444,\"#bd3786\"],[0.5555555555555556,\"#d8576b\"],[0.6666666666666666,\"#ed7953\"],[0.7777777777777778,\"#fb9f3a\"],[0.8888888888888888,\"#fdca26\"],[1.0,\"#f0f921\"]],\"type\":\"contour\"}],\"contourcarpet\":[{\"colorbar\":{\"outlinewidth\":0,\"ticks\":\"\"},\"type\":\"contourcarpet\"}],\"heatmap\":[{\"colorbar\":{\"outlinewidth\":0,\"ticks\":\"\"},\"colorscale\":[[0.0,\"#0d0887\"],[0.1111111111111111,\"#46039f\"],[0.2222222222222222,\"#7201a8\"],[0.3333333333333333,\"#9c179e\"],[0.4444444444444444,\"#bd3786\"],[0.5555555555555556,\"#d8576b\"],[0.6666666666666666,\"#ed7953\"],[0.7777777777777778,\"#fb9f3a\"],[0.8888888888888888,\"#fdca26\"],[1.0,\"#f0f921\"]],\"type\":\"heatmap\"}],\"heatmapgl\":[{\"colorbar\":{\"outlinewidth\":0,\"ticks\":\"\"},\"colorscale\":[[0.0,\"#0d0887\"],[0.1111111111111111,\"#46039f\"],[0.2222222222222222,\"#7201a8\"],[0.3333333333333333,\"#9c179e\"],[0.4444444444444444,\"#bd3786\"],[0.5555555555555556,\"#d8576b\"],[0.6666666666666666,\"#ed7953\"],[0.7777777777777778,\"#fb9f3a\"],[0.8888888888888888,\"#fdca26\"],[1.0,\"#f0f921\"]],\"type\":\"heatmapgl\"}],\"histogram\":[{\"marker\":{\"pattern\":{\"fillmode\":\"overlay\",\"size\":10,\"solidity\":0.2}},\"type\":\"histogram\"}],\"histogram2d\":[{\"colorbar\":{\"outlinewidth\":0,\"ticks\":\"\"},\"colorscale\":[[0.0,\"#0d0887\"],[0.1111111111111111,\"#46039f\"],[0.2222222222222222,\"#7201a8\"],[0.3333333333333333,\"#9c179e\"],[0.4444444444444444,\"#bd3786\"],[0.5555555555555556,\"#d8576b\"],[0.6666666666666666,\"#ed7953\"],[0.7777777777777778,\"#fb9f3a\"],[0.8888888888888888,\"#fdca26\"],[1.0,\"#f0f921\"]],\"type\":\"histogram2d\"}],\"histogram2dcontour\":[{\"colorbar\":{\"outlinewidth\":0,\"ticks\":\"\"},\"colorscale\":[[0.0,\"#0d0887\"],[0.1111111111111111,\"#46039f\"],[0.2222222222222222,\"#7201a8\"],[0.3333333333333333,\"#9c179e\"],[0.4444444444444444,\"#bd3786\"],[0.5555555555555556,\"#d8576b\"],[0.6666666666666666,\"#ed7953\"],[0.7777777777777778,\"#fb9f3a\"],[0.8888888888888888,\"#fdca26\"],[1.0,\"#f0f921\"]],\"type\":\"histogram2dcontour\"}],\"mesh3d\":[{\"colorbar\":{\"outlinewidth\":0,\"ticks\":\"\"},\"type\":\"mesh3d\"}],\"parcoords\":[{\"line\":{\"colorbar\":{\"outlinewidth\":0,\"ticks\":\"\"}},\"type\":\"parcoords\"}],\"pie\":[{\"automargin\":true,\"type\":\"pie\"}],\"scatter\":[{\"marker\":{\"colorbar\":{\"outlinewidth\":0,\"ticks\":\"\"}},\"type\":\"scatter\"}],\"scatter3d\":[{\"line\":{\"colorbar\":{\"outlinewidth\":0,\"ticks\":\"\"}},\"marker\":{\"colorbar\":{\"outlinewidth\":0,\"ticks\":\"\"}},\"type\":\"scatter3d\"}],\"scattercarpet\":[{\"marker\":{\"colorbar\":{\"outlinewidth\":0,\"ticks\":\"\"}},\"type\":\"scattercarpet\"}],\"scattergeo\":[{\"marker\":{\"colorbar\":{\"outlinewidth\":0,\"ticks\":\"\"}},\"type\":\"scattergeo\"}],\"scattergl\":[{\"marker\":{\"colorbar\":{\"outlinewidth\":0,\"ticks\":\"\"}},\"type\":\"scattergl\"}],\"scattermapbox\":[{\"marker\":{\"colorbar\":{\"outlinewidth\":0,\"ticks\":\"\"}},\"type\":\"scattermapbox\"}],\"scatterpolar\":[{\"marker\":{\"colorbar\":{\"outlinewidth\":0,\"ticks\":\"\"}},\"type\":\"scatterpolar\"}],\"scatterpolargl\":[{\"marker\":{\"colorbar\":{\"outlinewidth\":0,\"ticks\":\"\"}},\"type\":\"scatterpolargl\"}],\"scatterternary\":[{\"marker\":{\"colorbar\":{\"outlinewidth\":0,\"ticks\":\"\"}},\"type\":\"scatterternary\"}],\"surface\":[{\"colorbar\":{\"outlinewidth\":0,\"ticks\":\"\"},\"colorscale\":[[0.0,\"#0d0887\"],[0.1111111111111111,\"#46039f\"],[0.2222222222222222,\"#7201a8\"],[0.3333333333333333,\"#9c179e\"],[0.4444444444444444,\"#bd3786\"],[0.5555555555555556,\"#d8576b\"],[0.6666666666666666,\"#ed7953\"],[0.7777777777777778,\"#fb9f3a\"],[0.8888888888888888,\"#fdca26\"],[1.0,\"#f0f921\"]],\"type\":\"surface\"}],\"table\":[{\"cells\":{\"fill\":{\"color\":\"#EBF0F8\"},\"line\":{\"color\":\"white\"}},\"header\":{\"fill\":{\"color\":\"#C8D4E3\"},\"line\":{\"color\":\"white\"}},\"type\":\"table\"}]},\"layout\":{\"annotationdefaults\":{\"arrowcolor\":\"#2a3f5f\",\"arrowhead\":0,\"arrowwidth\":1},\"autotypenumbers\":\"strict\",\"coloraxis\":{\"colorbar\":{\"outlinewidth\":0,\"ticks\":\"\"}},\"colorscale\":{\"diverging\":[[0,\"#8e0152\"],[0.1,\"#c51b7d\"],[0.2,\"#de77ae\"],[0.3,\"#f1b6da\"],[0.4,\"#fde0ef\"],[0.5,\"#f7f7f7\"],[0.6,\"#e6f5d0\"],[0.7,\"#b8e186\"],[0.8,\"#7fbc41\"],[0.9,\"#4d9221\"],[1,\"#276419\"]],\"sequential\":[[0.0,\"#0d0887\"],[0.1111111111111111,\"#46039f\"],[0.2222222222222222,\"#7201a8\"],[0.3333333333333333,\"#9c179e\"],[0.4444444444444444,\"#bd3786\"],[0.5555555555555556,\"#d8576b\"],[0.6666666666666666,\"#ed7953\"],[0.7777777777777778,\"#fb9f3a\"],[0.8888888888888888,\"#fdca26\"],[1.0,\"#f0f921\"]],\"sequentialminus\":[[0.0,\"#0d0887\"],[0.1111111111111111,\"#46039f\"],[0.2222222222222222,\"#7201a8\"],[0.3333333333333333,\"#9c179e\"],[0.4444444444444444,\"#bd3786\"],[0.5555555555555556,\"#d8576b\"],[0.6666666666666666,\"#ed7953\"],[0.7777777777777778,\"#fb9f3a\"],[0.8888888888888888,\"#fdca26\"],[1.0,\"#f0f921\"]]},\"colorway\":[\"#636efa\",\"#EF553B\",\"#00cc96\",\"#ab63fa\",\"#FFA15A\",\"#19d3f3\",\"#FF6692\",\"#B6E880\",\"#FF97FF\",\"#FECB52\"],\"font\":{\"color\":\"#2a3f5f\"},\"geo\":{\"bgcolor\":\"white\",\"lakecolor\":\"white\",\"landcolor\":\"#E5ECF6\",\"showlakes\":true,\"showland\":true,\"subunitcolor\":\"white\"},\"hoverlabel\":{\"align\":\"left\"},\"hovermode\":\"closest\",\"mapbox\":{\"style\":\"light\"},\"paper_bgcolor\":\"white\",\"plot_bgcolor\":\"#E5ECF6\",\"polar\":{\"angularaxis\":{\"gridcolor\":\"white\",\"linecolor\":\"white\",\"ticks\":\"\"},\"bgcolor\":\"#E5ECF6\",\"radialaxis\":{\"gridcolor\":\"white\",\"linecolor\":\"white\",\"ticks\":\"\"}},\"scene\":{\"xaxis\":{\"backgroundcolor\":\"#E5ECF6\",\"gridcolor\":\"white\",\"gridwidth\":2,\"linecolor\":\"white\",\"showbackground\":true,\"ticks\":\"\",\"zerolinecolor\":\"white\"},\"yaxis\":{\"backgroundcolor\":\"#E5ECF6\",\"gridcolor\":\"white\",\"gridwidth\":2,\"linecolor\":\"white\",\"showbackground\":true,\"ticks\":\"\",\"zerolinecolor\":\"white\"},\"zaxis\":{\"backgroundcolor\":\"#E5ECF6\",\"gridcolor\":\"white\",\"gridwidth\":2,\"linecolor\":\"white\",\"showbackground\":true,\"ticks\":\"\",\"zerolinecolor\":\"white\"}},\"shapedefaults\":{\"line\":{\"color\":\"#2a3f5f\"}},\"ternary\":{\"aaxis\":{\"gridcolor\":\"white\",\"linecolor\":\"white\",\"ticks\":\"\"},\"baxis\":{\"gridcolor\":\"white\",\"linecolor\":\"white\",\"ticks\":\"\"},\"bgcolor\":\"#E5ECF6\",\"caxis\":{\"gridcolor\":\"white\",\"linecolor\":\"white\",\"ticks\":\"\"}},\"title\":{\"x\":0.05},\"xaxis\":{\"automargin\":true,\"gridcolor\":\"white\",\"linecolor\":\"white\",\"ticks\":\"\",\"title\":{\"standoff\":15},\"zerolinecolor\":\"white\",\"zerolinewidth\":2},\"yaxis\":{\"automargin\":true,\"gridcolor\":\"white\",\"linecolor\":\"white\",\"ticks\":\"\",\"title\":{\"standoff\":15},\"zerolinecolor\":\"white\",\"zerolinewidth\":2}}},\"xaxis\":{\"anchor\":\"y\",\"domain\":[0.0,1.0],\"title\":{\"text\":\"Price per tonne of carbon emissions\",\"font\":{\"size\":16,\"color\":\"black\"}},\"tickprefix\":\"\\u00a3\",\"tickfont\":{\"size\":14}},\"yaxis\":{\"anchor\":\"x\",\"domain\":[0.0,1.0],\"title\":{\"text\":\"Weekly dividend\",\"font\":{\"size\":16,\"color\":\"black\"}},\"tickprefix\":\"\\u00a3\",\"tickfont\":{\"size\":14}},\"legend\":{\"tracegroupgap\":0},\"title\":{\"text\":\"Weekly carbon dividend by per-tonne carbon price\",\"font\":{\"size\":20}},\"images\":[{\"sizex\":0.12,\"sizey\":0.12,\"source\":\"https://raw.githubusercontent.com/UBICenter/ubicenter.org/master/assets/images/logos/wide-blue.jpg\",\"x\":0.98,\"xanchor\":\"right\",\"xref\":\"paper\",\"y\":-0.12,\"yanchor\":\"bottom\",\"yref\":\"paper\"}],\"hoverlabel\":{\"align\":\"right\"},\"font\":{\"family\":\"Roboto\"},\"plot_bgcolor\":\"white\",\"paper_bgcolor\":\"white\",\"width\":800,\"height\":600},                        {\"displayModeBar\": false, \"responsive\": true}                    ).then(function(){\n",
                     "                            \n",
                     "var gd = document.getElementById('b0d866d7-3818-4c30-ae13-863c5e4c10da');\n",
                     "var x = new MutationObserver(function (mutations, observer) {{\n",
                     "        var display = window.getComputedStyle(gd).display;\n",
                     "        if (!display || display === 'none') {{\n",
                     "            console.log([gd, 'removed!']);\n",
                     "            Plotly.purge(gd);\n",
                     "            observer.disconnect();\n",
                     "        }}\n",
                     "}});\n",
                     "\n",
                     "// Listen for the removal of the full notebook cells\n",
                     "var notebookContainer = gd.closest('#notebook-container');\n",
                     "if (notebookContainer) {{\n",
                     "    x.observe(notebookContainer, {childList: true});\n",
                     "}}\n",
                     "\n",
                     "// Listen for the clearing of the current output cell\n",
                     "var outputEl = gd.closest('.output');\n",
                     "if (outputEl) {{\n",
                     "    x.observe(outputEl, {childList: true});\n",
                     "}}\n",
                     "\n",
                     "                        })                };                });            </script>        </div>"
                  ]
               },
               "metadata": {},
               "output_type": "display_data"
            }
         ],
         "source": [
            "import plotly.express as px\n",
            "from ubicenter import format_fig\n",
            "from ubicenter.plotly import LIGHT_BLUE, DARK_BLUE\n",
            "\n",
            "LABELS = dict(\n",
            "    poverty=\"Poverty\",\n",
            "    deep_poverty=\"Deep poverty\",\n",
            "    child_poverty=\"Child poverty\",\n",
            "    deep_child_poverty=\"Deep child poverty\",\n",
            "    adult_poverty=\"Adult poverty\",\n",
            "    deep_adult_poverty=\"Deep adult poverty\",\n",
            "    carbon_tax=\"Price per tonne of carbon emissions\",\n",
            "    poverty_impact=\"Poverty impact\",\n",
            "    ubi=\"Weekly dividend\",\n",
            ")\n",
            "\n",
            "HOVER_TEMPLATE = \"%{customdata[0]}<extra></extra>\"\n",
            "\n",
            "# UBI by tax rate\n",
            "df[\"hover\"] = (\n",
            "    \"A carbon tax of £\"\n",
            "    + df.carbon_tax.astype(str)\n",
            "    + \" per tonne would fund a weekly dividend of £\"\n",
            "    + df.ubi.round(2).astype(str)\n",
            ")\n",
            "\n",
            "fig = px.line(\n",
            "    df,\n",
            "    x=\"carbon_tax\",\n",
            "    y=\"ubi\",\n",
            "    custom_data=[\"hover\"],\n",
            "    title=\"Weekly carbon dividend by per-tonne carbon price\",\n",
            "    color_discrete_sequence=[LIGHT_BLUE],\n",
            "    labels=LABELS,\n",
            ")\n",
            "fig.update_layout(\n",
            "    yaxis_tickprefix=\"£\",\n",
            "    xaxis_tickprefix=\"£\",\n",
            ").update_traces(hovertemplate=HOVER_TEMPLATE)\n",
            "format_fig(fig)\n"
         ]
      },
      {
         "cell_type": "markdown",
         "metadata": {},
         "source": [
            "As the carbon dividend increases in price, the poverty and deep poverty impacts increase roughly linearly, with some slight diminishing returns starting around £90 per tonne."
         ]
      },
      {
         "cell_type": "code",
         "execution_count": 61,
         "metadata": {},
         "outputs": [
            {
               "data": {
                  "application/vnd.plotly.v1+json": {
                     "config": {
                        "displayModeBar": false,
                        "plotlyServerURL": "https://plot.ly",
                        "responsive": true
                     },
                     "data": [
                        {
                           "customdata": [
                              [
                                 "A £0 carbon dividend would cut poverty by -0.0%"
                              ],
                              [
                                 "A £5 carbon dividend would cut poverty by 0.6%"
                              ],
                              [
                                 "A £10 carbon dividend would cut poverty by 1.1%"
                              ],
                              [
                                 "A £15 carbon dividend would cut poverty by 2.1%"
                              ],
                              [
                                 "A £20 carbon dividend would cut poverty by 2.9%"
                              ],
                              [
                                 "A £25 carbon dividend would cut poverty by 3.6%"
                              ],
                              [
                                 "A £30 carbon dividend would cut poverty by 4.6%"
                              ],
                              [
                                 "A £35 carbon dividend would cut poverty by 5.0%"
                              ],
                              [
                                 "A £40 carbon dividend would cut poverty by 5.3%"
                              ],
                              [
                                 "A £45 carbon dividend would cut poverty by 5.5%"
                              ],
                              [
                                 "A £50 carbon dividend would cut poverty by 6.1%"
                              ],
                              [
                                 "A £55 carbon dividend would cut poverty by 6.4%"
                              ],
                              [
                                 "A £60 carbon dividend would cut poverty by 6.9%"
                              ],
                              [
                                 "A £65 carbon dividend would cut poverty by 8.1%"
                              ],
                              [
                                 "A £70 carbon dividend would cut poverty by 9.0%"
                              ],
                              [
                                 "A £75 carbon dividend would cut poverty by 9.9%"
                              ],
                              [
                                 "A £80 carbon dividend would cut poverty by 10.9%"
                              ],
                              [
                                 "A £85 carbon dividend would cut poverty by 11.2%"
                              ],
                              [
                                 "A £90 carbon dividend would cut poverty by 11.4%"
                              ],
                              [
                                 "A £95 carbon dividend would cut poverty by 12.1%"
                              ],
                              [
                                 "A £100 carbon dividend would cut poverty by 12.6%"
                              ]
                           ],
                           "hovertemplate": "%{customdata[0]}<extra></extra>",
                           "legendgroup": "Poverty",
                           "line": {
                              "color": "#49A6E2",
                              "dash": "solid"
                           },
                           "marker": {
                              "symbol": "circle"
                           },
                           "mode": "lines",
                           "name": "Poverty",
                           "orientation": "v",
                           "showlegend": true,
                           "type": "scatter",
                           "x": [
                              0,
                              5,
                              10,
                              15,
                              20,
                              25,
                              30,
                              35,
                              40,
                              45,
                              50,
                              55,
                              60,
                              65,
                              70,
                              75,
                              80,
                              85,
                              90,
                              95,
                              100
                           ],
                           "xaxis": "x",
                           "y": [
                              0,
                              -0.006376334018188157,
                              -0.011290252916857257,
                              -0.0213352223969564,
                              -0.028875557727584766,
                              -0.03581657919896852,
                              -0.046086640212807284,
                              -0.05035964181553754,
                              -0.05281256093669329,
                              -0.055493578647723085,
                              -0.06139790010054469,
                              -0.06370894453006426,
                              -0.06908106619717147,
                              -0.08120448894752441,
                              -0.0901404454940683,
                              -0.09937389749632697,
                              -0.10937813956861953,
                              -0.11174175426257604,
                              -0.11361293119711302,
                              -0.12117701761186472,
                              -0.12629372332884092
                           ],
                           "yaxis": "y"
                        },
                        {
                           "customdata": [
                              [
                                 "A £0 carbon dividend would cut deep poverty by -0.0%"
                              ],
                              [
                                 "A £5 carbon dividend would cut deep poverty by 2.3%"
                              ],
                              [
                                 "A £10 carbon dividend would cut deep poverty by 4.7%"
                              ],
                              [
                                 "A £15 carbon dividend would cut deep poverty by 5.7%"
                              ],
                              [
                                 "A £20 carbon dividend would cut deep poverty by 6.6%"
                              ],
                              [
                                 "A £25 carbon dividend would cut deep poverty by 8.1%"
                              ],
                              [
                                 "A £30 carbon dividend would cut deep poverty by 8.8%"
                              ],
                              [
                                 "A £35 carbon dividend would cut deep poverty by 8.3%"
                              ],
                              [
                                 "A £40 carbon dividend would cut deep poverty by 9.8%"
                              ],
                              [
                                 "A £45 carbon dividend would cut deep poverty by 12.1%"
                              ],
                              [
                                 "A £50 carbon dividend would cut deep poverty by 12.0%"
                              ],
                              [
                                 "A £55 carbon dividend would cut deep poverty by 11.2%"
                              ],
                              [
                                 "A £60 carbon dividend would cut deep poverty by 13.5%"
                              ],
                              [
                                 "A £65 carbon dividend would cut deep poverty by 14.1%"
                              ],
                              [
                                 "A £70 carbon dividend would cut deep poverty by 13.8%"
                              ],
                              [
                                 "A £75 carbon dividend would cut deep poverty by 15.4%"
                              ],
                              [
                                 "A £80 carbon dividend would cut deep poverty by 15.5%"
                              ],
                              [
                                 "A £85 carbon dividend would cut deep poverty by 15.3%"
                              ],
                              [
                                 "A £90 carbon dividend would cut deep poverty by 16.2%"
                              ],
                              [
                                 "A £95 carbon dividend would cut deep poverty by 16.9%"
                              ],
                              [
                                 "A £100 carbon dividend would cut deep poverty by 17.6%"
                              ]
                           ],
                           "hovertemplate": "%{customdata[0]}<extra></extra>",
                           "legendgroup": "Deep poverty",
                           "line": {
                              "color": "#0F4AA1",
                              "dash": "solid"
                           },
                           "marker": {
                              "symbol": "circle"
                           },
                           "mode": "lines",
                           "name": "Deep poverty",
                           "orientation": "v",
                           "showlegend": true,
                           "type": "scatter",
                           "x": [
                              0,
                              5,
                              10,
                              15,
                              20,
                              25,
                              30,
                              35,
                              40,
                              45,
                              50,
                              55,
                              60,
                              65,
                              70,
                              75,
                              80,
                              85,
                              90,
                              95,
                              100
                           ],
                           "xaxis": "x",
                           "y": [
                              0,
                              -0.022791192436966035,
                              -0.04701262058204725,
                              -0.05651327916227733,
                              -0.0661356642667662,
                              -0.08118312944068207,
                              -0.0878223840978124,
                              -0.08259092519998101,
                              -0.09806426310819094,
                              -0.12050859415363446,
                              -0.11956073722872818,
                              -0.11233825956065147,
                              -0.1354511371291054,
                              -0.14127305935392342,
                              -0.1380002913060524,
                              -0.1535706315615284,
                              -0.15516177990476565,
                              -0.15323740189215018,
                              -0.16184271681398754,
                              -0.1692424456917827,
                              -0.17605410914135355
                           ],
                           "yaxis": "y"
                        }
                     ],
                     "layout": {
                        "font": {
                           "family": "Roboto"
                        },
                        "height": 600,
                        "hoverlabel": {
                           "align": "right"
                        },
                        "images": [
                           {
                              "sizex": 0.12,
                              "sizey": 0.12,
                              "source": "https://raw.githubusercontent.com/UBICenter/ubicenter.org/master/assets/images/logos/wide-blue.jpg",
                              "x": 0.98,
                              "xanchor": "right",
                              "xref": "paper",
                              "y": -0.12,
                              "yanchor": "bottom",
                              "yref": "paper"
                           }
                        ],
                        "legend": {
                           "title": {
                              "text": ""
                           },
                           "tracegroupgap": 0
                        },
                        "margin": {
                           "t": 60
                        },
                        "paper_bgcolor": "white",
                        "plot_bgcolor": "white",
                        "template": {
                           "data": {
                              "bar": [
                                 {
                                    "error_x": {
                                       "color": "#2a3f5f"
                                    },
                                    "error_y": {
                                       "color": "#2a3f5f"
                                    },
                                    "marker": {
                                       "line": {
                                          "color": "#E5ECF6",
                                          "width": 0.5
                                       },
                                       "pattern": {
                                          "fillmode": "overlay",
                                          "size": 10,
                                          "solidity": 0.2
                                       }
                                    },
                                    "type": "bar"
                                 }
                              ],
                              "barpolar": [
                                 {
                                    "marker": {
                                       "line": {
                                          "color": "#E5ECF6",
                                          "width": 0.5
                                       },
                                       "pattern": {
                                          "fillmode": "overlay",
                                          "size": 10,
                                          "solidity": 0.2
                                       }
                                    },
                                    "type": "barpolar"
                                 }
                              ],
                              "carpet": [
                                 {
                                    "aaxis": {
                                       "endlinecolor": "#2a3f5f",
                                       "gridcolor": "white",
                                       "linecolor": "white",
                                       "minorgridcolor": "white",
                                       "startlinecolor": "#2a3f5f"
                                    },
                                    "baxis": {
                                       "endlinecolor": "#2a3f5f",
                                       "gridcolor": "white",
                                       "linecolor": "white",
                                       "minorgridcolor": "white",
                                       "startlinecolor": "#2a3f5f"
                                    },
                                    "type": "carpet"
                                 }
                              ],
                              "choropleth": [
                                 {
                                    "colorbar": {
                                       "outlinewidth": 0,
                                       "ticks": ""
                                    },
                                    "type": "choropleth"
                                 }
                              ],
                              "contour": [
                                 {
                                    "colorbar": {
                                       "outlinewidth": 0,
                                       "ticks": ""
                                    },
                                    "colorscale": [
                                       [
                                          0,
                                          "#0d0887"
                                       ],
                                       [
                                          0.1111111111111111,
                                          "#46039f"
                                       ],
                                       [
                                          0.2222222222222222,
                                          "#7201a8"
                                       ],
                                       [
                                          0.3333333333333333,
                                          "#9c179e"
                                       ],
                                       [
                                          0.4444444444444444,
                                          "#bd3786"
                                       ],
                                       [
                                          0.5555555555555556,
                                          "#d8576b"
                                       ],
                                       [
                                          0.6666666666666666,
                                          "#ed7953"
                                       ],
                                       [
                                          0.7777777777777778,
                                          "#fb9f3a"
                                       ],
                                       [
                                          0.8888888888888888,
                                          "#fdca26"
                                       ],
                                       [
                                          1,
                                          "#f0f921"
                                       ]
                                    ],
                                    "type": "contour"
                                 }
                              ],
                              "contourcarpet": [
                                 {
                                    "colorbar": {
                                       "outlinewidth": 0,
                                       "ticks": ""
                                    },
                                    "type": "contourcarpet"
                                 }
                              ],
                              "heatmap": [
                                 {
                                    "colorbar": {
                                       "outlinewidth": 0,
                                       "ticks": ""
                                    },
                                    "colorscale": [
                                       [
                                          0,
                                          "#0d0887"
                                       ],
                                       [
                                          0.1111111111111111,
                                          "#46039f"
                                       ],
                                       [
                                          0.2222222222222222,
                                          "#7201a8"
                                       ],
                                       [
                                          0.3333333333333333,
                                          "#9c179e"
                                       ],
                                       [
                                          0.4444444444444444,
                                          "#bd3786"
                                       ],
                                       [
                                          0.5555555555555556,
                                          "#d8576b"
                                       ],
                                       [
                                          0.6666666666666666,
                                          "#ed7953"
                                       ],
                                       [
                                          0.7777777777777778,
                                          "#fb9f3a"
                                       ],
                                       [
                                          0.8888888888888888,
                                          "#fdca26"
                                       ],
                                       [
                                          1,
                                          "#f0f921"
                                       ]
                                    ],
                                    "type": "heatmap"
                                 }
                              ],
                              "heatmapgl": [
                                 {
                                    "colorbar": {
                                       "outlinewidth": 0,
                                       "ticks": ""
                                    },
                                    "colorscale": [
                                       [
                                          0,
                                          "#0d0887"
                                       ],
                                       [
                                          0.1111111111111111,
                                          "#46039f"
                                       ],
                                       [
                                          0.2222222222222222,
                                          "#7201a8"
                                       ],
                                       [
                                          0.3333333333333333,
                                          "#9c179e"
                                       ],
                                       [
                                          0.4444444444444444,
                                          "#bd3786"
                                       ],
                                       [
                                          0.5555555555555556,
                                          "#d8576b"
                                       ],
                                       [
                                          0.6666666666666666,
                                          "#ed7953"
                                       ],
                                       [
                                          0.7777777777777778,
                                          "#fb9f3a"
                                       ],
                                       [
                                          0.8888888888888888,
                                          "#fdca26"
                                       ],
                                       [
                                          1,
                                          "#f0f921"
                                       ]
                                    ],
                                    "type": "heatmapgl"
                                 }
                              ],
                              "histogram": [
                                 {
                                    "marker": {
                                       "pattern": {
                                          "fillmode": "overlay",
                                          "size": 10,
                                          "solidity": 0.2
                                       }
                                    },
                                    "type": "histogram"
                                 }
                              ],
                              "histogram2d": [
                                 {
                                    "colorbar": {
                                       "outlinewidth": 0,
                                       "ticks": ""
                                    },
                                    "colorscale": [
                                       [
                                          0,
                                          "#0d0887"
                                       ],
                                       [
                                          0.1111111111111111,
                                          "#46039f"
                                       ],
                                       [
                                          0.2222222222222222,
                                          "#7201a8"
                                       ],
                                       [
                                          0.3333333333333333,
                                          "#9c179e"
                                       ],
                                       [
                                          0.4444444444444444,
                                          "#bd3786"
                                       ],
                                       [
                                          0.5555555555555556,
                                          "#d8576b"
                                       ],
                                       [
                                          0.6666666666666666,
                                          "#ed7953"
                                       ],
                                       [
                                          0.7777777777777778,
                                          "#fb9f3a"
                                       ],
                                       [
                                          0.8888888888888888,
                                          "#fdca26"
                                       ],
                                       [
                                          1,
                                          "#f0f921"
                                       ]
                                    ],
                                    "type": "histogram2d"
                                 }
                              ],
                              "histogram2dcontour": [
                                 {
                                    "colorbar": {
                                       "outlinewidth": 0,
                                       "ticks": ""
                                    },
                                    "colorscale": [
                                       [
                                          0,
                                          "#0d0887"
                                       ],
                                       [
                                          0.1111111111111111,
                                          "#46039f"
                                       ],
                                       [
                                          0.2222222222222222,
                                          "#7201a8"
                                       ],
                                       [
                                          0.3333333333333333,
                                          "#9c179e"
                                       ],
                                       [
                                          0.4444444444444444,
                                          "#bd3786"
                                       ],
                                       [
                                          0.5555555555555556,
                                          "#d8576b"
                                       ],
                                       [
                                          0.6666666666666666,
                                          "#ed7953"
                                       ],
                                       [
                                          0.7777777777777778,
                                          "#fb9f3a"
                                       ],
                                       [
                                          0.8888888888888888,
                                          "#fdca26"
                                       ],
                                       [
                                          1,
                                          "#f0f921"
                                       ]
                                    ],
                                    "type": "histogram2dcontour"
                                 }
                              ],
                              "mesh3d": [
                                 {
                                    "colorbar": {
                                       "outlinewidth": 0,
                                       "ticks": ""
                                    },
                                    "type": "mesh3d"
                                 }
                              ],
                              "parcoords": [
                                 {
                                    "line": {
                                       "colorbar": {
                                          "outlinewidth": 0,
                                          "ticks": ""
                                       }
                                    },
                                    "type": "parcoords"
                                 }
                              ],
                              "pie": [
                                 {
                                    "automargin": true,
                                    "type": "pie"
                                 }
                              ],
                              "scatter": [
                                 {
                                    "marker": {
                                       "colorbar": {
                                          "outlinewidth": 0,
                                          "ticks": ""
                                       }
                                    },
                                    "type": "scatter"
                                 }
                              ],
                              "scatter3d": [
                                 {
                                    "line": {
                                       "colorbar": {
                                          "outlinewidth": 0,
                                          "ticks": ""
                                       }
                                    },
                                    "marker": {
                                       "colorbar": {
                                          "outlinewidth": 0,
                                          "ticks": ""
                                       }
                                    },
                                    "type": "scatter3d"
                                 }
                              ],
                              "scattercarpet": [
                                 {
                                    "marker": {
                                       "colorbar": {
                                          "outlinewidth": 0,
                                          "ticks": ""
                                       }
                                    },
                                    "type": "scattercarpet"
                                 }
                              ],
                              "scattergeo": [
                                 {
                                    "marker": {
                                       "colorbar": {
                                          "outlinewidth": 0,
                                          "ticks": ""
                                       }
                                    },
                                    "type": "scattergeo"
                                 }
                              ],
                              "scattergl": [
                                 {
                                    "marker": {
                                       "colorbar": {
                                          "outlinewidth": 0,
                                          "ticks": ""
                                       }
                                    },
                                    "type": "scattergl"
                                 }
                              ],
                              "scattermapbox": [
                                 {
                                    "marker": {
                                       "colorbar": {
                                          "outlinewidth": 0,
                                          "ticks": ""
                                       }
                                    },
                                    "type": "scattermapbox"
                                 }
                              ],
                              "scatterpolar": [
                                 {
                                    "marker": {
                                       "colorbar": {
                                          "outlinewidth": 0,
                                          "ticks": ""
                                       }
                                    },
                                    "type": "scatterpolar"
                                 }
                              ],
                              "scatterpolargl": [
                                 {
                                    "marker": {
                                       "colorbar": {
                                          "outlinewidth": 0,
                                          "ticks": ""
                                       }
                                    },
                                    "type": "scatterpolargl"
                                 }
                              ],
                              "scatterternary": [
                                 {
                                    "marker": {
                                       "colorbar": {
                                          "outlinewidth": 0,
                                          "ticks": ""
                                       }
                                    },
                                    "type": "scatterternary"
                                 }
                              ],
                              "surface": [
                                 {
                                    "colorbar": {
                                       "outlinewidth": 0,
                                       "ticks": ""
                                    },
                                    "colorscale": [
                                       [
                                          0,
                                          "#0d0887"
                                       ],
                                       [
                                          0.1111111111111111,
                                          "#46039f"
                                       ],
                                       [
                                          0.2222222222222222,
                                          "#7201a8"
                                       ],
                                       [
                                          0.3333333333333333,
                                          "#9c179e"
                                       ],
                                       [
                                          0.4444444444444444,
                                          "#bd3786"
                                       ],
                                       [
                                          0.5555555555555556,
                                          "#d8576b"
                                       ],
                                       [
                                          0.6666666666666666,
                                          "#ed7953"
                                       ],
                                       [
                                          0.7777777777777778,
                                          "#fb9f3a"
                                       ],
                                       [
                                          0.8888888888888888,
                                          "#fdca26"
                                       ],
                                       [
                                          1,
                                          "#f0f921"
                                       ]
                                    ],
                                    "type": "surface"
                                 }
                              ],
                              "table": [
                                 {
                                    "cells": {
                                       "fill": {
                                          "color": "#EBF0F8"
                                       },
                                       "line": {
                                          "color": "white"
                                       }
                                    },
                                    "header": {
                                       "fill": {
                                          "color": "#C8D4E3"
                                       },
                                       "line": {
                                          "color": "white"
                                       }
                                    },
                                    "type": "table"
                                 }
                              ]
                           },
                           "layout": {
                              "annotationdefaults": {
                                 "arrowcolor": "#2a3f5f",
                                 "arrowhead": 0,
                                 "arrowwidth": 1
                              },
                              "autotypenumbers": "strict",
                              "coloraxis": {
                                 "colorbar": {
                                    "outlinewidth": 0,
                                    "ticks": ""
                                 }
                              },
                              "colorscale": {
                                 "diverging": [
                                    [
                                       0,
                                       "#8e0152"
                                    ],
                                    [
                                       0.1,
                                       "#c51b7d"
                                    ],
                                    [
                                       0.2,
                                       "#de77ae"
                                    ],
                                    [
                                       0.3,
                                       "#f1b6da"
                                    ],
                                    [
                                       0.4,
                                       "#fde0ef"
                                    ],
                                    [
                                       0.5,
                                       "#f7f7f7"
                                    ],
                                    [
                                       0.6,
                                       "#e6f5d0"
                                    ],
                                    [
                                       0.7,
                                       "#b8e186"
                                    ],
                                    [
                                       0.8,
                                       "#7fbc41"
                                    ],
                                    [
                                       0.9,
                                       "#4d9221"
                                    ],
                                    [
                                       1,
                                       "#276419"
                                    ]
                                 ],
                                 "sequential": [
                                    [
                                       0,
                                       "#0d0887"
                                    ],
                                    [
                                       0.1111111111111111,
                                       "#46039f"
                                    ],
                                    [
                                       0.2222222222222222,
                                       "#7201a8"
                                    ],
                                    [
                                       0.3333333333333333,
                                       "#9c179e"
                                    ],
                                    [
                                       0.4444444444444444,
                                       "#bd3786"
                                    ],
                                    [
                                       0.5555555555555556,
                                       "#d8576b"
                                    ],
                                    [
                                       0.6666666666666666,
                                       "#ed7953"
                                    ],
                                    [
                                       0.7777777777777778,
                                       "#fb9f3a"
                                    ],
                                    [
                                       0.8888888888888888,
                                       "#fdca26"
                                    ],
                                    [
                                       1,
                                       "#f0f921"
                                    ]
                                 ],
                                 "sequentialminus": [
                                    [
                                       0,
                                       "#0d0887"
                                    ],
                                    [
                                       0.1111111111111111,
                                       "#46039f"
                                    ],
                                    [
                                       0.2222222222222222,
                                       "#7201a8"
                                    ],
                                    [
                                       0.3333333333333333,
                                       "#9c179e"
                                    ],
                                    [
                                       0.4444444444444444,
                                       "#bd3786"
                                    ],
                                    [
                                       0.5555555555555556,
                                       "#d8576b"
                                    ],
                                    [
                                       0.6666666666666666,
                                       "#ed7953"
                                    ],
                                    [
                                       0.7777777777777778,
                                       "#fb9f3a"
                                    ],
                                    [
                                       0.8888888888888888,
                                       "#fdca26"
                                    ],
                                    [
                                       1,
                                       "#f0f921"
                                    ]
                                 ]
                              },
                              "colorway": [
                                 "#636efa",
                                 "#EF553B",
                                 "#00cc96",
                                 "#ab63fa",
                                 "#FFA15A",
                                 "#19d3f3",
                                 "#FF6692",
                                 "#B6E880",
                                 "#FF97FF",
                                 "#FECB52"
                              ],
                              "font": {
                                 "color": "#2a3f5f"
                              },
                              "geo": {
                                 "bgcolor": "white",
                                 "lakecolor": "white",
                                 "landcolor": "#E5ECF6",
                                 "showlakes": true,
                                 "showland": true,
                                 "subunitcolor": "white"
                              },
                              "hoverlabel": {
                                 "align": "left"
                              },
                              "hovermode": "closest",
                              "mapbox": {
                                 "style": "light"
                              },
                              "paper_bgcolor": "white",
                              "plot_bgcolor": "#E5ECF6",
                              "polar": {
                                 "angularaxis": {
                                    "gridcolor": "white",
                                    "linecolor": "white",
                                    "ticks": ""
                                 },
                                 "bgcolor": "#E5ECF6",
                                 "radialaxis": {
                                    "gridcolor": "white",
                                    "linecolor": "white",
                                    "ticks": ""
                                 }
                              },
                              "scene": {
                                 "xaxis": {
                                    "backgroundcolor": "#E5ECF6",
                                    "gridcolor": "white",
                                    "gridwidth": 2,
                                    "linecolor": "white",
                                    "showbackground": true,
                                    "ticks": "",
                                    "zerolinecolor": "white"
                                 },
                                 "yaxis": {
                                    "backgroundcolor": "#E5ECF6",
                                    "gridcolor": "white",
                                    "gridwidth": 2,
                                    "linecolor": "white",
                                    "showbackground": true,
                                    "ticks": "",
                                    "zerolinecolor": "white"
                                 },
                                 "zaxis": {
                                    "backgroundcolor": "#E5ECF6",
                                    "gridcolor": "white",
                                    "gridwidth": 2,
                                    "linecolor": "white",
                                    "showbackground": true,
                                    "ticks": "",
                                    "zerolinecolor": "white"
                                 }
                              },
                              "shapedefaults": {
                                 "line": {
                                    "color": "#2a3f5f"
                                 }
                              },
                              "ternary": {
                                 "aaxis": {
                                    "gridcolor": "white",
                                    "linecolor": "white",
                                    "ticks": ""
                                 },
                                 "baxis": {
                                    "gridcolor": "white",
                                    "linecolor": "white",
                                    "ticks": ""
                                 },
                                 "bgcolor": "#E5ECF6",
                                 "caxis": {
                                    "gridcolor": "white",
                                    "linecolor": "white",
                                    "ticks": ""
                                 }
                              },
                              "title": {
                                 "x": 0.05
                              },
                              "xaxis": {
                                 "automargin": true,
                                 "gridcolor": "white",
                                 "linecolor": "white",
                                 "ticks": "",
                                 "title": {
                                    "standoff": 15
                                 },
                                 "zerolinecolor": "white",
                                 "zerolinewidth": 2
                              },
                              "yaxis": {
                                 "automargin": true,
                                 "gridcolor": "white",
                                 "linecolor": "white",
                                 "ticks": "",
                                 "title": {
                                    "standoff": 15
                                 },
                                 "zerolinecolor": "white",
                                 "zerolinewidth": 2
                              }
                           }
                        },
                        "title": {
                           "font": {
                              "size": 20
                           },
                           "text": "Impact of carbon dividends on poverty"
                        },
                        "width": 800,
                        "xaxis": {
                           "anchor": "y",
                           "autorange": true,
                           "domain": [
                              0,
                              1
                           ],
                           "range": [
                              0,
                              100
                           ],
                           "tickfont": {
                              "size": 14
                           },
                           "tickprefix": "£",
                           "title": {
                              "font": {
                                 "color": "black",
                                 "size": 16
                              },
                              "text": "Price per tonne of carbon emissions"
                           },
                           "type": "linear"
                        },
                        "yaxis": {
                           "anchor": "x",
                           "autorange": true,
                           "domain": [
                              0,
                              1
                           ],
                           "range": [
                              -0.18583489298253986,
                              0.00978078384118631
                           ],
                           "tickfont": {
                              "size": 14
                           },
                           "tickformat": ".0%",
                           "title": {
                              "font": {
                                 "color": "black",
                                 "size": 16
                              },
                              "text": "Poverty impact"
                           },
                           "type": "linear"
                        }
                     }
                  },
                  "image/png": "[encoded data removed]",
                  "text/html": [
                     "<div>                            <div id=\"b018d260-17cb-4643-9f42-f681731c7d55\" class=\"plotly-graph-div\" style=\"height:600px; width:800px;\"></div>            <script type=\"text/javascript\">                require([\"plotly\"], function(Plotly) {                    window.PLOTLYENV=window.PLOTLYENV || {};                                    if (document.getElementById(\"b018d260-17cb-4643-9f42-f681731c7d55\")) {                    Plotly.newPlot(                        \"b018d260-17cb-4643-9f42-f681731c7d55\",                        [{\"customdata\":[[\"A \\u00a30 carbon dividend would cut poverty by -0.0%\"],[\"A \\u00a35 carbon dividend would cut poverty by 0.8%\"],[\"A \\u00a310 carbon dividend would cut poverty by 1.4%\"],[\"A \\u00a315 carbon dividend would cut poverty by 1.6%\"],[\"A \\u00a320 carbon dividend would cut poverty by 3.1%\"],[\"A \\u00a325 carbon dividend would cut poverty by 3.3%\"],[\"A \\u00a330 carbon dividend would cut poverty by 4.0%\"],[\"A \\u00a335 carbon dividend would cut poverty by 4.9%\"],[\"A \\u00a340 carbon dividend would cut poverty by 6.3%\"],[\"A \\u00a345 carbon dividend would cut poverty by 7.4%\"],[\"A \\u00a350 carbon dividend would cut poverty by 7.9%\"],[\"A \\u00a355 carbon dividend would cut poverty by 8.3%\"],[\"A \\u00a360 carbon dividend would cut poverty by 8.8%\"],[\"A \\u00a365 carbon dividend would cut poverty by 9.5%\"],[\"A \\u00a370 carbon dividend would cut poverty by 9.8%\"],[\"A \\u00a375 carbon dividend would cut poverty by 10.2%\"],[\"A \\u00a380 carbon dividend would cut poverty by 10.6%\"],[\"A \\u00a385 carbon dividend would cut poverty by 11.5%\"],[\"A \\u00a390 carbon dividend would cut poverty by 12.6%\"],[\"A \\u00a395 carbon dividend would cut poverty by 13.5%\"],[\"A \\u00a3100 carbon dividend would cut poverty by 13.8%\"]],\"hovertemplate\":\"%{customdata[0]}<extra></extra>\",\"legendgroup\":\"Poverty\",\"line\":{\"color\":\"#49A6E2\",\"dash\":\"solid\"},\"marker\":{\"symbol\":\"circle\"},\"mode\":\"lines\",\"name\":\"Poverty\",\"orientation\":\"v\",\"showlegend\":true,\"x\":[0,5,10,15,20,25,30,35,40,45,50,55,60,65,70,75,80,85,90,95,100],\"xaxis\":\"x\",\"y\":[0.0,-0.008393998391899471,-0.013851114418243271,-0.016235414100414958,-0.030631893766748686,-0.032872542483411316,-0.03969809973869909,-0.04881209653888785,-0.06259122407816642,-0.0735897089911679,-0.07936985121445617,-0.08312755736426847,-0.0875256370436257,-0.09533928549176107,-0.0982014091849942,-0.10197779377588578,-0.106088754858924,-0.11518504203849644,-0.126266905198944,-0.1347428758116962,-0.13800153990321007],\"yaxis\":\"y\",\"type\":\"scatter\"},{\"customdata\":[[\"A \\u00a30 carbon dividend would cut deep poverty by -0.0%\"],[\"A \\u00a35 carbon dividend would cut deep poverty by 2.8%\"],[\"A \\u00a310 carbon dividend would cut deep poverty by 3.5%\"],[\"A \\u00a315 carbon dividend would cut deep poverty by 4.6%\"],[\"A \\u00a320 carbon dividend would cut deep poverty by 4.6%\"],[\"A \\u00a325 carbon dividend would cut deep poverty by 5.3%\"],[\"A \\u00a330 carbon dividend would cut deep poverty by 6.7%\"],[\"A \\u00a335 carbon dividend would cut deep poverty by 8.4%\"],[\"A \\u00a340 carbon dividend would cut deep poverty by 8.7%\"],[\"A \\u00a345 carbon dividend would cut deep poverty by 10.3%\"],[\"A \\u00a350 carbon dividend would cut deep poverty by 12.1%\"],[\"A \\u00a355 carbon dividend would cut deep poverty by 13.2%\"],[\"A \\u00a360 carbon dividend would cut deep poverty by 14.8%\"],[\"A \\u00a365 carbon dividend would cut deep poverty by 14.5%\"],[\"A \\u00a370 carbon dividend would cut deep poverty by 16.2%\"],[\"A \\u00a375 carbon dividend would cut deep poverty by 16.7%\"],[\"A \\u00a380 carbon dividend would cut deep poverty by 17.1%\"],[\"A \\u00a385 carbon dividend would cut deep poverty by 18.1%\"],[\"A \\u00a390 carbon dividend would cut deep poverty by 19.2%\"],[\"A \\u00a395 carbon dividend would cut deep poverty by 18.8%\"],[\"A \\u00a3100 carbon dividend would cut deep poverty by 19.1%\"]],\"hovertemplate\":\"%{customdata[0]}<extra></extra>\",\"legendgroup\":\"Deep poverty\",\"line\":{\"color\":\"#0F4AA1\",\"dash\":\"solid\"},\"marker\":{\"symbol\":\"circle\"},\"mode\":\"lines\",\"name\":\"Deep poverty\",\"orientation\":\"v\",\"showlegend\":true,\"x\":[0,5,10,15,20,25,30,35,40,45,50,55,60,65,70,75,80,85,90,95,100],\"xaxis\":\"x\",\"y\":[0.0,-0.027720822437932946,-0.03530824779780184,-0.04643087449348593,-0.04628315705090713,-0.05319973706522252,-0.06687711361795312,-0.08396951245300799,-0.08726457887670391,-0.10286316898965564,-0.12085238078081983,-0.13212319442230525,-0.14841779395296628,-0.14506291896346002,-0.1624273459205876,-0.1672465598759736,-0.17092927473253328,-0.18133698114073005,-0.19163841140544957,-0.18807276827421993,-0.19134166121857055],\"yaxis\":\"y\",\"type\":\"scatter\"}],                        {\"template\":{\"data\":{\"bar\":[{\"error_x\":{\"color\":\"#2a3f5f\"},\"error_y\":{\"color\":\"#2a3f5f\"},\"marker\":{\"line\":{\"color\":\"#E5ECF6\",\"width\":0.5},\"pattern\":{\"fillmode\":\"overlay\",\"size\":10,\"solidity\":0.2}},\"type\":\"bar\"}],\"barpolar\":[{\"marker\":{\"line\":{\"color\":\"#E5ECF6\",\"width\":0.5},\"pattern\":{\"fillmode\":\"overlay\",\"size\":10,\"solidity\":0.2}},\"type\":\"barpolar\"}],\"carpet\":[{\"aaxis\":{\"endlinecolor\":\"#2a3f5f\",\"gridcolor\":\"white\",\"linecolor\":\"white\",\"minorgridcolor\":\"white\",\"startlinecolor\":\"#2a3f5f\"},\"baxis\":{\"endlinecolor\":\"#2a3f5f\",\"gridcolor\":\"white\",\"linecolor\":\"white\",\"minorgridcolor\":\"white\",\"startlinecolor\":\"#2a3f5f\"},\"type\":\"carpet\"}],\"choropleth\":[{\"colorbar\":{\"outlinewidth\":0,\"ticks\":\"\"},\"type\":\"choropleth\"}],\"contour\":[{\"colorbar\":{\"outlinewidth\":0,\"ticks\":\"\"},\"colorscale\":[[0.0,\"#0d0887\"],[0.1111111111111111,\"#46039f\"],[0.2222222222222222,\"#7201a8\"],[0.3333333333333333,\"#9c179e\"],[0.4444444444444444,\"#bd3786\"],[0.5555555555555556,\"#d8576b\"],[0.6666666666666666,\"#ed7953\"],[0.7777777777777778,\"#fb9f3a\"],[0.8888888888888888,\"#fdca26\"],[1.0,\"#f0f921\"]],\"type\":\"contour\"}],\"contourcarpet\":[{\"colorbar\":{\"outlinewidth\":0,\"ticks\":\"\"},\"type\":\"contourcarpet\"}],\"heatmap\":[{\"colorbar\":{\"outlinewidth\":0,\"ticks\":\"\"},\"colorscale\":[[0.0,\"#0d0887\"],[0.1111111111111111,\"#46039f\"],[0.2222222222222222,\"#7201a8\"],[0.3333333333333333,\"#9c179e\"],[0.4444444444444444,\"#bd3786\"],[0.5555555555555556,\"#d8576b\"],[0.6666666666666666,\"#ed7953\"],[0.7777777777777778,\"#fb9f3a\"],[0.8888888888888888,\"#fdca26\"],[1.0,\"#f0f921\"]],\"type\":\"heatmap\"}],\"heatmapgl\":[{\"colorbar\":{\"outlinewidth\":0,\"ticks\":\"\"},\"colorscale\":[[0.0,\"#0d0887\"],[0.1111111111111111,\"#46039f\"],[0.2222222222222222,\"#7201a8\"],[0.3333333333333333,\"#9c179e\"],[0.4444444444444444,\"#bd3786\"],[0.5555555555555556,\"#d8576b\"],[0.6666666666666666,\"#ed7953\"],[0.7777777777777778,\"#fb9f3a\"],[0.8888888888888888,\"#fdca26\"],[1.0,\"#f0f921\"]],\"type\":\"heatmapgl\"}],\"histogram\":[{\"marker\":{\"pattern\":{\"fillmode\":\"overlay\",\"size\":10,\"solidity\":0.2}},\"type\":\"histogram\"}],\"histogram2d\":[{\"colorbar\":{\"outlinewidth\":0,\"ticks\":\"\"},\"colorscale\":[[0.0,\"#0d0887\"],[0.1111111111111111,\"#46039f\"],[0.2222222222222222,\"#7201a8\"],[0.3333333333333333,\"#9c179e\"],[0.4444444444444444,\"#bd3786\"],[0.5555555555555556,\"#d8576b\"],[0.6666666666666666,\"#ed7953\"],[0.7777777777777778,\"#fb9f3a\"],[0.8888888888888888,\"#fdca26\"],[1.0,\"#f0f921\"]],\"type\":\"histogram2d\"}],\"histogram2dcontour\":[{\"colorbar\":{\"outlinewidth\":0,\"ticks\":\"\"},\"colorscale\":[[0.0,\"#0d0887\"],[0.1111111111111111,\"#46039f\"],[0.2222222222222222,\"#7201a8\"],[0.3333333333333333,\"#9c179e\"],[0.4444444444444444,\"#bd3786\"],[0.5555555555555556,\"#d8576b\"],[0.6666666666666666,\"#ed7953\"],[0.7777777777777778,\"#fb9f3a\"],[0.8888888888888888,\"#fdca26\"],[1.0,\"#f0f921\"]],\"type\":\"histogram2dcontour\"}],\"mesh3d\":[{\"colorbar\":{\"outlinewidth\":0,\"ticks\":\"\"},\"type\":\"mesh3d\"}],\"parcoords\":[{\"line\":{\"colorbar\":{\"outlinewidth\":0,\"ticks\":\"\"}},\"type\":\"parcoords\"}],\"pie\":[{\"automargin\":true,\"type\":\"pie\"}],\"scatter\":[{\"marker\":{\"colorbar\":{\"outlinewidth\":0,\"ticks\":\"\"}},\"type\":\"scatter\"}],\"scatter3d\":[{\"line\":{\"colorbar\":{\"outlinewidth\":0,\"ticks\":\"\"}},\"marker\":{\"colorbar\":{\"outlinewidth\":0,\"ticks\":\"\"}},\"type\":\"scatter3d\"}],\"scattercarpet\":[{\"marker\":{\"colorbar\":{\"outlinewidth\":0,\"ticks\":\"\"}},\"type\":\"scattercarpet\"}],\"scattergeo\":[{\"marker\":{\"colorbar\":{\"outlinewidth\":0,\"ticks\":\"\"}},\"type\":\"scattergeo\"}],\"scattergl\":[{\"marker\":{\"colorbar\":{\"outlinewidth\":0,\"ticks\":\"\"}},\"type\":\"scattergl\"}],\"scattermapbox\":[{\"marker\":{\"colorbar\":{\"outlinewidth\":0,\"ticks\":\"\"}},\"type\":\"scattermapbox\"}],\"scatterpolar\":[{\"marker\":{\"colorbar\":{\"outlinewidth\":0,\"ticks\":\"\"}},\"type\":\"scatterpolar\"}],\"scatterpolargl\":[{\"marker\":{\"colorbar\":{\"outlinewidth\":0,\"ticks\":\"\"}},\"type\":\"scatterpolargl\"}],\"scatterternary\":[{\"marker\":{\"colorbar\":{\"outlinewidth\":0,\"ticks\":\"\"}},\"type\":\"scatterternary\"}],\"surface\":[{\"colorbar\":{\"outlinewidth\":0,\"ticks\":\"\"},\"colorscale\":[[0.0,\"#0d0887\"],[0.1111111111111111,\"#46039f\"],[0.2222222222222222,\"#7201a8\"],[0.3333333333333333,\"#9c179e\"],[0.4444444444444444,\"#bd3786\"],[0.5555555555555556,\"#d8576b\"],[0.6666666666666666,\"#ed7953\"],[0.7777777777777778,\"#fb9f3a\"],[0.8888888888888888,\"#fdca26\"],[1.0,\"#f0f921\"]],\"type\":\"surface\"}],\"table\":[{\"cells\":{\"fill\":{\"color\":\"#EBF0F8\"},\"line\":{\"color\":\"white\"}},\"header\":{\"fill\":{\"color\":\"#C8D4E3\"},\"line\":{\"color\":\"white\"}},\"type\":\"table\"}]},\"layout\":{\"annotationdefaults\":{\"arrowcolor\":\"#2a3f5f\",\"arrowhead\":0,\"arrowwidth\":1},\"autotypenumbers\":\"strict\",\"coloraxis\":{\"colorbar\":{\"outlinewidth\":0,\"ticks\":\"\"}},\"colorscale\":{\"diverging\":[[0,\"#8e0152\"],[0.1,\"#c51b7d\"],[0.2,\"#de77ae\"],[0.3,\"#f1b6da\"],[0.4,\"#fde0ef\"],[0.5,\"#f7f7f7\"],[0.6,\"#e6f5d0\"],[0.7,\"#b8e186\"],[0.8,\"#7fbc41\"],[0.9,\"#4d9221\"],[1,\"#276419\"]],\"sequential\":[[0.0,\"#0d0887\"],[0.1111111111111111,\"#46039f\"],[0.2222222222222222,\"#7201a8\"],[0.3333333333333333,\"#9c179e\"],[0.4444444444444444,\"#bd3786\"],[0.5555555555555556,\"#d8576b\"],[0.6666666666666666,\"#ed7953\"],[0.7777777777777778,\"#fb9f3a\"],[0.8888888888888888,\"#fdca26\"],[1.0,\"#f0f921\"]],\"sequentialminus\":[[0.0,\"#0d0887\"],[0.1111111111111111,\"#46039f\"],[0.2222222222222222,\"#7201a8\"],[0.3333333333333333,\"#9c179e\"],[0.4444444444444444,\"#bd3786\"],[0.5555555555555556,\"#d8576b\"],[0.6666666666666666,\"#ed7953\"],[0.7777777777777778,\"#fb9f3a\"],[0.8888888888888888,\"#fdca26\"],[1.0,\"#f0f921\"]]},\"colorway\":[\"#636efa\",\"#EF553B\",\"#00cc96\",\"#ab63fa\",\"#FFA15A\",\"#19d3f3\",\"#FF6692\",\"#B6E880\",\"#FF97FF\",\"#FECB52\"],\"font\":{\"color\":\"#2a3f5f\"},\"geo\":{\"bgcolor\":\"white\",\"lakecolor\":\"white\",\"landcolor\":\"#E5ECF6\",\"showlakes\":true,\"showland\":true,\"subunitcolor\":\"white\"},\"hoverlabel\":{\"align\":\"left\"},\"hovermode\":\"closest\",\"mapbox\":{\"style\":\"light\"},\"paper_bgcolor\":\"white\",\"plot_bgcolor\":\"#E5ECF6\",\"polar\":{\"angularaxis\":{\"gridcolor\":\"white\",\"linecolor\":\"white\",\"ticks\":\"\"},\"bgcolor\":\"#E5ECF6\",\"radialaxis\":{\"gridcolor\":\"white\",\"linecolor\":\"white\",\"ticks\":\"\"}},\"scene\":{\"xaxis\":{\"backgroundcolor\":\"#E5ECF6\",\"gridcolor\":\"white\",\"gridwidth\":2,\"linecolor\":\"white\",\"showbackground\":true,\"ticks\":\"\",\"zerolinecolor\":\"white\"},\"yaxis\":{\"backgroundcolor\":\"#E5ECF6\",\"gridcolor\":\"white\",\"gridwidth\":2,\"linecolor\":\"white\",\"showbackground\":true,\"ticks\":\"\",\"zerolinecolor\":\"white\"},\"zaxis\":{\"backgroundcolor\":\"#E5ECF6\",\"gridcolor\":\"white\",\"gridwidth\":2,\"linecolor\":\"white\",\"showbackground\":true,\"ticks\":\"\",\"zerolinecolor\":\"white\"}},\"shapedefaults\":{\"line\":{\"color\":\"#2a3f5f\"}},\"ternary\":{\"aaxis\":{\"gridcolor\":\"white\",\"linecolor\":\"white\",\"ticks\":\"\"},\"baxis\":{\"gridcolor\":\"white\",\"linecolor\":\"white\",\"ticks\":\"\"},\"bgcolor\":\"#E5ECF6\",\"caxis\":{\"gridcolor\":\"white\",\"linecolor\":\"white\",\"ticks\":\"\"}},\"title\":{\"x\":0.05},\"xaxis\":{\"automargin\":true,\"gridcolor\":\"white\",\"linecolor\":\"white\",\"ticks\":\"\",\"title\":{\"standoff\":15},\"zerolinecolor\":\"white\",\"zerolinewidth\":2},\"yaxis\":{\"automargin\":true,\"gridcolor\":\"white\",\"linecolor\":\"white\",\"ticks\":\"\",\"title\":{\"standoff\":15},\"zerolinecolor\":\"white\",\"zerolinewidth\":2}}},\"xaxis\":{\"anchor\":\"y\",\"domain\":[0.0,1.0],\"title\":{\"text\":\"Price per tonne of carbon emissions\",\"font\":{\"size\":16,\"color\":\"black\"}},\"tickprefix\":\"\\u00a3\",\"tickfont\":{\"size\":14}},\"yaxis\":{\"anchor\":\"x\",\"domain\":[0.0,1.0],\"title\":{\"text\":\"Poverty impact\",\"font\":{\"size\":16,\"color\":\"black\"}},\"tickformat\":\".0%\",\"tickfont\":{\"size\":14}},\"legend\":{\"title\":{\"text\":\"\"},\"tracegroupgap\":0},\"margin\":{\"t\":60},\"title\":{\"text\":\"Impact of carbon dividends on poverty\",\"font\":{\"size\":20}},\"images\":[{\"sizex\":0.12,\"sizey\":0.12,\"source\":\"https://raw.githubusercontent.com/UBICenter/ubicenter.org/master/assets/images/logos/wide-blue.jpg\",\"x\":0.98,\"xanchor\":\"right\",\"xref\":\"paper\",\"y\":-0.12,\"yanchor\":\"bottom\",\"yref\":\"paper\"}],\"hoverlabel\":{\"align\":\"right\"},\"font\":{\"family\":\"Roboto\"},\"plot_bgcolor\":\"white\",\"paper_bgcolor\":\"white\",\"width\":800,\"height\":600},                        {\"displayModeBar\": false, \"responsive\": true}                    ).then(function(){\n",
                     "                            \n",
                     "var gd = document.getElementById('b018d260-17cb-4643-9f42-f681731c7d55');\n",
                     "var x = new MutationObserver(function (mutations, observer) {{\n",
                     "        var display = window.getComputedStyle(gd).display;\n",
                     "        if (!display || display === 'none') {{\n",
                     "            console.log([gd, 'removed!']);\n",
                     "            Plotly.purge(gd);\n",
                     "            observer.disconnect();\n",
                     "        }}\n",
                     "}});\n",
                     "\n",
                     "// Listen for the removal of the full notebook cells\n",
                     "var notebookContainer = gd.closest('#notebook-container');\n",
                     "if (notebookContainer) {{\n",
                     "    x.observe(notebookContainer, {childList: true});\n",
                     "}}\n",
                     "\n",
                     "// Listen for the clearing of the current output cell\n",
                     "var outputEl = gd.closest('.output');\n",
                     "if (outputEl) {{\n",
                     "    x.observe(outputEl, {childList: true});\n",
                     "}}\n",
                     "\n",
                     "                        })                };                });            </script>        </div>"
                  ]
               },
               "metadata": {},
               "output_type": "display_data"
            }
         ],
         "source": [
            "pov_deep_pov = df.melt(\"carbon_tax\", [\"poverty\", \"deep_poverty\"], value_name=\"poverty_impact\")\n",
            "pov_deep_pov.variable = pov_deep_pov.variable.map(LABELS)\n",
            "pov_deep_pov[\"hover\"] = (\n",
            "    \"A £\"\n",
            "    + pov_deep_pov.carbon_tax.astype(str)\n",
            "    + \" carbon dividend would cut \"\n",
            "    + pov_deep_pov.variable.str.lower()\n",
            "    + \" by \"\n",
            "    + (-100 * pov_deep_pov.poverty_impact).round(1).astype(str)\n",
            "    + \"%\"\n",
            ")\n",
            "\n",
            "fig = (\n",
            "    px.line(\n",
            "        pov_deep_pov,\n",
            "        x=\"carbon_tax\",\n",
            "        y=\"poverty_impact\",\n",
            "        color=\"variable\",\n",
            "        color_discrete_sequence=[LIGHT_BLUE, DARK_BLUE],\n",
            "        labels=LABELS,\n",
            "        custom_data=[\"hover\"],\n",
            "    )\n",
            "    .update_layout(\n",
            "        title=\"Impact of carbon dividends on poverty\",\n",
            "        yaxis_tickformat=\".0%\",\n",
            "        xaxis_tickprefix=\"£\",\n",
            "        legend_title=\"\",\n",
            "    )\n",
            "    .update_traces(hovertemplate=HOVER_TEMPLATE)\n",
            ")\n",
            "format_fig(fig)\n"
         ]
      },
      {
         "cell_type": "code",
         "execution_count": 62,
         "metadata": {},
         "outputs": [
            {
               "data": {
                  "application/vnd.plotly.v1+json": {
                     "config": {
                        "plotlyServerURL": "https://plot.ly"
                     },
                     "data": [
                        {
                           "alignmentgroup": "True",
                           "customdata": [
                              [
                                 "A £35 carbon dividend would cut poverty by 5.0%"
                              ],
                              [
                                 "A £35 carbon dividend would cut poverty among children by 5.9%"
                              ],
                              [
                                 "A £35 carbon dividend would cut poverty among adults by 4.6%"
                              ]
                           ],
                           "hovertemplate": "%{customdata[0]}<extra></extra>",
                           "legendgroup": "Poverty",
                           "marker": {
                              "color": "#49A6E2",
                              "pattern": {
                                 "shape": ""
                              }
                           },
                           "name": "Poverty",
                           "offsetgroup": "Poverty",
                           "orientation": "v",
                           "showlegend": true,
                           "textposition": "auto",
                           "type": "bar",
                           "x": [
                              "All",
                              "Children",
                              "Adults"
                           ],
                           "xaxis": "x",
                           "y": [
                              -0.05035964181553754,
                              -0.05862853051599748,
                              -0.04627744652439281
                           ],
                           "yaxis": "y"
                        },
                        {
                           "alignmentgroup": "True",
                           "customdata": [
                              [
                                 "A £35 carbon dividend would cut deep poverty by 8.3%"
                              ],
                              [
                                 "A £35 carbon dividend would cut deep poverty among children by 16.7%"
                              ],
                              [
                                 "A £35 carbon dividend would cut deep poverty among adults by 5.6%"
                              ]
                           ],
                           "hovertemplate": "%{customdata[0]}<extra></extra>",
                           "legendgroup": "Deep poverty",
                           "marker": {
                              "color": "#0F4AA1",
                              "pattern": {
                                 "shape": ""
                              }
                           },
                           "name": "Deep poverty",
                           "offsetgroup": "Deep poverty",
                           "orientation": "v",
                           "showlegend": true,
                           "textposition": "auto",
                           "type": "bar",
                           "x": [
                              "All",
                              "Children",
                              "Adults"
                           ],
                           "xaxis": "x",
                           "y": [
                              -0.08259092519998101,
                              -0.16662134658149563,
                              -0.05588605694673254
                           ],
                           "yaxis": "y"
                        }
                     ],
                     "frames": [
                        {
                           "data": [
                              {
                                 "alignmentgroup": "True",
                                 "customdata": [
                                    [
                                       "A £0 carbon dividend would cut poverty by -0.0%"
                                    ],
                                    [
                                       "A £0 carbon dividend would cut poverty among children by -0.0%"
                                    ],
                                    [
                                       "A £0 carbon dividend would cut poverty among adults by -0.0%"
                                    ]
                                 ],
                                 "hovertemplate": "%{customdata[0]}<extra></extra>",
                                 "legendgroup": "Poverty",
                                 "marker": {
                                    "color": "#49A6E2",
                                    "pattern": {
                                       "shape": ""
                                    }
                                 },
                                 "name": "Poverty",
                                 "offsetgroup": "Poverty",
                                 "orientation": "v",
                                 "showlegend": true,
                                 "textposition": "auto",
                                 "type": "bar",
                                 "x": [
                                    "All",
                                    "Children",
                                    "Adults"
                                 ],
                                 "xaxis": "x",
                                 "y": [
                                    0,
                                    0,
                                    0
                                 ],
                                 "yaxis": "y"
                              },
                              {
                                 "alignmentgroup": "True",
                                 "customdata": [
                                    [
                                       "A £0 carbon dividend would cut deep poverty by -0.0%"
                                    ],
                                    [
                                       "A £0 carbon dividend would cut deep poverty among children by -0.0%"
                                    ],
                                    [
                                       "A £0 carbon dividend would cut deep poverty among adults by -0.0%"
                                    ]
                                 ],
                                 "hovertemplate": "%{customdata[0]}<extra></extra>",
                                 "legendgroup": "Deep poverty",
                                 "marker": {
                                    "color": "#0F4AA1",
                                    "pattern": {
                                       "shape": ""
                                    }
                                 },
                                 "name": "Deep poverty",
                                 "offsetgroup": "Deep poverty",
                                 "orientation": "v",
                                 "showlegend": true,
                                 "textposition": "auto",
                                 "type": "bar",
                                 "x": [
                                    "All",
                                    "Children",
                                    "Adults"
                                 ],
                                 "xaxis": "x",
                                 "y": [
                                    0,
                                    0,
                                    0
                                 ],
                                 "yaxis": "y"
                              }
                           ],
                           "name": "0"
                        },
                        {
                           "data": [
                              {
                                 "alignmentgroup": "True",
                                 "customdata": [
                                    [
                                       "A £5 carbon dividend would cut poverty by 0.6%"
                                    ],
                                    [
                                       "A £5 carbon dividend would cut poverty among children by 0.7%"
                                    ],
                                    [
                                       "A £5 carbon dividend would cut poverty among adults by 0.6%"
                                    ]
                                 ],
                                 "hovertemplate": "%{customdata[0]}<extra></extra>",
                                 "legendgroup": "Poverty",
                                 "marker": {
                                    "color": "#49A6E2",
                                    "pattern": {
                                       "shape": ""
                                    }
                                 },
                                 "name": "Poverty",
                                 "offsetgroup": "Poverty",
                                 "orientation": "v",
                                 "showlegend": true,
                                 "textposition": "auto",
                                 "type": "bar",
                                 "x": [
                                    "All",
                                    "Children",
                                    "Adults"
                                 ],
                                 "xaxis": "x",
                                 "y": [
                                    -0.006376334018188157,
                                    -0.006959971889072825,
                                    -0.006088202945856103
                                 ],
                                 "yaxis": "y"
                              },
                              {
                                 "alignmentgroup": "True",
                                 "customdata": [
                                    [
                                       "A £5 carbon dividend would cut deep poverty by 2.3%"
                                    ],
                                    [
                                       "A £5 carbon dividend would cut deep poverty among children by 3.7%"
                                    ],
                                    [
                                       "A £5 carbon dividend would cut deep poverty among adults by 1.8%"
                                    ]
                                 ],
                                 "hovertemplate": "%{customdata[0]}<extra></extra>",
                                 "legendgroup": "Deep poverty",
                                 "marker": {
                                    "color": "#0F4AA1",
                                    "pattern": {
                                       "shape": ""
                                    }
                                 },
                                 "name": "Deep poverty",
                                 "offsetgroup": "Deep poverty",
                                 "orientation": "v",
                                 "showlegend": true,
                                 "textposition": "auto",
                                 "type": "bar",
                                 "x": [
                                    "All",
                                    "Children",
                                    "Adults"
                                 ],
                                 "xaxis": "x",
                                 "y": [
                                    -0.022791192436966035,
                                    -0.03731579414142561,
                                    -0.018175273956830384
                                 ],
                                 "yaxis": "y"
                              }
                           ],
                           "name": "5"
                        },
                        {
                           "data": [
                              {
                                 "alignmentgroup": "True",
                                 "customdata": [
                                    [
                                       "A £10 carbon dividend would cut poverty by 1.1%"
                                    ],
                                    [
                                       "A £10 carbon dividend would cut poverty among children by 1.1%"
                                    ],
                                    [
                                       "A £10 carbon dividend would cut poverty among adults by 1.1%"
                                    ]
                                 ],
                                 "hovertemplate": "%{customdata[0]}<extra></extra>",
                                 "legendgroup": "Poverty",
                                 "marker": {
                                    "color": "#49A6E2",
                                    "pattern": {
                                       "shape": ""
                                    }
                                 },
                                 "name": "Poverty",
                                 "offsetgroup": "Poverty",
                                 "orientation": "v",
                                 "showlegend": true,
                                 "textposition": "auto",
                                 "type": "bar",
                                 "x": [
                                    "All",
                                    "Children",
                                    "Adults"
                                 ],
                                 "xaxis": "x",
                                 "y": [
                                    -0.011290252916857257,
                                    -0.01095387397380243,
                                    -0.011456316893181162
                                 ],
                                 "yaxis": "y"
                              },
                              {
                                 "alignmentgroup": "True",
                                 "customdata": [
                                    [
                                       "A £10 carbon dividend would cut deep poverty by 4.7%"
                                    ],
                                    [
                                       "A £10 carbon dividend would cut deep poverty among children by 10.5%"
                                    ],
                                    [
                                       "A £10 carbon dividend would cut deep poverty among adults by 2.9%"
                                    ]
                                 ],
                                 "hovertemplate": "%{customdata[0]}<extra></extra>",
                                 "legendgroup": "Deep poverty",
                                 "marker": {
                                    "color": "#0F4AA1",
                                    "pattern": {
                                       "shape": ""
                                    }
                                 },
                                 "name": "Deep poverty",
                                 "offsetgroup": "Deep poverty",
                                 "orientation": "v",
                                 "showlegend": true,
                                 "textposition": "auto",
                                 "type": "bar",
                                 "x": [
                                    "All",
                                    "Children",
                                    "Adults"
                                 ],
                                 "xaxis": "x",
                                 "y": [
                                    -0.04701262058204725,
                                    -0.10483412965419103,
                                    -0.02863694476620182
                                 ],
                                 "yaxis": "y"
                              }
                           ],
                           "name": "10"
                        },
                        {
                           "data": [
                              {
                                 "alignmentgroup": "True",
                                 "customdata": [
                                    [
                                       "A £15 carbon dividend would cut poverty by 2.1%"
                                    ],
                                    [
                                       "A £15 carbon dividend would cut poverty among children by 2.1%"
                                    ],
                                    [
                                       "A £15 carbon dividend would cut poverty among adults by 2.2%"
                                    ]
                                 ],
                                 "hovertemplate": "%{customdata[0]}<extra></extra>",
                                 "legendgroup": "Poverty",
                                 "marker": {
                                    "color": "#49A6E2",
                                    "pattern": {
                                       "shape": ""
                                    }
                                 },
                                 "name": "Poverty",
                                 "offsetgroup": "Poverty",
                                 "orientation": "v",
                                 "showlegend": true,
                                 "textposition": "auto",
                                 "type": "bar",
                                 "x": [
                                    "All",
                                    "Children",
                                    "Adults"
                                 ],
                                 "xaxis": "x",
                                 "y": [
                                    -0.0213352223969564,
                                    -0.02069470203882018,
                                    -0.021651435286569987
                                 ],
                                 "yaxis": "y"
                              },
                              {
                                 "alignmentgroup": "True",
                                 "customdata": [
                                    [
                                       "A £15 carbon dividend would cut deep poverty by 5.7%"
                                    ],
                                    [
                                       "A £15 carbon dividend would cut deep poverty among children by 11.6%"
                                    ],
                                    [
                                       "A £15 carbon dividend would cut deep poverty among adults by 3.7%"
                                    ]
                                 ],
                                 "hovertemplate": "%{customdata[0]}<extra></extra>",
                                 "legendgroup": "Deep poverty",
                                 "marker": {
                                    "color": "#0F4AA1",
                                    "pattern": {
                                       "shape": ""
                                    }
                                 },
                                 "name": "Deep poverty",
                                 "offsetgroup": "Deep poverty",
                                 "orientation": "v",
                                 "showlegend": true,
                                 "textposition": "auto",
                                 "type": "bar",
                                 "x": [
                                    "All",
                                    "Children",
                                    "Adults"
                                 ],
                                 "xaxis": "x",
                                 "y": [
                                    -0.05651327916227733,
                                    -0.1164296364323607,
                                    -0.037471860580695404
                                 ],
                                 "yaxis": "y"
                              }
                           ],
                           "name": "15"
                        },
                        {
                           "data": [
                              {
                                 "alignmentgroup": "True",
                                 "customdata": [
                                    [
                                       "A £20 carbon dividend would cut poverty by 2.9%"
                                    ],
                                    [
                                       "A £20 carbon dividend would cut poverty among children by 3.4%"
                                    ],
                                    [
                                       "A £20 carbon dividend would cut poverty among adults by 2.7%"
                                    ]
                                 ],
                                 "hovertemplate": "%{customdata[0]}<extra></extra>",
                                 "legendgroup": "Poverty",
                                 "marker": {
                                    "color": "#49A6E2",
                                    "pattern": {
                                       "shape": ""
                                    }
                                 },
                                 "name": "Poverty",
                                 "offsetgroup": "Poverty",
                                 "orientation": "v",
                                 "showlegend": true,
                                 "textposition": "auto",
                                 "type": "bar",
                                 "x": [
                                    "All",
                                    "Children",
                                    "Adults"
                                 ],
                                 "xaxis": "x",
                                 "y": [
                                    -0.028875557727584766,
                                    -0.033625854784534615,
                                    -0.026530425149329018
                                 ],
                                 "yaxis": "y"
                              },
                              {
                                 "alignmentgroup": "True",
                                 "customdata": [
                                    [
                                       "A £20 carbon dividend would cut deep poverty by 6.6%"
                                    ],
                                    [
                                       "A £20 carbon dividend would cut deep poverty among children by 12.8%"
                                    ],
                                    [
                                       "A £20 carbon dividend would cut deep poverty among adults by 4.7%"
                                    ]
                                 ],
                                 "hovertemplate": "%{customdata[0]}<extra></extra>",
                                 "legendgroup": "Deep poverty",
                                 "marker": {
                                    "color": "#0F4AA1",
                                    "pattern": {
                                       "shape": ""
                                    }
                                 },
                                 "name": "Deep poverty",
                                 "offsetgroup": "Deep poverty",
                                 "orientation": "v",
                                 "showlegend": true,
                                 "textposition": "auto",
                                 "type": "bar",
                                 "x": [
                                    "All",
                                    "Children",
                                    "Adults"
                                 ],
                                 "xaxis": "x",
                                 "y": [
                                    -0.0661356642667662,
                                    -0.12750493622348402,
                                    -0.04663250939192409
                                 ],
                                 "yaxis": "y"
                              }
                           ],
                           "name": "20"
                        },
                        {
                           "data": [
                              {
                                 "alignmentgroup": "True",
                                 "customdata": [
                                    [
                                       "A £25 carbon dividend would cut poverty by 3.6%"
                                    ],
                                    [
                                       "A £25 carbon dividend would cut poverty among children by 4.4%"
                                    ],
                                    [
                                       "A £25 carbon dividend would cut poverty among adults by 3.2%"
                                    ]
                                 ],
                                 "hovertemplate": "%{customdata[0]}<extra></extra>",
                                 "legendgroup": "Poverty",
                                 "marker": {
                                    "color": "#49A6E2",
                                    "pattern": {
                                       "shape": ""
                                    }
                                 },
                                 "name": "Poverty",
                                 "offsetgroup": "Poverty",
                                 "orientation": "v",
                                 "showlegend": true,
                                 "textposition": "auto",
                                 "type": "bar",
                                 "x": [
                                    "All",
                                    "Children",
                                    "Adults"
                                 ],
                                 "xaxis": "x",
                                 "y": [
                                    -0.03581657919896852,
                                    -0.043837125837461355,
                                    -0.031856985726844256
                                 ],
                                 "yaxis": "y"
                              },
                              {
                                 "alignmentgroup": "True",
                                 "customdata": [
                                    [
                                       "A £25 carbon dividend would cut deep poverty by 8.1%"
                                    ],
                                    [
                                       "A £25 carbon dividend would cut deep poverty among children by 16.0%"
                                    ],
                                    [
                                       "A £25 carbon dividend would cut deep poverty among adults by 5.6%"
                                    ]
                                 ],
                                 "hovertemplate": "%{customdata[0]}<extra></extra>",
                                 "legendgroup": "Deep poverty",
                                 "marker": {
                                    "color": "#0F4AA1",
                                    "pattern": {
                                       "shape": ""
                                    }
                                 },
                                 "name": "Deep poverty",
                                 "offsetgroup": "Deep poverty",
                                 "orientation": "v",
                                 "showlegend": true,
                                 "textposition": "auto",
                                 "type": "bar",
                                 "x": [
                                    "All",
                                    "Children",
                                    "Adults"
                                 ],
                                 "xaxis": "x",
                                 "y": [
                                    -0.08118312944068207,
                                    -0.16010289883615403,
                                    -0.056102426409167294
                                 ],
                                 "yaxis": "y"
                              }
                           ],
                           "name": "25"
                        },
                        {
                           "data": [
                              {
                                 "alignmentgroup": "True",
                                 "customdata": [
                                    [
                                       "A £30 carbon dividend would cut poverty by 4.6%"
                                    ],
                                    [
                                       "A £30 carbon dividend would cut poverty among children by 5.2%"
                                    ],
                                    [
                                       "A £30 carbon dividend would cut poverty among adults by 4.3%"
                                    ]
                                 ],
                                 "hovertemplate": "%{customdata[0]}<extra></extra>",
                                 "legendgroup": "Poverty",
                                 "marker": {
                                    "color": "#49A6E2",
                                    "pattern": {
                                       "shape": ""
                                    }
                                 },
                                 "name": "Poverty",
                                 "offsetgroup": "Poverty",
                                 "orientation": "v",
                                 "showlegend": true,
                                 "textposition": "auto",
                                 "type": "bar",
                                 "x": [
                                    "All",
                                    "Children",
                                    "Adults"
                                 ],
                                 "xaxis": "x",
                                 "y": [
                                    -0.046086640212807284,
                                    -0.05189507605645427,
                                    -0.04321912435804276
                                 ],
                                 "yaxis": "y"
                              },
                              {
                                 "alignmentgroup": "True",
                                 "customdata": [
                                    [
                                       "A £30 carbon dividend would cut deep poverty by 8.8%"
                                    ],
                                    [
                                       "A £30 carbon dividend would cut deep poverty among children by 17.4%"
                                    ],
                                    [
                                       "A £30 carbon dividend would cut deep poverty among adults by 6.0%"
                                    ]
                                 ],
                                 "hovertemplate": "%{customdata[0]}<extra></extra>",
                                 "legendgroup": "Deep poverty",
                                 "marker": {
                                    "color": "#0F4AA1",
                                    "pattern": {
                                       "shape": ""
                                    }
                                 },
                                 "name": "Deep poverty",
                                 "offsetgroup": "Deep poverty",
                                 "orientation": "v",
                                 "showlegend": true,
                                 "textposition": "auto",
                                 "type": "bar",
                                 "x": [
                                    "All",
                                    "Children",
                                    "Adults"
                                 ],
                                 "xaxis": "x",
                                 "y": [
                                    -0.0878223840978124,
                                    -0.1744678480575368,
                                    -0.06028645530268417
                                 ],
                                 "yaxis": "y"
                              }
                           ],
                           "name": "30"
                        },
                        {
                           "data": [
                              {
                                 "alignmentgroup": "True",
                                 "customdata": [
                                    [
                                       "A £35 carbon dividend would cut poverty by 5.0%"
                                    ],
                                    [
                                       "A £35 carbon dividend would cut poverty among children by 5.9%"
                                    ],
                                    [
                                       "A £35 carbon dividend would cut poverty among adults by 4.6%"
                                    ]
                                 ],
                                 "hovertemplate": "%{customdata[0]}<extra></extra>",
                                 "legendgroup": "Poverty",
                                 "marker": {
                                    "color": "#49A6E2",
                                    "pattern": {
                                       "shape": ""
                                    }
                                 },
                                 "name": "Poverty",
                                 "offsetgroup": "Poverty",
                                 "orientation": "v",
                                 "showlegend": true,
                                 "textposition": "auto",
                                 "type": "bar",
                                 "x": [
                                    "All",
                                    "Children",
                                    "Adults"
                                 ],
                                 "xaxis": "x",
                                 "y": [
                                    -0.05035964181553754,
                                    -0.05862853051599748,
                                    -0.04627744652439281
                                 ],
                                 "yaxis": "y"
                              },
                              {
                                 "alignmentgroup": "True",
                                 "customdata": [
                                    [
                                       "A £35 carbon dividend would cut deep poverty by 8.3%"
                                    ],
                                    [
                                       "A £35 carbon dividend would cut deep poverty among children by 16.7%"
                                    ],
                                    [
                                       "A £35 carbon dividend would cut deep poverty among adults by 5.6%"
                                    ]
                                 ],
                                 "hovertemplate": "%{customdata[0]}<extra></extra>",
                                 "legendgroup": "Deep poverty",
                                 "marker": {
                                    "color": "#0F4AA1",
                                    "pattern": {
                                       "shape": ""
                                    }
                                 },
                                 "name": "Deep poverty",
                                 "offsetgroup": "Deep poverty",
                                 "orientation": "v",
                                 "showlegend": true,
                                 "textposition": "auto",
                                 "type": "bar",
                                 "x": [
                                    "All",
                                    "Children",
                                    "Adults"
                                 ],
                                 "xaxis": "x",
                                 "y": [
                                    -0.08259092519998101,
                                    -0.16662134658149563,
                                    -0.05588605694673254
                                 ],
                                 "yaxis": "y"
                              }
                           ],
                           "name": "35"
                        },
                        {
                           "data": [
                              {
                                 "alignmentgroup": "True",
                                 "customdata": [
                                    [
                                       "A £40 carbon dividend would cut poverty by 5.3%"
                                    ],
                                    [
                                       "A £40 carbon dividend would cut poverty among children by 6.3%"
                                    ],
                                    [
                                       "A £40 carbon dividend would cut poverty among adults by 4.8%"
                                    ]
                                 ],
                                 "hovertemplate": "%{customdata[0]}<extra></extra>",
                                 "legendgroup": "Poverty",
                                 "marker": {
                                    "color": "#49A6E2",
                                    "pattern": {
                                       "shape": ""
                                    }
                                 },
                                 "name": "Poverty",
                                 "offsetgroup": "Poverty",
                                 "orientation": "v",
                                 "showlegend": true,
                                 "textposition": "auto",
                                 "type": "bar",
                                 "x": [
                                    "All",
                                    "Children",
                                    "Adults"
                                 ],
                                 "xaxis": "x",
                                 "y": [
                                    -0.05281256093669329,
                                    -0.06309465170752948,
                                    -0.04773648553547338
                                 ],
                                 "yaxis": "y"
                              },
                              {
                                 "alignmentgroup": "True",
                                 "customdata": [
                                    [
                                       "A £40 carbon dividend would cut deep poverty by 9.8%"
                                    ],
                                    [
                                       "A £40 carbon dividend would cut deep poverty among children by 18.3%"
                                    ],
                                    [
                                       "A £40 carbon dividend would cut deep poverty among adults by 7.1%"
                                    ]
                                 ],
                                 "hovertemplate": "%{customdata[0]}<extra></extra>",
                                 "legendgroup": "Deep poverty",
                                 "marker": {
                                    "color": "#0F4AA1",
                                    "pattern": {
                                       "shape": ""
                                    }
                                 },
                                 "name": "Deep poverty",
                                 "offsetgroup": "Deep poverty",
                                 "orientation": "v",
                                 "showlegend": true,
                                 "textposition": "auto",
                                 "type": "bar",
                                 "x": [
                                    "All",
                                    "Children",
                                    "Adults"
                                 ],
                                 "xaxis": "x",
                                 "y": [
                                    -0.09806426310819094,
                                    -0.18299371272316656,
                                    -0.07107368367873024
                                 ],
                                 "yaxis": "y"
                              }
                           ],
                           "name": "40"
                        },
                        {
                           "data": [
                              {
                                 "alignmentgroup": "True",
                                 "customdata": [
                                    [
                                       "A £45 carbon dividend would cut poverty by 5.5%"
                                    ],
                                    [
                                       "A £45 carbon dividend would cut poverty among children by 6.9%"
                                    ],
                                    [
                                       "A £45 carbon dividend would cut poverty among adults by 4.9%"
                                    ]
                                 ],
                                 "hovertemplate": "%{customdata[0]}<extra></extra>",
                                 "legendgroup": "Poverty",
                                 "marker": {
                                    "color": "#49A6E2",
                                    "pattern": {
                                       "shape": ""
                                    }
                                 },
                                 "name": "Poverty",
                                 "offsetgroup": "Poverty",
                                 "orientation": "v",
                                 "showlegend": true,
                                 "textposition": "auto",
                                 "type": "bar",
                                 "x": [
                                    "All",
                                    "Children",
                                    "Adults"
                                 ],
                                 "xaxis": "x",
                                 "y": [
                                    -0.055493578647723085,
                                    -0.06890178555106041,
                                    -0.048874198333600294
                                 ],
                                 "yaxis": "y"
                              },
                              {
                                 "alignmentgroup": "True",
                                 "customdata": [
                                    [
                                       "A £45 carbon dividend would cut deep poverty by 12.1%"
                                    ],
                                    [
                                       "A £45 carbon dividend would cut deep poverty among children by 19.6%"
                                    ],
                                    [
                                       "A £45 carbon dividend would cut deep poverty among adults by 9.6%"
                                    ]
                                 ],
                                 "hovertemplate": "%{customdata[0]}<extra></extra>",
                                 "legendgroup": "Deep poverty",
                                 "marker": {
                                    "color": "#0F4AA1",
                                    "pattern": {
                                       "shape": ""
                                    }
                                 },
                                 "name": "Deep poverty",
                                 "offsetgroup": "Deep poverty",
                                 "orientation": "v",
                                 "showlegend": true,
                                 "textposition": "auto",
                                 "type": "bar",
                                 "x": [
                                    "All",
                                    "Children",
                                    "Adults"
                                 ],
                                 "xaxis": "x",
                                 "y": [
                                    -0.12050859415363446,
                                    -0.1963423640760792,
                                    -0.0964086217670681
                                 ],
                                 "yaxis": "y"
                              }
                           ],
                           "name": "45"
                        },
                        {
                           "data": [
                              {
                                 "alignmentgroup": "True",
                                 "customdata": [
                                    [
                                       "A £50 carbon dividend would cut poverty by 6.1%"
                                    ],
                                    [
                                       "A £50 carbon dividend would cut poverty among children by 7.9%"
                                    ],
                                    [
                                       "A £50 carbon dividend would cut poverty among adults by 5.3%"
                                    ]
                                 ],
                                 "hovertemplate": "%{customdata[0]}<extra></extra>",
                                 "legendgroup": "Poverty",
                                 "marker": {
                                    "color": "#49A6E2",
                                    "pattern": {
                                       "shape": ""
                                    }
                                 },
                                 "name": "Poverty",
                                 "offsetgroup": "Poverty",
                                 "orientation": "v",
                                 "showlegend": true,
                                 "textposition": "auto",
                                 "type": "bar",
                                 "x": [
                                    "All",
                                    "Children",
                                    "Adults"
                                 ],
                                 "xaxis": "x",
                                 "y": [
                                    -0.06139790010054469,
                                    -0.07853401236763291,
                                    -0.05293812281495336
                                 ],
                                 "yaxis": "y"
                              },
                              {
                                 "alignmentgroup": "True",
                                 "customdata": [
                                    [
                                       "A £50 carbon dividend would cut deep poverty by 12.0%"
                                    ],
                                    [
                                       "A £50 carbon dividend would cut deep poverty among children by 20.2%"
                                    ],
                                    [
                                       "A £50 carbon dividend would cut deep poverty among adults by 9.3%"
                                    ]
                                 ],
                                 "hovertemplate": "%{customdata[0]}<extra></extra>",
                                 "legendgroup": "Deep poverty",
                                 "marker": {
                                    "color": "#0F4AA1",
                                    "pattern": {
                                       "shape": ""
                                    }
                                 },
                                 "name": "Deep poverty",
                                 "offsetgroup": "Deep poverty",
                                 "orientation": "v",
                                 "showlegend": true,
                                 "textposition": "auto",
                                 "type": "bar",
                                 "x": [
                                    "All",
                                    "Children",
                                    "Adults"
                                 ],
                                 "xaxis": "x",
                                 "y": [
                                    -0.11956073722872818,
                                    -0.2020544448415963,
                                    -0.09334423661734059
                                 ],
                                 "yaxis": "y"
                              }
                           ],
                           "name": "50"
                        },
                        {
                           "data": [
                              {
                                 "alignmentgroup": "True",
                                 "customdata": [
                                    [
                                       "A £55 carbon dividend would cut poverty by 6.4%"
                                    ],
                                    [
                                       "A £55 carbon dividend would cut poverty among children by 8.5%"
                                    ],
                                    [
                                       "A £55 carbon dividend would cut poverty among adults by 5.3%"
                                    ]
                                 ],
                                 "hovertemplate": "%{customdata[0]}<extra></extra>",
                                 "legendgroup": "Poverty",
                                 "marker": {
                                    "color": "#49A6E2",
                                    "pattern": {
                                       "shape": ""
                                    }
                                 },
                                 "name": "Poverty",
                                 "offsetgroup": "Poverty",
                                 "orientation": "v",
                                 "showlegend": true,
                                 "textposition": "auto",
                                 "type": "bar",
                                 "x": [
                                    "All",
                                    "Children",
                                    "Adults"
                                 ],
                                 "xaxis": "x",
                                 "y": [
                                    -0.06370894453006426,
                                    -0.08451223883145786,
                                    -0.05343874824205275
                                 ],
                                 "yaxis": "y"
                              },
                              {
                                 "alignmentgroup": "True",
                                 "customdata": [
                                    [
                                       "A £55 carbon dividend would cut deep poverty by 11.2%"
                                    ],
                                    [
                                       "A £55 carbon dividend would cut deep poverty among children by 19.0%"
                                    ],
                                    [
                                       "A £55 carbon dividend would cut deep poverty among adults by 8.8%"
                                    ]
                                 ],
                                 "hovertemplate": "%{customdata[0]}<extra></extra>",
                                 "legendgroup": "Deep poverty",
                                 "marker": {
                                    "color": "#0F4AA1",
                                    "pattern": {
                                       "shape": ""
                                    }
                                 },
                                 "name": "Deep poverty",
                                 "offsetgroup": "Deep poverty",
                                 "orientation": "v",
                                 "showlegend": true,
                                 "textposition": "auto",
                                 "type": "bar",
                                 "x": [
                                    "All",
                                    "Children",
                                    "Adults"
                                 ],
                                 "xaxis": "x",
                                 "y": [
                                    -0.11233825956065147,
                                    -0.18967573689759643,
                                    -0.08776040895170512
                                 ],
                                 "yaxis": "y"
                              }
                           ],
                           "name": "55"
                        },
                        {
                           "data": [
                              {
                                 "alignmentgroup": "True",
                                 "customdata": [
                                    [
                                       "A £60 carbon dividend would cut poverty by 6.9%"
                                    ],
                                    [
                                       "A £60 carbon dividend would cut poverty among children by 9.3%"
                                    ],
                                    [
                                       "A £60 carbon dividend would cut poverty among adults by 5.7%"
                                    ]
                                 ],
                                 "hovertemplate": "%{customdata[0]}<extra></extra>",
                                 "legendgroup": "Poverty",
                                 "marker": {
                                    "color": "#49A6E2",
                                    "pattern": {
                                       "shape": ""
                                    }
                                 },
                                 "name": "Poverty",
                                 "offsetgroup": "Poverty",
                                 "orientation": "v",
                                 "showlegend": true,
                                 "textposition": "auto",
                                 "type": "bar",
                                 "x": [
                                    "All",
                                    "Children",
                                    "Adults"
                                 ],
                                 "xaxis": "x",
                                 "y": [
                                    -0.06908106619717147,
                                    -0.09283678933889661,
                                    -0.057353311155373565
                                 ],
                                 "yaxis": "y"
                              },
                              {
                                 "alignmentgroup": "True",
                                 "customdata": [
                                    [
                                       "A £60 carbon dividend would cut deep poverty by 13.5%"
                                    ],
                                    [
                                       "A £60 carbon dividend would cut deep poverty among children by 21.1%"
                                    ],
                                    [
                                       "A £60 carbon dividend would cut deep poverty among adults by 11.1%"
                                    ]
                                 ],
                                 "hovertemplate": "%{customdata[0]}<extra></extra>",
                                 "legendgroup": "Deep poverty",
                                 "marker": {
                                    "color": "#0F4AA1",
                                    "pattern": {
                                       "shape": ""
                                    }
                                 },
                                 "name": "Deep poverty",
                                 "offsetgroup": "Deep poverty",
                                 "orientation": "v",
                                 "showlegend": true,
                                 "textposition": "auto",
                                 "type": "bar",
                                 "x": [
                                    "All",
                                    "Children",
                                    "Adults"
                                 ],
                                 "xaxis": "x",
                                 "y": [
                                    -0.1354511371291054,
                                    -0.21083457947689765,
                                    -0.11149427884757612
                                 ],
                                 "yaxis": "y"
                              }
                           ],
                           "name": "60"
                        },
                        {
                           "data": [
                              {
                                 "alignmentgroup": "True",
                                 "customdata": [
                                    [
                                       "A £65 carbon dividend would cut poverty by 8.1%"
                                    ],
                                    [
                                       "A £65 carbon dividend would cut poverty among children by 11.8%"
                                    ],
                                    [
                                       "A £65 carbon dividend would cut poverty among adults by 6.3%"
                                    ]
                                 ],
                                 "hovertemplate": "%{customdata[0]}<extra></extra>",
                                 "legendgroup": "Poverty",
                                 "marker": {
                                    "color": "#49A6E2",
                                    "pattern": {
                                       "shape": ""
                                    }
                                 },
                                 "name": "Poverty",
                                 "offsetgroup": "Poverty",
                                 "orientation": "v",
                                 "showlegend": true,
                                 "textposition": "auto",
                                 "type": "bar",
                                 "x": [
                                    "All",
                                    "Children",
                                    "Adults"
                                 ],
                                 "xaxis": "x",
                                 "y": [
                                    -0.08120448894752441,
                                    -0.11817600079151358,
                                    -0.06295234684919948
                                 ],
                                 "yaxis": "y"
                              },
                              {
                                 "alignmentgroup": "True",
                                 "customdata": [
                                    [
                                       "A £65 carbon dividend would cut deep poverty by 14.1%"
                                    ],
                                    [
                                       "A £65 carbon dividend would cut deep poverty among children by 22.0%"
                                    ],
                                    [
                                       "A £65 carbon dividend would cut deep poverty among adults by 11.6%"
                                    ]
                                 ],
                                 "hovertemplate": "%{customdata[0]}<extra></extra>",
                                 "legendgroup": "Deep poverty",
                                 "marker": {
                                    "color": "#0F4AA1",
                                    "pattern": {
                                       "shape": ""
                                    }
                                 },
                                 "name": "Deep poverty",
                                 "offsetgroup": "Deep poverty",
                                 "orientation": "v",
                                 "showlegend": true,
                                 "textposition": "auto",
                                 "type": "bar",
                                 "x": [
                                    "All",
                                    "Children",
                                    "Adults"
                                 ],
                                 "xaxis": "x",
                                 "y": [
                                    -0.14127305935392342,
                                    -0.22048526723883644,
                                    -0.11609941936928736
                                 ],
                                 "yaxis": "y"
                              }
                           ],
                           "name": "65"
                        },
                        {
                           "data": [
                              {
                                 "alignmentgroup": "True",
                                 "customdata": [
                                    [
                                       "A £70 carbon dividend would cut poverty by 9.0%"
                                    ],
                                    [
                                       "A £70 carbon dividend would cut poverty among children by 13.2%"
                                    ],
                                    [
                                       "A £70 carbon dividend would cut poverty among adults by 7.0%"
                                    ]
                                 ],
                                 "hovertemplate": "%{customdata[0]}<extra></extra>",
                                 "legendgroup": "Poverty",
                                 "marker": {
                                    "color": "#49A6E2",
                                    "pattern": {
                                       "shape": ""
                                    }
                                 },
                                 "name": "Poverty",
                                 "offsetgroup": "Poverty",
                                 "orientation": "v",
                                 "showlegend": true,
                                 "textposition": "auto",
                                 "type": "bar",
                                 "x": [
                                    "All",
                                    "Children",
                                    "Adults"
                                 ],
                                 "xaxis": "x",
                                 "y": [
                                    -0.0901404454940683,
                                    -0.1315403011944981,
                                    -0.069702113075232
                                 ],
                                 "yaxis": "y"
                              },
                              {
                                 "alignmentgroup": "True",
                                 "customdata": [
                                    [
                                       "A £70 carbon dividend would cut deep poverty by 13.8%"
                                    ],
                                    [
                                       "A £70 carbon dividend would cut deep poverty among children by 22.0%"
                                    ],
                                    [
                                       "A £70 carbon dividend would cut deep poverty among adults by 11.2%"
                                    ]
                                 ],
                                 "hovertemplate": "%{customdata[0]}<extra></extra>",
                                 "legendgroup": "Deep poverty",
                                 "marker": {
                                    "color": "#0F4AA1",
                                    "pattern": {
                                       "shape": ""
                                    }
                                 },
                                 "name": "Deep poverty",
                                 "offsetgroup": "Deep poverty",
                                 "orientation": "v",
                                 "showlegend": true,
                                 "textposition": "auto",
                                 "type": "bar",
                                 "x": [
                                    "All",
                                    "Children",
                                    "Adults"
                                 ],
                                 "xaxis": "x",
                                 "y": [
                                    -0.1380002913060524,
                                    -0.22048526723883644,
                                    -0.1117865656226309
                                 ],
                                 "yaxis": "y"
                              }
                           ],
                           "name": "70"
                        },
                        {
                           "data": [
                              {
                                 "alignmentgroup": "True",
                                 "customdata": [
                                    [
                                       "A £75 carbon dividend would cut poverty by 9.9%"
                                    ],
                                    [
                                       "A £75 carbon dividend would cut poverty among children by 15.0%"
                                    ],
                                    [
                                       "A £75 carbon dividend would cut poverty among adults by 7.5%"
                                    ]
                                 ],
                                 "hovertemplate": "%{customdata[0]}<extra></extra>",
                                 "legendgroup": "Poverty",
                                 "marker": {
                                    "color": "#49A6E2",
                                    "pattern": {
                                       "shape": ""
                                    }
                                 },
                                 "name": "Poverty",
                                 "offsetgroup": "Poverty",
                                 "orientation": "v",
                                 "showlegend": true,
                                 "textposition": "auto",
                                 "type": "bar",
                                 "x": [
                                    "All",
                                    "Children",
                                    "Adults"
                                 ],
                                 "xaxis": "x",
                                 "y": [
                                    -0.09937389749632697,
                                    -0.14956706412082388,
                                    -0.07459447236864825
                                 ],
                                 "yaxis": "y"
                              },
                              {
                                 "alignmentgroup": "True",
                                 "customdata": [
                                    [
                                       "A £75 carbon dividend would cut deep poverty by 15.4%"
                                    ],
                                    [
                                       "A £75 carbon dividend would cut deep poverty among children by 26.2%"
                                    ],
                                    [
                                       "A £75 carbon dividend would cut deep poverty among adults by 11.9%"
                                    ]
                                 ],
                                 "hovertemplate": "%{customdata[0]}<extra></extra>",
                                 "legendgroup": "Deep poverty",
                                 "marker": {
                                    "color": "#0F4AA1",
                                    "pattern": {
                                       "shape": ""
                                    }
                                 },
                                 "name": "Deep poverty",
                                 "offsetgroup": "Deep poverty",
                                 "orientation": "v",
                                 "showlegend": true,
                                 "textposition": "auto",
                                 "type": "bar",
                                 "x": [
                                    "All",
                                    "Children",
                                    "Adults"
                                 ],
                                 "xaxis": "x",
                                 "y": [
                                    -0.1535706315615284,
                                    -0.26181774121694257,
                                    -0.11916969967736846
                                 ],
                                 "yaxis": "y"
                              }
                           ],
                           "name": "75"
                        },
                        {
                           "data": [
                              {
                                 "alignmentgroup": "True",
                                 "customdata": [
                                    [
                                       "A £80 carbon dividend would cut poverty by 10.9%"
                                    ],
                                    [
                                       "A £80 carbon dividend would cut poverty among children by 16.6%"
                                    ],
                                    [
                                       "A £80 carbon dividend would cut poverty among adults by 8.2%"
                                    ]
                                 ],
                                 "hovertemplate": "%{customdata[0]}<extra></extra>",
                                 "legendgroup": "Poverty",
                                 "marker": {
                                    "color": "#49A6E2",
                                    "pattern": {
                                       "shape": ""
                                    }
                                 },
                                 "name": "Poverty",
                                 "offsetgroup": "Poverty",
                                 "orientation": "v",
                                 "showlegend": true,
                                 "textposition": "auto",
                                 "type": "bar",
                                 "x": [
                                    "All",
                                    "Children",
                                    "Adults"
                                 ],
                                 "xaxis": "x",
                                 "y": [
                                    -0.10937813956861953,
                                    -0.16569372022687412,
                                    -0.08157619344151645
                                 ],
                                 "yaxis": "y"
                              },
                              {
                                 "alignmentgroup": "True",
                                 "customdata": [
                                    [
                                       "A £80 carbon dividend would cut deep poverty by 15.5%"
                                    ],
                                    [
                                       "A £80 carbon dividend would cut deep poverty among children by 26.8%"
                                    ],
                                    [
                                       "A £80 carbon dividend would cut deep poverty among adults by 11.9%"
                                    ]
                                 ],
                                 "hovertemplate": "%{customdata[0]}<extra></extra>",
                                 "legendgroup": "Deep poverty",
                                 "marker": {
                                    "color": "#0F4AA1",
                                    "pattern": {
                                       "shape": ""
                                    }
                                 },
                                 "name": "Deep poverty",
                                 "offsetgroup": "Deep poverty",
                                 "orientation": "v",
                                 "showlegend": true,
                                 "textposition": "auto",
                                 "type": "bar",
                                 "x": [
                                    "All",
                                    "Children",
                                    "Adults"
                                 ],
                                 "xaxis": "x",
                                 "y": [
                                    -0.15516177990476565,
                                    -0.2677101617088554,
                                    -0.11939390371444492
                                 ],
                                 "yaxis": "y"
                              }
                           ],
                           "name": "80"
                        },
                        {
                           "data": [
                              {
                                 "alignmentgroup": "True",
                                 "customdata": [
                                    [
                                       "A £85 carbon dividend would cut poverty by 11.2%"
                                    ],
                                    [
                                       "A £85 carbon dividend would cut poverty among children by 16.7%"
                                    ],
                                    [
                                       "A £85 carbon dividend would cut poverty among adults by 8.4%"
                                    ]
                                 ],
                                 "hovertemplate": "%{customdata[0]}<extra></extra>",
                                 "legendgroup": "Poverty",
                                 "marker": {
                                    "color": "#49A6E2",
                                    "pattern": {
                                       "shape": ""
                                    }
                                 },
                                 "name": "Poverty",
                                 "offsetgroup": "Poverty",
                                 "orientation": "v",
                                 "showlegend": true,
                                 "textposition": "auto",
                                 "type": "bar",
                                 "x": [
                                    "All",
                                    "Children",
                                    "Adults"
                                 ],
                                 "xaxis": "x",
                                 "y": [
                                    -0.11174175426257604,
                                    -0.16736252147635333,
                                    -0.08428282450369551
                                 ],
                                 "yaxis": "y"
                              },
                              {
                                 "alignmentgroup": "True",
                                 "customdata": [
                                    [
                                       "A £85 carbon dividend would cut deep poverty by 15.3%"
                                    ],
                                    [
                                       "A £85 carbon dividend would cut deep poverty among children by 26.8%"
                                    ],
                                    [
                                       "A £85 carbon dividend would cut deep poverty among adults by 11.7%"
                                    ]
                                 ],
                                 "hovertemplate": "%{customdata[0]}<extra></extra>",
                                 "legendgroup": "Deep poverty",
                                 "marker": {
                                    "color": "#0F4AA1",
                                    "pattern": {
                                       "shape": ""
                                    }
                                 },
                                 "name": "Deep poverty",
                                 "offsetgroup": "Deep poverty",
                                 "orientation": "v",
                                 "showlegend": true,
                                 "textposition": "auto",
                                 "type": "bar",
                                 "x": [
                                    "All",
                                    "Children",
                                    "Adults"
                                 ],
                                 "xaxis": "x",
                                 "y": [
                                    -0.15323740189215018,
                                    -0.2677101617088554,
                                    -0.11685795836167512
                                 ],
                                 "yaxis": "y"
                              }
                           ],
                           "name": "85"
                        },
                        {
                           "data": [
                              {
                                 "alignmentgroup": "True",
                                 "customdata": [
                                    [
                                       "A £90 carbon dividend would cut poverty by 11.4%"
                                    ],
                                    [
                                       "A £90 carbon dividend would cut poverty among children by 17.0%"
                                    ],
                                    [
                                       "A £90 carbon dividend would cut poverty among adults by 8.6%"
                                    ]
                                 ],
                                 "hovertemplate": "%{customdata[0]}<extra></extra>",
                                 "legendgroup": "Poverty",
                                 "marker": {
                                    "color": "#49A6E2",
                                    "pattern": {
                                       "shape": ""
                                    }
                                 },
                                 "name": "Poverty",
                                 "offsetgroup": "Poverty",
                                 "orientation": "v",
                                 "showlegend": true,
                                 "textposition": "auto",
                                 "type": "bar",
                                 "x": [
                                    "All",
                                    "Children",
                                    "Adults"
                                 ],
                                 "xaxis": "x",
                                 "y": [
                                    -0.11361293119711302,
                                    -0.17047933443476615,
                                    -0.08553905429172404
                                 ],
                                 "yaxis": "y"
                              },
                              {
                                 "alignmentgroup": "True",
                                 "customdata": [
                                    [
                                       "A £90 carbon dividend would cut deep poverty by 16.2%"
                                    ],
                                    [
                                       "A £90 carbon dividend would cut deep poverty among children by 28.8%"
                                    ],
                                    [
                                       "A £90 carbon dividend would cut deep poverty among adults by 12.2%"
                                    ]
                                 ],
                                 "hovertemplate": "%{customdata[0]}<extra></extra>",
                                 "legendgroup": "Deep poverty",
                                 "marker": {
                                    "color": "#0F4AA1",
                                    "pattern": {
                                       "shape": ""
                                    }
                                 },
                                 "name": "Deep poverty",
                                 "offsetgroup": "Deep poverty",
                                 "orientation": "v",
                                 "showlegend": true,
                                 "textposition": "auto",
                                 "type": "bar",
                                 "x": [
                                    "All",
                                    "Children",
                                    "Adults"
                                 ],
                                 "xaxis": "x",
                                 "y": [
                                    -0.16184271681398754,
                                    -0.28810049506319424,
                                    -0.1217179943782315
                                 ],
                                 "yaxis": "y"
                              }
                           ],
                           "name": "90"
                        },
                        {
                           "data": [
                              {
                                 "alignmentgroup": "True",
                                 "customdata": [
                                    [
                                       "A £95 carbon dividend would cut poverty by 12.1%"
                                    ],
                                    [
                                       "A £95 carbon dividend would cut poverty among children by 18.5%"
                                    ],
                                    [
                                       "A £95 carbon dividend would cut poverty among adults by 9.0%"
                                    ]
                                 ],
                                 "hovertemplate": "%{customdata[0]}<extra></extra>",
                                 "legendgroup": "Poverty",
                                 "marker": {
                                    "color": "#49A6E2",
                                    "pattern": {
                                       "shape": ""
                                    }
                                 },
                                 "name": "Poverty",
                                 "offsetgroup": "Poverty",
                                 "orientation": "v",
                                 "showlegend": true,
                                 "textposition": "auto",
                                 "type": "bar",
                                 "x": [
                                    "All",
                                    "Children",
                                    "Adults"
                                 ],
                                 "xaxis": "x",
                                 "y": [
                                    -0.12117701761186472,
                                    -0.18503255372201755,
                                    -0.08965273686929309
                                 ],
                                 "yaxis": "y"
                              },
                              {
                                 "alignmentgroup": "True",
                                 "customdata": [
                                    [
                                       "A £95 carbon dividend would cut deep poverty by 16.9%"
                                    ],
                                    [
                                       "A £95 carbon dividend would cut deep poverty among children by 31.4%"
                                    ],
                                    [
                                       "A £95 carbon dividend would cut deep poverty among adults by 12.3%"
                                    ]
                                 ],
                                 "hovertemplate": "%{customdata[0]}<extra></extra>",
                                 "legendgroup": "Deep poverty",
                                 "marker": {
                                    "color": "#0F4AA1",
                                    "pattern": {
                                       "shape": ""
                                    }
                                 },
                                 "name": "Deep poverty",
                                 "offsetgroup": "Deep poverty",
                                 "orientation": "v",
                                 "showlegend": true,
                                 "textposition": "auto",
                                 "type": "bar",
                                 "x": [
                                    "All",
                                    "Children",
                                    "Adults"
                                 ],
                                 "xaxis": "x",
                                 "y": [
                                    -0.1692424456917827,
                                    -0.31443393545642073,
                                    -0.12310058966021886
                                 ],
                                 "yaxis": "y"
                              }
                           ],
                           "name": "95"
                        },
                        {
                           "data": [
                              {
                                 "alignmentgroup": "True",
                                 "customdata": [
                                    [
                                       "A £100 carbon dividend would cut poverty by 12.6%"
                                    ],
                                    [
                                       "A £100 carbon dividend would cut poverty among children by 19.2%"
                                    ],
                                    [
                                       "A £100 carbon dividend would cut poverty among adults by 9.4%"
                                    ]
                                 ],
                                 "hovertemplate": "%{customdata[0]}<extra></extra>",
                                 "legendgroup": "Poverty",
                                 "marker": {
                                    "color": "#49A6E2",
                                    "pattern": {
                                       "shape": ""
                                    }
                                 },
                                 "name": "Poverty",
                                 "offsetgroup": "Poverty",
                                 "orientation": "v",
                                 "showlegend": true,
                                 "textposition": "auto",
                                 "type": "bar",
                                 "x": [
                                    "All",
                                    "Children",
                                    "Adults"
                                 ],
                                 "xaxis": "x",
                                 "y": [
                                    -0.12629372332884092,
                                    -0.19212480830346723,
                                    -0.09379415115786616
                                 ],
                                 "yaxis": "y"
                              },
                              {
                                 "alignmentgroup": "True",
                                 "customdata": [
                                    [
                                       "A £100 carbon dividend would cut deep poverty by 17.6%"
                                    ],
                                    [
                                       "A £100 carbon dividend would cut deep poverty among children by 32.3%"
                                    ],
                                    [
                                       "A £100 carbon dividend would cut deep poverty among adults by 12.9%"
                                    ]
                                 ],
                                 "hovertemplate": "%{customdata[0]}<extra></extra>",
                                 "legendgroup": "Deep poverty",
                                 "marker": {
                                    "color": "#0F4AA1",
                                    "pattern": {
                                       "shape": ""
                                    }
                                 },
                                 "name": "Deep poverty",
                                 "offsetgroup": "Deep poverty",
                                 "orientation": "v",
                                 "showlegend": true,
                                 "textposition": "auto",
                                 "type": "bar",
                                 "x": [
                                    "All",
                                    "Children",
                                    "Adults"
                                 ],
                                 "xaxis": "x",
                                 "y": [
                                    -0.17605410914135355,
                                    -0.32311877506279574,
                                    -0.12931695771961815
                                 ],
                                 "yaxis": "y"
                              }
                           ],
                           "name": "100"
                        }
                     ],
                     "layout": {
                        "barmode": "group",
                        "font": {
                           "family": "Roboto"
                        },
                        "height": 600,
                        "hoverlabel": {
                           "align": "right"
                        },
                        "images": [
                           {
                              "sizex": 0.12,
                              "sizey": 0.12,
                              "source": "https://raw.githubusercontent.com/UBICenter/ubicenter.org/master/assets/images/logos/wide-blue.jpg",
                              "x": 0.98,
                              "xanchor": "right",
                              "xref": "paper",
                              "y": -0.12,
                              "yanchor": "bottom",
                              "yref": "paper"
                           }
                        ],
                        "legend": {
                           "title": {
                              "text": ""
                           },
                           "tracegroupgap": 0
                        },
                        "margin": {
                           "t": 60
                        },
                        "paper_bgcolor": "white",
                        "plot_bgcolor": "white",
                        "sliders": [
                           {
                              "active": 7,
                              "currentvalue": {
                                 "prefix": "Price per tonne of carbon emissions="
                              },
                              "len": 0.9,
                              "pad": {
                                 "b": 10,
                                 "t": 60
                              },
                              "steps": [
                                 {
                                    "args": [
                                       [
                                          "0"
                                       ],
                                       {
                                          "frame": {
                                             "duration": 0,
                                             "redraw": true
                                          },
                                          "fromcurrent": true,
                                          "mode": "immediate",
                                          "transition": {
                                             "duration": 0,
                                             "easing": "linear"
                                          }
                                       }
                                    ],
                                    "label": "0",
                                    "method": "animate"
                                 },
                                 {
                                    "args": [
                                       [
                                          "5"
                                       ],
                                       {
                                          "frame": {
                                             "duration": 0,
                                             "redraw": true
                                          },
                                          "fromcurrent": true,
                                          "mode": "immediate",
                                          "transition": {
                                             "duration": 0,
                                             "easing": "linear"
                                          }
                                       }
                                    ],
                                    "label": "5",
                                    "method": "animate"
                                 },
                                 {
                                    "args": [
                                       [
                                          "10"
                                       ],
                                       {
                                          "frame": {
                                             "duration": 0,
                                             "redraw": true
                                          },
                                          "fromcurrent": true,
                                          "mode": "immediate",
                                          "transition": {
                                             "duration": 0,
                                             "easing": "linear"
                                          }
                                       }
                                    ],
                                    "label": "10",
                                    "method": "animate"
                                 },
                                 {
                                    "args": [
                                       [
                                          "15"
                                       ],
                                       {
                                          "frame": {
                                             "duration": 0,
                                             "redraw": true
                                          },
                                          "fromcurrent": true,
                                          "mode": "immediate",
                                          "transition": {
                                             "duration": 0,
                                             "easing": "linear"
                                          }
                                       }
                                    ],
                                    "label": "15",
                                    "method": "animate"
                                 },
                                 {
                                    "args": [
                                       [
                                          "20"
                                       ],
                                       {
                                          "frame": {
                                             "duration": 0,
                                             "redraw": true
                                          },
                                          "fromcurrent": true,
                                          "mode": "immediate",
                                          "transition": {
                                             "duration": 0,
                                             "easing": "linear"
                                          }
                                       }
                                    ],
                                    "label": "20",
                                    "method": "animate"
                                 },
                                 {
                                    "args": [
                                       [
                                          "25"
                                       ],
                                       {
                                          "frame": {
                                             "duration": 0,
                                             "redraw": true
                                          },
                                          "fromcurrent": true,
                                          "mode": "immediate",
                                          "transition": {
                                             "duration": 0,
                                             "easing": "linear"
                                          }
                                       }
                                    ],
                                    "label": "25",
                                    "method": "animate"
                                 },
                                 {
                                    "args": [
                                       [
                                          "30"
                                       ],
                                       {
                                          "frame": {
                                             "duration": 0,
                                             "redraw": true
                                          },
                                          "fromcurrent": true,
                                          "mode": "immediate",
                                          "transition": {
                                             "duration": 0,
                                             "easing": "linear"
                                          }
                                       }
                                    ],
                                    "label": "30",
                                    "method": "animate"
                                 },
                                 {
                                    "args": [
                                       [
                                          "35"
                                       ],
                                       {
                                          "frame": {
                                             "duration": 0,
                                             "redraw": true
                                          },
                                          "fromcurrent": true,
                                          "mode": "immediate",
                                          "transition": {
                                             "duration": 0,
                                             "easing": "linear"
                                          }
                                       }
                                    ],
                                    "label": "35",
                                    "method": "animate"
                                 },
                                 {
                                    "args": [
                                       [
                                          "40"
                                       ],
                                       {
                                          "frame": {
                                             "duration": 0,
                                             "redraw": true
                                          },
                                          "fromcurrent": true,
                                          "mode": "immediate",
                                          "transition": {
                                             "duration": 0,
                                             "easing": "linear"
                                          }
                                       }
                                    ],
                                    "label": "40",
                                    "method": "animate"
                                 },
                                 {
                                    "args": [
                                       [
                                          "45"
                                       ],
                                       {
                                          "frame": {
                                             "duration": 0,
                                             "redraw": true
                                          },
                                          "fromcurrent": true,
                                          "mode": "immediate",
                                          "transition": {
                                             "duration": 0,
                                             "easing": "linear"
                                          }
                                       }
                                    ],
                                    "label": "45",
                                    "method": "animate"
                                 },
                                 {
                                    "args": [
                                       [
                                          "50"
                                       ],
                                       {
                                          "frame": {
                                             "duration": 0,
                                             "redraw": true
                                          },
                                          "fromcurrent": true,
                                          "mode": "immediate",
                                          "transition": {
                                             "duration": 0,
                                             "easing": "linear"
                                          }
                                       }
                                    ],
                                    "label": "50",
                                    "method": "animate"
                                 },
                                 {
                                    "args": [
                                       [
                                          "55"
                                       ],
                                       {
                                          "frame": {
                                             "duration": 0,
                                             "redraw": true
                                          },
                                          "fromcurrent": true,
                                          "mode": "immediate",
                                          "transition": {
                                             "duration": 0,
                                             "easing": "linear"
                                          }
                                       }
                                    ],
                                    "label": "55",
                                    "method": "animate"
                                 },
                                 {
                                    "args": [
                                       [
                                          "60"
                                       ],
                                       {
                                          "frame": {
                                             "duration": 0,
                                             "redraw": true
                                          },
                                          "fromcurrent": true,
                                          "mode": "immediate",
                                          "transition": {
                                             "duration": 0,
                                             "easing": "linear"
                                          }
                                       }
                                    ],
                                    "label": "60",
                                    "method": "animate"
                                 },
                                 {
                                    "args": [
                                       [
                                          "65"
                                       ],
                                       {
                                          "frame": {
                                             "duration": 0,
                                             "redraw": true
                                          },
                                          "fromcurrent": true,
                                          "mode": "immediate",
                                          "transition": {
                                             "duration": 0,
                                             "easing": "linear"
                                          }
                                       }
                                    ],
                                    "label": "65",
                                    "method": "animate"
                                 },
                                 {
                                    "args": [
                                       [
                                          "70"
                                       ],
                                       {
                                          "frame": {
                                             "duration": 0,
                                             "redraw": true
                                          },
                                          "fromcurrent": true,
                                          "mode": "immediate",
                                          "transition": {
                                             "duration": 0,
                                             "easing": "linear"
                                          }
                                       }
                                    ],
                                    "label": "70",
                                    "method": "animate"
                                 },
                                 {
                                    "args": [
                                       [
                                          "75"
                                       ],
                                       {
                                          "frame": {
                                             "duration": 0,
                                             "redraw": true
                                          },
                                          "fromcurrent": true,
                                          "mode": "immediate",
                                          "transition": {
                                             "duration": 0,
                                             "easing": "linear"
                                          }
                                       }
                                    ],
                                    "label": "75",
                                    "method": "animate"
                                 },
                                 {
                                    "args": [
                                       [
                                          "80"
                                       ],
                                       {
                                          "frame": {
                                             "duration": 0,
                                             "redraw": true
                                          },
                                          "fromcurrent": true,
                                          "mode": "immediate",
                                          "transition": {
                                             "duration": 0,
                                             "easing": "linear"
                                          }
                                       }
                                    ],
                                    "label": "80",
                                    "method": "animate"
                                 },
                                 {
                                    "args": [
                                       [
                                          "85"
                                       ],
                                       {
                                          "frame": {
                                             "duration": 0,
                                             "redraw": true
                                          },
                                          "fromcurrent": true,
                                          "mode": "immediate",
                                          "transition": {
                                             "duration": 0,
                                             "easing": "linear"
                                          }
                                       }
                                    ],
                                    "label": "85",
                                    "method": "animate"
                                 },
                                 {
                                    "args": [
                                       [
                                          "90"
                                       ],
                                       {
                                          "frame": {
                                             "duration": 0,
                                             "redraw": true
                                          },
                                          "fromcurrent": true,
                                          "mode": "immediate",
                                          "transition": {
                                             "duration": 0,
                                             "easing": "linear"
                                          }
                                       }
                                    ],
                                    "label": "90",
                                    "method": "animate"
                                 },
                                 {
                                    "args": [
                                       [
                                          "95"
                                       ],
                                       {
                                          "frame": {
                                             "duration": 0,
                                             "redraw": true
                                          },
                                          "fromcurrent": true,
                                          "mode": "immediate",
                                          "transition": {
                                             "duration": 0,
                                             "easing": "linear"
                                          }
                                       }
                                    ],
                                    "label": "95",
                                    "method": "animate"
                                 },
                                 {
                                    "args": [
                                       [
                                          "100"
                                       ],
                                       {
                                          "frame": {
                                             "duration": 0,
                                             "redraw": true
                                          },
                                          "fromcurrent": true,
                                          "mode": "immediate",
                                          "transition": {
                                             "duration": 0,
                                             "easing": "linear"
                                          }
                                       }
                                    ],
                                    "label": "100",
                                    "method": "animate"
                                 }
                              ],
                              "x": 0.1,
                              "xanchor": "left",
                              "y": 0,
                              "yanchor": "top"
                           }
                        ],
                        "template": {
                           "data": {
                              "bar": [
                                 {
                                    "error_x": {
                                       "color": "#2a3f5f"
                                    },
                                    "error_y": {
                                       "color": "#2a3f5f"
                                    },
                                    "marker": {
                                       "line": {
                                          "color": "#E5ECF6",
                                          "width": 0.5
                                       },
                                       "pattern": {
                                          "fillmode": "overlay",
                                          "size": 10,
                                          "solidity": 0.2
                                       }
                                    },
                                    "type": "bar"
                                 }
                              ],
                              "barpolar": [
                                 {
                                    "marker": {
                                       "line": {
                                          "color": "#E5ECF6",
                                          "width": 0.5
                                       },
                                       "pattern": {
                                          "fillmode": "overlay",
                                          "size": 10,
                                          "solidity": 0.2
                                       }
                                    },
                                    "type": "barpolar"
                                 }
                              ],
                              "carpet": [
                                 {
                                    "aaxis": {
                                       "endlinecolor": "#2a3f5f",
                                       "gridcolor": "white",
                                       "linecolor": "white",
                                       "minorgridcolor": "white",
                                       "startlinecolor": "#2a3f5f"
                                    },
                                    "baxis": {
                                       "endlinecolor": "#2a3f5f",
                                       "gridcolor": "white",
                                       "linecolor": "white",
                                       "minorgridcolor": "white",
                                       "startlinecolor": "#2a3f5f"
                                    },
                                    "type": "carpet"
                                 }
                              ],
                              "choropleth": [
                                 {
                                    "colorbar": {
                                       "outlinewidth": 0,
                                       "ticks": ""
                                    },
                                    "type": "choropleth"
                                 }
                              ],
                              "contour": [
                                 {
                                    "colorbar": {
                                       "outlinewidth": 0,
                                       "ticks": ""
                                    },
                                    "colorscale": [
                                       [
                                          0,
                                          "#0d0887"
                                       ],
                                       [
                                          0.1111111111111111,
                                          "#46039f"
                                       ],
                                       [
                                          0.2222222222222222,
                                          "#7201a8"
                                       ],
                                       [
                                          0.3333333333333333,
                                          "#9c179e"
                                       ],
                                       [
                                          0.4444444444444444,
                                          "#bd3786"
                                       ],
                                       [
                                          0.5555555555555556,
                                          "#d8576b"
                                       ],
                                       [
                                          0.6666666666666666,
                                          "#ed7953"
                                       ],
                                       [
                                          0.7777777777777778,
                                          "#fb9f3a"
                                       ],
                                       [
                                          0.8888888888888888,
                                          "#fdca26"
                                       ],
                                       [
                                          1,
                                          "#f0f921"
                                       ]
                                    ],
                                    "type": "contour"
                                 }
                              ],
                              "contourcarpet": [
                                 {
                                    "colorbar": {
                                       "outlinewidth": 0,
                                       "ticks": ""
                                    },
                                    "type": "contourcarpet"
                                 }
                              ],
                              "heatmap": [
                                 {
                                    "colorbar": {
                                       "outlinewidth": 0,
                                       "ticks": ""
                                    },
                                    "colorscale": [
                                       [
                                          0,
                                          "#0d0887"
                                       ],
                                       [
                                          0.1111111111111111,
                                          "#46039f"
                                       ],
                                       [
                                          0.2222222222222222,
                                          "#7201a8"
                                       ],
                                       [
                                          0.3333333333333333,
                                          "#9c179e"
                                       ],
                                       [
                                          0.4444444444444444,
                                          "#bd3786"
                                       ],
                                       [
                                          0.5555555555555556,
                                          "#d8576b"
                                       ],
                                       [
                                          0.6666666666666666,
                                          "#ed7953"
                                       ],
                                       [
                                          0.7777777777777778,
                                          "#fb9f3a"
                                       ],
                                       [
                                          0.8888888888888888,
                                          "#fdca26"
                                       ],
                                       [
                                          1,
                                          "#f0f921"
                                       ]
                                    ],
                                    "type": "heatmap"
                                 }
                              ],
                              "heatmapgl": [
                                 {
                                    "colorbar": {
                                       "outlinewidth": 0,
                                       "ticks": ""
                                    },
                                    "colorscale": [
                                       [
                                          0,
                                          "#0d0887"
                                       ],
                                       [
                                          0.1111111111111111,
                                          "#46039f"
                                       ],
                                       [
                                          0.2222222222222222,
                                          "#7201a8"
                                       ],
                                       [
                                          0.3333333333333333,
                                          "#9c179e"
                                       ],
                                       [
                                          0.4444444444444444,
                                          "#bd3786"
                                       ],
                                       [
                                          0.5555555555555556,
                                          "#d8576b"
                                       ],
                                       [
                                          0.6666666666666666,
                                          "#ed7953"
                                       ],
                                       [
                                          0.7777777777777778,
                                          "#fb9f3a"
                                       ],
                                       [
                                          0.8888888888888888,
                                          "#fdca26"
                                       ],
                                       [
                                          1,
                                          "#f0f921"
                                       ]
                                    ],
                                    "type": "heatmapgl"
                                 }
                              ],
                              "histogram": [
                                 {
                                    "marker": {
                                       "pattern": {
                                          "fillmode": "overlay",
                                          "size": 10,
                                          "solidity": 0.2
                                       }
                                    },
                                    "type": "histogram"
                                 }
                              ],
                              "histogram2d": [
                                 {
                                    "colorbar": {
                                       "outlinewidth": 0,
                                       "ticks": ""
                                    },
                                    "colorscale": [
                                       [
                                          0,
                                          "#0d0887"
                                       ],
                                       [
                                          0.1111111111111111,
                                          "#46039f"
                                       ],
                                       [
                                          0.2222222222222222,
                                          "#7201a8"
                                       ],
                                       [
                                          0.3333333333333333,
                                          "#9c179e"
                                       ],
                                       [
                                          0.4444444444444444,
                                          "#bd3786"
                                       ],
                                       [
                                          0.5555555555555556,
                                          "#d8576b"
                                       ],
                                       [
                                          0.6666666666666666,
                                          "#ed7953"
                                       ],
                                       [
                                          0.7777777777777778,
                                          "#fb9f3a"
                                       ],
                                       [
                                          0.8888888888888888,
                                          "#fdca26"
                                       ],
                                       [
                                          1,
                                          "#f0f921"
                                       ]
                                    ],
                                    "type": "histogram2d"
                                 }
                              ],
                              "histogram2dcontour": [
                                 {
                                    "colorbar": {
                                       "outlinewidth": 0,
                                       "ticks": ""
                                    },
                                    "colorscale": [
                                       [
                                          0,
                                          "#0d0887"
                                       ],
                                       [
                                          0.1111111111111111,
                                          "#46039f"
                                       ],
                                       [
                                          0.2222222222222222,
                                          "#7201a8"
                                       ],
                                       [
                                          0.3333333333333333,
                                          "#9c179e"
                                       ],
                                       [
                                          0.4444444444444444,
                                          "#bd3786"
                                       ],
                                       [
                                          0.5555555555555556,
                                          "#d8576b"
                                       ],
                                       [
                                          0.6666666666666666,
                                          "#ed7953"
                                       ],
                                       [
                                          0.7777777777777778,
                                          "#fb9f3a"
                                       ],
                                       [
                                          0.8888888888888888,
                                          "#fdca26"
                                       ],
                                       [
                                          1,
                                          "#f0f921"
                                       ]
                                    ],
                                    "type": "histogram2dcontour"
                                 }
                              ],
                              "mesh3d": [
                                 {
                                    "colorbar": {
                                       "outlinewidth": 0,
                                       "ticks": ""
                                    },
                                    "type": "mesh3d"
                                 }
                              ],
                              "parcoords": [
                                 {
                                    "line": {
                                       "colorbar": {
                                          "outlinewidth": 0,
                                          "ticks": ""
                                       }
                                    },
                                    "type": "parcoords"
                                 }
                              ],
                              "pie": [
                                 {
                                    "automargin": true,
                                    "type": "pie"
                                 }
                              ],
                              "scatter": [
                                 {
                                    "marker": {
                                       "colorbar": {
                                          "outlinewidth": 0,
                                          "ticks": ""
                                       }
                                    },
                                    "type": "scatter"
                                 }
                              ],
                              "scatter3d": [
                                 {
                                    "line": {
                                       "colorbar": {
                                          "outlinewidth": 0,
                                          "ticks": ""
                                       }
                                    },
                                    "marker": {
                                       "colorbar": {
                                          "outlinewidth": 0,
                                          "ticks": ""
                                       }
                                    },
                                    "type": "scatter3d"
                                 }
                              ],
                              "scattercarpet": [
                                 {
                                    "marker": {
                                       "colorbar": {
                                          "outlinewidth": 0,
                                          "ticks": ""
                                       }
                                    },
                                    "type": "scattercarpet"
                                 }
                              ],
                              "scattergeo": [
                                 {
                                    "marker": {
                                       "colorbar": {
                                          "outlinewidth": 0,
                                          "ticks": ""
                                       }
                                    },
                                    "type": "scattergeo"
                                 }
                              ],
                              "scattergl": [
                                 {
                                    "marker": {
                                       "colorbar": {
                                          "outlinewidth": 0,
                                          "ticks": ""
                                       }
                                    },
                                    "type": "scattergl"
                                 }
                              ],
                              "scattermapbox": [
                                 {
                                    "marker": {
                                       "colorbar": {
                                          "outlinewidth": 0,
                                          "ticks": ""
                                       }
                                    },
                                    "type": "scattermapbox"
                                 }
                              ],
                              "scatterpolar": [
                                 {
                                    "marker": {
                                       "colorbar": {
                                          "outlinewidth": 0,
                                          "ticks": ""
                                       }
                                    },
                                    "type": "scatterpolar"
                                 }
                              ],
                              "scatterpolargl": [
                                 {
                                    "marker": {
                                       "colorbar": {
                                          "outlinewidth": 0,
                                          "ticks": ""
                                       }
                                    },
                                    "type": "scatterpolargl"
                                 }
                              ],
                              "scatterternary": [
                                 {
                                    "marker": {
                                       "colorbar": {
                                          "outlinewidth": 0,
                                          "ticks": ""
                                       }
                                    },
                                    "type": "scatterternary"
                                 }
                              ],
                              "surface": [
                                 {
                                    "colorbar": {
                                       "outlinewidth": 0,
                                       "ticks": ""
                                    },
                                    "colorscale": [
                                       [
                                          0,
                                          "#0d0887"
                                       ],
                                       [
                                          0.1111111111111111,
                                          "#46039f"
                                       ],
                                       [
                                          0.2222222222222222,
                                          "#7201a8"
                                       ],
                                       [
                                          0.3333333333333333,
                                          "#9c179e"
                                       ],
                                       [
                                          0.4444444444444444,
                                          "#bd3786"
                                       ],
                                       [
                                          0.5555555555555556,
                                          "#d8576b"
                                       ],
                                       [
                                          0.6666666666666666,
                                          "#ed7953"
                                       ],
                                       [
                                          0.7777777777777778,
                                          "#fb9f3a"
                                       ],
                                       [
                                          0.8888888888888888,
                                          "#fdca26"
                                       ],
                                       [
                                          1,
                                          "#f0f921"
                                       ]
                                    ],
                                    "type": "surface"
                                 }
                              ],
                              "table": [
                                 {
                                    "cells": {
                                       "fill": {
                                          "color": "#EBF0F8"
                                       },
                                       "line": {
                                          "color": "white"
                                       }
                                    },
                                    "header": {
                                       "fill": {
                                          "color": "#C8D4E3"
                                       },
                                       "line": {
                                          "color": "white"
                                       }
                                    },
                                    "type": "table"
                                 }
                              ]
                           },
                           "layout": {
                              "annotationdefaults": {
                                 "arrowcolor": "#2a3f5f",
                                 "arrowhead": 0,
                                 "arrowwidth": 1
                              },
                              "autotypenumbers": "strict",
                              "coloraxis": {
                                 "colorbar": {
                                    "outlinewidth": 0,
                                    "ticks": ""
                                 }
                              },
                              "colorscale": {
                                 "diverging": [
                                    [
                                       0,
                                       "#8e0152"
                                    ],
                                    [
                                       0.1,
                                       "#c51b7d"
                                    ],
                                    [
                                       0.2,
                                       "#de77ae"
                                    ],
                                    [
                                       0.3,
                                       "#f1b6da"
                                    ],
                                    [
                                       0.4,
                                       "#fde0ef"
                                    ],
                                    [
                                       0.5,
                                       "#f7f7f7"
                                    ],
                                    [
                                       0.6,
                                       "#e6f5d0"
                                    ],
                                    [
                                       0.7,
                                       "#b8e186"
                                    ],
                                    [
                                       0.8,
                                       "#7fbc41"
                                    ],
                                    [
                                       0.9,
                                       "#4d9221"
                                    ],
                                    [
                                       1,
                                       "#276419"
                                    ]
                                 ],
                                 "sequential": [
                                    [
                                       0,
                                       "#0d0887"
                                    ],
                                    [
                                       0.1111111111111111,
                                       "#46039f"
                                    ],
                                    [
                                       0.2222222222222222,
                                       "#7201a8"
                                    ],
                                    [
                                       0.3333333333333333,
                                       "#9c179e"
                                    ],
                                    [
                                       0.4444444444444444,
                                       "#bd3786"
                                    ],
                                    [
                                       0.5555555555555556,
                                       "#d8576b"
                                    ],
                                    [
                                       0.6666666666666666,
                                       "#ed7953"
                                    ],
                                    [
                                       0.7777777777777778,
                                       "#fb9f3a"
                                    ],
                                    [
                                       0.8888888888888888,
                                       "#fdca26"
                                    ],
                                    [
                                       1,
                                       "#f0f921"
                                    ]
                                 ],
                                 "sequentialminus": [
                                    [
                                       0,
                                       "#0d0887"
                                    ],
                                    [
                                       0.1111111111111111,
                                       "#46039f"
                                    ],
                                    [
                                       0.2222222222222222,
                                       "#7201a8"
                                    ],
                                    [
                                       0.3333333333333333,
                                       "#9c179e"
                                    ],
                                    [
                                       0.4444444444444444,
                                       "#bd3786"
                                    ],
                                    [
                                       0.5555555555555556,
                                       "#d8576b"
                                    ],
                                    [
                                       0.6666666666666666,
                                       "#ed7953"
                                    ],
                                    [
                                       0.7777777777777778,
                                       "#fb9f3a"
                                    ],
                                    [
                                       0.8888888888888888,
                                       "#fdca26"
                                    ],
                                    [
                                       1,
                                       "#f0f921"
                                    ]
                                 ]
                              },
                              "colorway": [
                                 "#636efa",
                                 "#EF553B",
                                 "#00cc96",
                                 "#ab63fa",
                                 "#FFA15A",
                                 "#19d3f3",
                                 "#FF6692",
                                 "#B6E880",
                                 "#FF97FF",
                                 "#FECB52"
                              ],
                              "font": {
                                 "color": "#2a3f5f"
                              },
                              "geo": {
                                 "bgcolor": "white",
                                 "lakecolor": "white",
                                 "landcolor": "#E5ECF6",
                                 "showlakes": true,
                                 "showland": true,
                                 "subunitcolor": "white"
                              },
                              "hoverlabel": {
                                 "align": "left"
                              },
                              "hovermode": "closest",
                              "mapbox": {
                                 "style": "light"
                              },
                              "paper_bgcolor": "white",
                              "plot_bgcolor": "#E5ECF6",
                              "polar": {
                                 "angularaxis": {
                                    "gridcolor": "white",
                                    "linecolor": "white",
                                    "ticks": ""
                                 },
                                 "bgcolor": "#E5ECF6",
                                 "radialaxis": {
                                    "gridcolor": "white",
                                    "linecolor": "white",
                                    "ticks": ""
                                 }
                              },
                              "scene": {
                                 "xaxis": {
                                    "backgroundcolor": "#E5ECF6",
                                    "gridcolor": "white",
                                    "gridwidth": 2,
                                    "linecolor": "white",
                                    "showbackground": true,
                                    "ticks": "",
                                    "zerolinecolor": "white"
                                 },
                                 "yaxis": {
                                    "backgroundcolor": "#E5ECF6",
                                    "gridcolor": "white",
                                    "gridwidth": 2,
                                    "linecolor": "white",
                                    "showbackground": true,
                                    "ticks": "",
                                    "zerolinecolor": "white"
                                 },
                                 "zaxis": {
                                    "backgroundcolor": "#E5ECF6",
                                    "gridcolor": "white",
                                    "gridwidth": 2,
                                    "linecolor": "white",
                                    "showbackground": true,
                                    "ticks": "",
                                    "zerolinecolor": "white"
                                 }
                              },
                              "shapedefaults": {
                                 "line": {
                                    "color": "#2a3f5f"
                                 }
                              },
                              "ternary": {
                                 "aaxis": {
                                    "gridcolor": "white",
                                    "linecolor": "white",
                                    "ticks": ""
                                 },
                                 "baxis": {
                                    "gridcolor": "white",
                                    "linecolor": "white",
                                    "ticks": ""
                                 },
                                 "bgcolor": "#E5ECF6",
                                 "caxis": {
                                    "gridcolor": "white",
                                    "linecolor": "white",
                                    "ticks": ""
                                 }
                              },
                              "title": {
                                 "x": 0.05
                              },
                              "xaxis": {
                                 "automargin": true,
                                 "gridcolor": "white",
                                 "linecolor": "white",
                                 "ticks": "",
                                 "title": {
                                    "standoff": 15
                                 },
                                 "zerolinecolor": "white",
                                 "zerolinewidth": 2
                              },
                              "yaxis": {
                                 "automargin": true,
                                 "gridcolor": "white",
                                 "linecolor": "white",
                                 "ticks": "",
                                 "title": {
                                    "standoff": 15
                                 },
                                 "zerolinecolor": "white",
                                 "zerolinewidth": 2
                              }
                           }
                        },
                        "title": {
                           "font": {
                              "size": 20
                           },
                           "text": "Carbon dividend poverty impact by age group"
                        },
                        "updatemenus": [
                           {
                              "buttons": [
                                 {
                                    "args": [
                                       null,
                                       {
                                          "frame": {
                                             "duration": 500,
                                             "redraw": true
                                          },
                                          "fromcurrent": true,
                                          "mode": "immediate",
                                          "transition": {
                                             "duration": 500,
                                             "easing": "linear"
                                          }
                                       }
                                    ],
                                    "label": "&#9654;",
                                    "method": "animate"
                                 },
                                 {
                                    "args": [
                                       [
                                          null
                                       ],
                                       {
                                          "frame": {
                                             "duration": 0,
                                             "redraw": true
                                          },
                                          "fromcurrent": true,
                                          "mode": "immediate",
                                          "transition": {
                                             "duration": 0,
                                             "easing": "linear"
                                          }
                                       }
                                    ],
                                    "label": "&#9724;",
                                    "method": "animate"
                                 }
                              ],
                              "direction": "left",
                              "pad": {
                                 "r": 10,
                                 "t": 70
                              },
                              "showactive": false,
                              "type": "buttons",
                              "x": 0.1,
                              "xanchor": "right",
                              "y": 0,
                              "yanchor": "top"
                           }
                        ],
                        "width": 800,
                        "xaxis": {
                           "anchor": "y",
                           "autorange": true,
                           "domain": [
                              0,
                              1
                           ],
                           "range": [
                              -0.5,
                              2.5
                           ],
                           "tickfont": {
                              "size": 14
                           },
                           "title": {
                              "font": {
                                 "color": "black",
                                 "size": 16
                              },
                              "text": ""
                           },
                           "type": "category"
                        },
                        "yaxis": {
                           "anchor": "x",
                           "domain": [
                              0,
                              1
                           ],
                           "range": [
                              -0.35,
                              0
                           ],
                           "tickfont": {
                              "size": 14
                           },
                           "tickformat": ".0%",
                           "title": {
                              "font": {
                                 "color": "black",
                                 "size": 16
                              },
                              "text": "Poverty impact"
                           },
                           "type": "linear"
                        }
                     }
                  },
                  "image/png": "[encoded data removed]",
                  "text/html": [
                     "        <script type=\"text/javascript\">\n",
                     "        window.PlotlyConfig = {MathJaxConfig: 'local'};\n",
                     "        if (window.MathJax) {MathJax.Hub.Config({SVG: {font: \"STIX-Web\"}});}\n",
                     "        if (typeof require !== 'undefined') {\n",
                     "        require.undef(\"plotly\");\n",
                     "        requirejs.config({\n",
                     "            paths: {\n",
                     "                'plotly': ['https://cdn.plot.ly/plotly-2.9.0.min']\n",
                     "            }\n",
                     "        });\n",
                     "        require(['plotly'], function(Plotly) {\n",
                     "            window._Plotly = Plotly;\n",
                     "        });\n",
                     "        }\n",
                     "        </script>\n",
                     "        "
                  ]
               },
               "metadata": {},
               "output_type": "display_data"
            },
            {
               "data": {
                  "text/html": [
                     "<div>                            <div id=\"6bfe3146-97ce-4474-ac68-5a03d4efd9da\" class=\"plotly-graph-div\" style=\"height:600px; width:800px;\"></div>            <script type=\"text/javascript\">                require([\"plotly\"], function(Plotly) {                    window.PLOTLYENV=window.PLOTLYENV || {};                                    if (document.getElementById(\"6bfe3146-97ce-4474-ac68-5a03d4efd9da\")) {                    Plotly.newPlot(                        \"6bfe3146-97ce-4474-ac68-5a03d4efd9da\",                        [{\"alignmentgroup\":\"True\",\"customdata\":[[\"A \\u00a30 carbon dividend would cut poverty by -0.0%\"],[\"A \\u00a30 carbon dividend would cut poverty among children by -0.0%\"],[\"A \\u00a30 carbon dividend would cut poverty among adults by -0.0%\"]],\"hovertemplate\":\"%{customdata[0]}<extra></extra>\",\"legendgroup\":\"Poverty\",\"marker\":{\"color\":\"#49A6E2\",\"pattern\":{\"shape\":\"\"}},\"name\":\"Poverty\",\"offsetgroup\":\"Poverty\",\"orientation\":\"v\",\"showlegend\":true,\"textposition\":\"auto\",\"x\":[\"All\",\"Children\",\"Adults\"],\"xaxis\":\"x\",\"y\":[0.0,0.0,0.0],\"yaxis\":\"y\",\"type\":\"bar\"},{\"alignmentgroup\":\"True\",\"customdata\":[[\"A \\u00a30 carbon dividend would cut deep poverty by -0.0%\"],[\"A \\u00a30 carbon dividend would cut deep poverty among children by -0.0%\"],[\"A \\u00a30 carbon dividend would cut deep poverty among adults by -0.0%\"]],\"hovertemplate\":\"%{customdata[0]}<extra></extra>\",\"legendgroup\":\"Deep poverty\",\"marker\":{\"color\":\"#0F4AA1\",\"pattern\":{\"shape\":\"\"}},\"name\":\"Deep poverty\",\"offsetgroup\":\"Deep poverty\",\"orientation\":\"v\",\"showlegend\":true,\"textposition\":\"auto\",\"x\":[\"All\",\"Children\",\"Adults\"],\"xaxis\":\"x\",\"y\":[0.0,0.0,0.0],\"yaxis\":\"y\",\"type\":\"bar\"}],                        {\"template\":{\"data\":{\"bar\":[{\"error_x\":{\"color\":\"#2a3f5f\"},\"error_y\":{\"color\":\"#2a3f5f\"},\"marker\":{\"line\":{\"color\":\"#E5ECF6\",\"width\":0.5},\"pattern\":{\"fillmode\":\"overlay\",\"size\":10,\"solidity\":0.2}},\"type\":\"bar\"}],\"barpolar\":[{\"marker\":{\"line\":{\"color\":\"#E5ECF6\",\"width\":0.5},\"pattern\":{\"fillmode\":\"overlay\",\"size\":10,\"solidity\":0.2}},\"type\":\"barpolar\"}],\"carpet\":[{\"aaxis\":{\"endlinecolor\":\"#2a3f5f\",\"gridcolor\":\"white\",\"linecolor\":\"white\",\"minorgridcolor\":\"white\",\"startlinecolor\":\"#2a3f5f\"},\"baxis\":{\"endlinecolor\":\"#2a3f5f\",\"gridcolor\":\"white\",\"linecolor\":\"white\",\"minorgridcolor\":\"white\",\"startlinecolor\":\"#2a3f5f\"},\"type\":\"carpet\"}],\"choropleth\":[{\"colorbar\":{\"outlinewidth\":0,\"ticks\":\"\"},\"type\":\"choropleth\"}],\"contour\":[{\"colorbar\":{\"outlinewidth\":0,\"ticks\":\"\"},\"colorscale\":[[0.0,\"#0d0887\"],[0.1111111111111111,\"#46039f\"],[0.2222222222222222,\"#7201a8\"],[0.3333333333333333,\"#9c179e\"],[0.4444444444444444,\"#bd3786\"],[0.5555555555555556,\"#d8576b\"],[0.6666666666666666,\"#ed7953\"],[0.7777777777777778,\"#fb9f3a\"],[0.8888888888888888,\"#fdca26\"],[1.0,\"#f0f921\"]],\"type\":\"contour\"}],\"contourcarpet\":[{\"colorbar\":{\"outlinewidth\":0,\"ticks\":\"\"},\"type\":\"contourcarpet\"}],\"heatmap\":[{\"colorbar\":{\"outlinewidth\":0,\"ticks\":\"\"},\"colorscale\":[[0.0,\"#0d0887\"],[0.1111111111111111,\"#46039f\"],[0.2222222222222222,\"#7201a8\"],[0.3333333333333333,\"#9c179e\"],[0.4444444444444444,\"#bd3786\"],[0.5555555555555556,\"#d8576b\"],[0.6666666666666666,\"#ed7953\"],[0.7777777777777778,\"#fb9f3a\"],[0.8888888888888888,\"#fdca26\"],[1.0,\"#f0f921\"]],\"type\":\"heatmap\"}],\"heatmapgl\":[{\"colorbar\":{\"outlinewidth\":0,\"ticks\":\"\"},\"colorscale\":[[0.0,\"#0d0887\"],[0.1111111111111111,\"#46039f\"],[0.2222222222222222,\"#7201a8\"],[0.3333333333333333,\"#9c179e\"],[0.4444444444444444,\"#bd3786\"],[0.5555555555555556,\"#d8576b\"],[0.6666666666666666,\"#ed7953\"],[0.7777777777777778,\"#fb9f3a\"],[0.8888888888888888,\"#fdca26\"],[1.0,\"#f0f921\"]],\"type\":\"heatmapgl\"}],\"histogram\":[{\"marker\":{\"pattern\":{\"fillmode\":\"overlay\",\"size\":10,\"solidity\":0.2}},\"type\":\"histogram\"}],\"histogram2d\":[{\"colorbar\":{\"outlinewidth\":0,\"ticks\":\"\"},\"colorscale\":[[0.0,\"#0d0887\"],[0.1111111111111111,\"#46039f\"],[0.2222222222222222,\"#7201a8\"],[0.3333333333333333,\"#9c179e\"],[0.4444444444444444,\"#bd3786\"],[0.5555555555555556,\"#d8576b\"],[0.6666666666666666,\"#ed7953\"],[0.7777777777777778,\"#fb9f3a\"],[0.8888888888888888,\"#fdca26\"],[1.0,\"#f0f921\"]],\"type\":\"histogram2d\"}],\"histogram2dcontour\":[{\"colorbar\":{\"outlinewidth\":0,\"ticks\":\"\"},\"colorscale\":[[0.0,\"#0d0887\"],[0.1111111111111111,\"#46039f\"],[0.2222222222222222,\"#7201a8\"],[0.3333333333333333,\"#9c179e\"],[0.4444444444444444,\"#bd3786\"],[0.5555555555555556,\"#d8576b\"],[0.6666666666666666,\"#ed7953\"],[0.7777777777777778,\"#fb9f3a\"],[0.8888888888888888,\"#fdca26\"],[1.0,\"#f0f921\"]],\"type\":\"histogram2dcontour\"}],\"mesh3d\":[{\"colorbar\":{\"outlinewidth\":0,\"ticks\":\"\"},\"type\":\"mesh3d\"}],\"parcoords\":[{\"line\":{\"colorbar\":{\"outlinewidth\":0,\"ticks\":\"\"}},\"type\":\"parcoords\"}],\"pie\":[{\"automargin\":true,\"type\":\"pie\"}],\"scatter\":[{\"marker\":{\"colorbar\":{\"outlinewidth\":0,\"ticks\":\"\"}},\"type\":\"scatter\"}],\"scatter3d\":[{\"line\":{\"colorbar\":{\"outlinewidth\":0,\"ticks\":\"\"}},\"marker\":{\"colorbar\":{\"outlinewidth\":0,\"ticks\":\"\"}},\"type\":\"scatter3d\"}],\"scattercarpet\":[{\"marker\":{\"colorbar\":{\"outlinewidth\":0,\"ticks\":\"\"}},\"type\":\"scattercarpet\"}],\"scattergeo\":[{\"marker\":{\"colorbar\":{\"outlinewidth\":0,\"ticks\":\"\"}},\"type\":\"scattergeo\"}],\"scattergl\":[{\"marker\":{\"colorbar\":{\"outlinewidth\":0,\"ticks\":\"\"}},\"type\":\"scattergl\"}],\"scattermapbox\":[{\"marker\":{\"colorbar\":{\"outlinewidth\":0,\"ticks\":\"\"}},\"type\":\"scattermapbox\"}],\"scatterpolar\":[{\"marker\":{\"colorbar\":{\"outlinewidth\":0,\"ticks\":\"\"}},\"type\":\"scatterpolar\"}],\"scatterpolargl\":[{\"marker\":{\"colorbar\":{\"outlinewidth\":0,\"ticks\":\"\"}},\"type\":\"scatterpolargl\"}],\"scatterternary\":[{\"marker\":{\"colorbar\":{\"outlinewidth\":0,\"ticks\":\"\"}},\"type\":\"scatterternary\"}],\"surface\":[{\"colorbar\":{\"outlinewidth\":0,\"ticks\":\"\"},\"colorscale\":[[0.0,\"#0d0887\"],[0.1111111111111111,\"#46039f\"],[0.2222222222222222,\"#7201a8\"],[0.3333333333333333,\"#9c179e\"],[0.4444444444444444,\"#bd3786\"],[0.5555555555555556,\"#d8576b\"],[0.6666666666666666,\"#ed7953\"],[0.7777777777777778,\"#fb9f3a\"],[0.8888888888888888,\"#fdca26\"],[1.0,\"#f0f921\"]],\"type\":\"surface\"}],\"table\":[{\"cells\":{\"fill\":{\"color\":\"#EBF0F8\"},\"line\":{\"color\":\"white\"}},\"header\":{\"fill\":{\"color\":\"#C8D4E3\"},\"line\":{\"color\":\"white\"}},\"type\":\"table\"}]},\"layout\":{\"annotationdefaults\":{\"arrowcolor\":\"#2a3f5f\",\"arrowhead\":0,\"arrowwidth\":1},\"autotypenumbers\":\"strict\",\"coloraxis\":{\"colorbar\":{\"outlinewidth\":0,\"ticks\":\"\"}},\"colorscale\":{\"diverging\":[[0,\"#8e0152\"],[0.1,\"#c51b7d\"],[0.2,\"#de77ae\"],[0.3,\"#f1b6da\"],[0.4,\"#fde0ef\"],[0.5,\"#f7f7f7\"],[0.6,\"#e6f5d0\"],[0.7,\"#b8e186\"],[0.8,\"#7fbc41\"],[0.9,\"#4d9221\"],[1,\"#276419\"]],\"sequential\":[[0.0,\"#0d0887\"],[0.1111111111111111,\"#46039f\"],[0.2222222222222222,\"#7201a8\"],[0.3333333333333333,\"#9c179e\"],[0.4444444444444444,\"#bd3786\"],[0.5555555555555556,\"#d8576b\"],[0.6666666666666666,\"#ed7953\"],[0.7777777777777778,\"#fb9f3a\"],[0.8888888888888888,\"#fdca26\"],[1.0,\"#f0f921\"]],\"sequentialminus\":[[0.0,\"#0d0887\"],[0.1111111111111111,\"#46039f\"],[0.2222222222222222,\"#7201a8\"],[0.3333333333333333,\"#9c179e\"],[0.4444444444444444,\"#bd3786\"],[0.5555555555555556,\"#d8576b\"],[0.6666666666666666,\"#ed7953\"],[0.7777777777777778,\"#fb9f3a\"],[0.8888888888888888,\"#fdca26\"],[1.0,\"#f0f921\"]]},\"colorway\":[\"#636efa\",\"#EF553B\",\"#00cc96\",\"#ab63fa\",\"#FFA15A\",\"#19d3f3\",\"#FF6692\",\"#B6E880\",\"#FF97FF\",\"#FECB52\"],\"font\":{\"color\":\"#2a3f5f\"},\"geo\":{\"bgcolor\":\"white\",\"lakecolor\":\"white\",\"landcolor\":\"#E5ECF6\",\"showlakes\":true,\"showland\":true,\"subunitcolor\":\"white\"},\"hoverlabel\":{\"align\":\"left\"},\"hovermode\":\"closest\",\"mapbox\":{\"style\":\"light\"},\"paper_bgcolor\":\"white\",\"plot_bgcolor\":\"#E5ECF6\",\"polar\":{\"angularaxis\":{\"gridcolor\":\"white\",\"linecolor\":\"white\",\"ticks\":\"\"},\"bgcolor\":\"#E5ECF6\",\"radialaxis\":{\"gridcolor\":\"white\",\"linecolor\":\"white\",\"ticks\":\"\"}},\"scene\":{\"xaxis\":{\"backgroundcolor\":\"#E5ECF6\",\"gridcolor\":\"white\",\"gridwidth\":2,\"linecolor\":\"white\",\"showbackground\":true,\"ticks\":\"\",\"zerolinecolor\":\"white\"},\"yaxis\":{\"backgroundcolor\":\"#E5ECF6\",\"gridcolor\":\"white\",\"gridwidth\":2,\"linecolor\":\"white\",\"showbackground\":true,\"ticks\":\"\",\"zerolinecolor\":\"white\"},\"zaxis\":{\"backgroundcolor\":\"#E5ECF6\",\"gridcolor\":\"white\",\"gridwidth\":2,\"linecolor\":\"white\",\"showbackground\":true,\"ticks\":\"\",\"zerolinecolor\":\"white\"}},\"shapedefaults\":{\"line\":{\"color\":\"#2a3f5f\"}},\"ternary\":{\"aaxis\":{\"gridcolor\":\"white\",\"linecolor\":\"white\",\"ticks\":\"\"},\"baxis\":{\"gridcolor\":\"white\",\"linecolor\":\"white\",\"ticks\":\"\"},\"bgcolor\":\"#E5ECF6\",\"caxis\":{\"gridcolor\":\"white\",\"linecolor\":\"white\",\"ticks\":\"\"}},\"title\":{\"x\":0.05},\"xaxis\":{\"automargin\":true,\"gridcolor\":\"white\",\"linecolor\":\"white\",\"ticks\":\"\",\"title\":{\"standoff\":15},\"zerolinecolor\":\"white\",\"zerolinewidth\":2},\"yaxis\":{\"automargin\":true,\"gridcolor\":\"white\",\"linecolor\":\"white\",\"ticks\":\"\",\"title\":{\"standoff\":15},\"zerolinecolor\":\"white\",\"zerolinewidth\":2}}},\"xaxis\":{\"anchor\":\"y\",\"domain\":[0.0,1.0],\"title\":{\"text\":\"\",\"font\":{\"size\":16,\"color\":\"black\"}},\"tickfont\":{\"size\":14}},\"yaxis\":{\"anchor\":\"x\",\"domain\":[0.0,1.0],\"title\":{\"text\":\"Poverty impact\",\"font\":{\"size\":16,\"color\":\"black\"}},\"tickformat\":\".0%\",\"range\":[-0.35,0],\"tickfont\":{\"size\":14}},\"legend\":{\"title\":{\"text\":\"\"},\"tracegroupgap\":0},\"margin\":{\"t\":60},\"barmode\":\"group\",\"updatemenus\":[{\"buttons\":[{\"args\":[null,{\"frame\":{\"duration\":500,\"redraw\":true},\"mode\":\"immediate\",\"fromcurrent\":true,\"transition\":{\"duration\":500,\"easing\":\"linear\"}}],\"label\":\"&#9654;\",\"method\":\"animate\"},{\"args\":[[null],{\"frame\":{\"duration\":0,\"redraw\":true},\"mode\":\"immediate\",\"fromcurrent\":true,\"transition\":{\"duration\":0,\"easing\":\"linear\"}}],\"label\":\"&#9724;\",\"method\":\"animate\"}],\"direction\":\"left\",\"pad\":{\"r\":10,\"t\":70},\"showactive\":false,\"type\":\"buttons\",\"x\":0.1,\"xanchor\":\"right\",\"y\":0,\"yanchor\":\"top\"}],\"sliders\":[{\"active\":0,\"currentvalue\":{\"prefix\":\"Price per tonne of carbon emissions=\"},\"len\":0.9,\"pad\":{\"b\":10,\"t\":60},\"steps\":[{\"args\":[[\"0\"],{\"frame\":{\"duration\":0,\"redraw\":true},\"mode\":\"immediate\",\"fromcurrent\":true,\"transition\":{\"duration\":0,\"easing\":\"linear\"}}],\"label\":\"0\",\"method\":\"animate\"},{\"args\":[[\"5\"],{\"frame\":{\"duration\":0,\"redraw\":true},\"mode\":\"immediate\",\"fromcurrent\":true,\"transition\":{\"duration\":0,\"easing\":\"linear\"}}],\"label\":\"5\",\"method\":\"animate\"},{\"args\":[[\"10\"],{\"frame\":{\"duration\":0,\"redraw\":true},\"mode\":\"immediate\",\"fromcurrent\":true,\"transition\":{\"duration\":0,\"easing\":\"linear\"}}],\"label\":\"10\",\"method\":\"animate\"},{\"args\":[[\"15\"],{\"frame\":{\"duration\":0,\"redraw\":true},\"mode\":\"immediate\",\"fromcurrent\":true,\"transition\":{\"duration\":0,\"easing\":\"linear\"}}],\"label\":\"15\",\"method\":\"animate\"},{\"args\":[[\"20\"],{\"frame\":{\"duration\":0,\"redraw\":true},\"mode\":\"immediate\",\"fromcurrent\":true,\"transition\":{\"duration\":0,\"easing\":\"linear\"}}],\"label\":\"20\",\"method\":\"animate\"},{\"args\":[[\"25\"],{\"frame\":{\"duration\":0,\"redraw\":true},\"mode\":\"immediate\",\"fromcurrent\":true,\"transition\":{\"duration\":0,\"easing\":\"linear\"}}],\"label\":\"25\",\"method\":\"animate\"},{\"args\":[[\"30\"],{\"frame\":{\"duration\":0,\"redraw\":true},\"mode\":\"immediate\",\"fromcurrent\":true,\"transition\":{\"duration\":0,\"easing\":\"linear\"}}],\"label\":\"30\",\"method\":\"animate\"},{\"args\":[[\"35\"],{\"frame\":{\"duration\":0,\"redraw\":true},\"mode\":\"immediate\",\"fromcurrent\":true,\"transition\":{\"duration\":0,\"easing\":\"linear\"}}],\"label\":\"35\",\"method\":\"animate\"},{\"args\":[[\"40\"],{\"frame\":{\"duration\":0,\"redraw\":true},\"mode\":\"immediate\",\"fromcurrent\":true,\"transition\":{\"duration\":0,\"easing\":\"linear\"}}],\"label\":\"40\",\"method\":\"animate\"},{\"args\":[[\"45\"],{\"frame\":{\"duration\":0,\"redraw\":true},\"mode\":\"immediate\",\"fromcurrent\":true,\"transition\":{\"duration\":0,\"easing\":\"linear\"}}],\"label\":\"45\",\"method\":\"animate\"},{\"args\":[[\"50\"],{\"frame\":{\"duration\":0,\"redraw\":true},\"mode\":\"immediate\",\"fromcurrent\":true,\"transition\":{\"duration\":0,\"easing\":\"linear\"}}],\"label\":\"50\",\"method\":\"animate\"},{\"args\":[[\"55\"],{\"frame\":{\"duration\":0,\"redraw\":true},\"mode\":\"immediate\",\"fromcurrent\":true,\"transition\":{\"duration\":0,\"easing\":\"linear\"}}],\"label\":\"55\",\"method\":\"animate\"},{\"args\":[[\"60\"],{\"frame\":{\"duration\":0,\"redraw\":true},\"mode\":\"immediate\",\"fromcurrent\":true,\"transition\":{\"duration\":0,\"easing\":\"linear\"}}],\"label\":\"60\",\"method\":\"animate\"},{\"args\":[[\"65\"],{\"frame\":{\"duration\":0,\"redraw\":true},\"mode\":\"immediate\",\"fromcurrent\":true,\"transition\":{\"duration\":0,\"easing\":\"linear\"}}],\"label\":\"65\",\"method\":\"animate\"},{\"args\":[[\"70\"],{\"frame\":{\"duration\":0,\"redraw\":true},\"mode\":\"immediate\",\"fromcurrent\":true,\"transition\":{\"duration\":0,\"easing\":\"linear\"}}],\"label\":\"70\",\"method\":\"animate\"},{\"args\":[[\"75\"],{\"frame\":{\"duration\":0,\"redraw\":true},\"mode\":\"immediate\",\"fromcurrent\":true,\"transition\":{\"duration\":0,\"easing\":\"linear\"}}],\"label\":\"75\",\"method\":\"animate\"},{\"args\":[[\"80\"],{\"frame\":{\"duration\":0,\"redraw\":true},\"mode\":\"immediate\",\"fromcurrent\":true,\"transition\":{\"duration\":0,\"easing\":\"linear\"}}],\"label\":\"80\",\"method\":\"animate\"},{\"args\":[[\"85\"],{\"frame\":{\"duration\":0,\"redraw\":true},\"mode\":\"immediate\",\"fromcurrent\":true,\"transition\":{\"duration\":0,\"easing\":\"linear\"}}],\"label\":\"85\",\"method\":\"animate\"},{\"args\":[[\"90\"],{\"frame\":{\"duration\":0,\"redraw\":true},\"mode\":\"immediate\",\"fromcurrent\":true,\"transition\":{\"duration\":0,\"easing\":\"linear\"}}],\"label\":\"90\",\"method\":\"animate\"},{\"args\":[[\"95\"],{\"frame\":{\"duration\":0,\"redraw\":true},\"mode\":\"immediate\",\"fromcurrent\":true,\"transition\":{\"duration\":0,\"easing\":\"linear\"}}],\"label\":\"95\",\"method\":\"animate\"},{\"args\":[[\"100\"],{\"frame\":{\"duration\":0,\"redraw\":true},\"mode\":\"immediate\",\"fromcurrent\":true,\"transition\":{\"duration\":0,\"easing\":\"linear\"}}],\"label\":\"100\",\"method\":\"animate\"}],\"x\":0.1,\"xanchor\":\"left\",\"y\":0,\"yanchor\":\"top\"}],\"title\":{\"text\":\"Carbon dividend poverty impact by age group\",\"font\":{\"size\":20}},\"images\":[{\"sizex\":0.12,\"sizey\":0.12,\"source\":\"https://raw.githubusercontent.com/UBICenter/ubicenter.org/master/assets/images/logos/wide-blue.jpg\",\"x\":0.98,\"xanchor\":\"right\",\"xref\":\"paper\",\"y\":-0.12,\"yanchor\":\"bottom\",\"yref\":\"paper\"}],\"hoverlabel\":{\"align\":\"right\"},\"font\":{\"family\":\"Roboto\"},\"plot_bgcolor\":\"white\",\"paper_bgcolor\":\"white\",\"width\":800,\"height\":600},                        {\"displayModeBar\": false, \"responsive\": true}                    ).then(function(){\n",
                     "                            Plotly.addFrames('6bfe3146-97ce-4474-ac68-5a03d4efd9da', [{\"data\":[{\"alignmentgroup\":\"True\",\"customdata\":[[\"A \\u00a30 carbon dividend would cut poverty by -0.0%\"],[\"A \\u00a30 carbon dividend would cut poverty among children by -0.0%\"],[\"A \\u00a30 carbon dividend would cut poverty among adults by -0.0%\"]],\"hovertemplate\":\"%{customdata[0]}<extra></extra>\",\"legendgroup\":\"Poverty\",\"marker\":{\"color\":\"#49A6E2\",\"pattern\":{\"shape\":\"\"}},\"name\":\"Poverty\",\"offsetgroup\":\"Poverty\",\"orientation\":\"v\",\"showlegend\":true,\"textposition\":\"auto\",\"x\":[\"All\",\"Children\",\"Adults\"],\"xaxis\":\"x\",\"y\":[0.0,0.0,0.0],\"yaxis\":\"y\",\"type\":\"bar\"},{\"alignmentgroup\":\"True\",\"customdata\":[[\"A \\u00a30 carbon dividend would cut deep poverty by -0.0%\"],[\"A \\u00a30 carbon dividend would cut deep poverty among children by -0.0%\"],[\"A \\u00a30 carbon dividend would cut deep poverty among adults by -0.0%\"]],\"hovertemplate\":\"%{customdata[0]}<extra></extra>\",\"legendgroup\":\"Deep poverty\",\"marker\":{\"color\":\"#0F4AA1\",\"pattern\":{\"shape\":\"\"}},\"name\":\"Deep poverty\",\"offsetgroup\":\"Deep poverty\",\"orientation\":\"v\",\"showlegend\":true,\"textposition\":\"auto\",\"x\":[\"All\",\"Children\",\"Adults\"],\"xaxis\":\"x\",\"y\":[0.0,0.0,0.0],\"yaxis\":\"y\",\"type\":\"bar\"}],\"name\":\"0\"},{\"data\":[{\"alignmentgroup\":\"True\",\"customdata\":[[\"A \\u00a35 carbon dividend would cut poverty by 0.8%\"],[\"A \\u00a35 carbon dividend would cut poverty among children by 1.0%\"],[\"A \\u00a35 carbon dividend would cut poverty among adults by 0.7%\"]],\"hovertemplate\":\"%{customdata[0]}<extra></extra>\",\"legendgroup\":\"Poverty\",\"marker\":{\"color\":\"#49A6E2\",\"pattern\":{\"shape\":\"\"}},\"name\":\"Poverty\",\"offsetgroup\":\"Poverty\",\"orientation\":\"v\",\"showlegend\":true,\"textposition\":\"auto\",\"x\":[\"All\",\"Children\",\"Adults\"],\"xaxis\":\"x\",\"y\":[-0.008393998391899471,-0.010277803688254594,-0.007496362991299632],\"yaxis\":\"y\",\"type\":\"bar\"},{\"alignmentgroup\":\"True\",\"customdata\":[[\"A \\u00a35 carbon dividend would cut deep poverty by 2.8%\"],[\"A \\u00a35 carbon dividend would cut deep poverty among children by 5.8%\"],[\"A \\u00a35 carbon dividend would cut deep poverty among adults by 1.8%\"]],\"hovertemplate\":\"%{customdata[0]}<extra></extra>\",\"legendgroup\":\"Deep poverty\",\"marker\":{\"color\":\"#0F4AA1\",\"pattern\":{\"shape\":\"\"}},\"name\":\"Deep poverty\",\"offsetgroup\":\"Deep poverty\",\"orientation\":\"v\",\"showlegend\":true,\"textposition\":\"auto\",\"x\":[\"All\",\"Children\",\"Adults\"],\"xaxis\":\"x\",\"y\":[-0.027720822437932946,-0.05751388356455733,-0.017823379177276832],\"yaxis\":\"y\",\"type\":\"bar\"}],\"name\":\"5\"},{\"data\":[{\"alignmentgroup\":\"True\",\"customdata\":[[\"A \\u00a310 carbon dividend would cut poverty by 1.4%\"],[\"A \\u00a310 carbon dividend would cut poverty among children by 1.8%\"],[\"A \\u00a310 carbon dividend would cut poverty among adults by 1.2%\"]],\"hovertemplate\":\"%{customdata[0]}<extra></extra>\",\"legendgroup\":\"Poverty\",\"marker\":{\"color\":\"#49A6E2\",\"pattern\":{\"shape\":\"\"}},\"name\":\"Poverty\",\"offsetgroup\":\"Poverty\",\"orientation\":\"v\",\"showlegend\":true,\"textposition\":\"auto\",\"x\":[\"All\",\"Children\",\"Adults\"],\"xaxis\":\"x\",\"y\":[-0.013851114418243271,-0.017558446257026183,-0.012084566512946981],\"yaxis\":\"y\",\"type\":\"bar\"},{\"alignmentgroup\":\"True\",\"customdata\":[[\"A \\u00a310 carbon dividend would cut deep poverty by 3.5%\"],[\"A \\u00a310 carbon dividend would cut deep poverty among children by 6.9%\"],[\"A \\u00a310 carbon dividend would cut deep poverty among adults by 2.4%\"]],\"hovertemplate\":\"%{customdata[0]}<extra></extra>\",\"legendgroup\":\"Deep poverty\",\"marker\":{\"color\":\"#0F4AA1\",\"pattern\":{\"shape\":\"\"}},\"name\":\"Deep poverty\",\"offsetgroup\":\"Deep poverty\",\"orientation\":\"v\",\"showlegend\":true,\"textposition\":\"auto\",\"x\":[\"All\",\"Children\",\"Adults\"],\"xaxis\":\"x\",\"y\":[-0.03530824779780184,-0.06923950657099831,-0.024036069116899594],\"yaxis\":\"y\",\"type\":\"bar\"}],\"name\":\"10\"},{\"data\":[{\"alignmentgroup\":\"True\",\"customdata\":[[\"A \\u00a315 carbon dividend would cut poverty by 1.6%\"],[\"A \\u00a315 carbon dividend would cut poverty among children by 2.0%\"],[\"A \\u00a315 carbon dividend would cut poverty among adults by 1.5%\"]],\"hovertemplate\":\"%{customdata[0]}<extra></extra>\",\"legendgroup\":\"Poverty\",\"marker\":{\"color\":\"#49A6E2\",\"pattern\":{\"shape\":\"\"}},\"name\":\"Poverty\",\"offsetgroup\":\"Poverty\",\"orientation\":\"v\",\"showlegend\":true,\"textposition\":\"auto\",\"x\":[\"All\",\"Children\",\"Adults\"],\"xaxis\":\"x\",\"y\":[-0.016235414100414958,-0.019873944134477184,-0.014501650334574068],\"yaxis\":\"y\",\"type\":\"bar\"},{\"alignmentgroup\":\"True\",\"customdata\":[[\"A \\u00a315 carbon dividend would cut deep poverty by 4.6%\"],[\"A \\u00a315 carbon dividend would cut deep poverty among children by 10.0%\"],[\"A \\u00a315 carbon dividend would cut deep poverty among adults by 2.9%\"]],\"hovertemplate\":\"%{customdata[0]}<extra></extra>\",\"legendgroup\":\"Deep poverty\",\"marker\":{\"color\":\"#0F4AA1\",\"pattern\":{\"shape\":\"\"}},\"name\":\"Deep poverty\",\"offsetgroup\":\"Deep poverty\",\"orientation\":\"v\",\"showlegend\":true,\"textposition\":\"auto\",\"x\":[\"All\",\"Children\",\"Adults\"],\"xaxis\":\"x\",\"y\":[-0.04643087449348593,-0.09976164750738858,-0.028714054536360667],\"yaxis\":\"y\",\"type\":\"bar\"}],\"name\":\"15\"},{\"data\":[{\"alignmentgroup\":\"True\",\"customdata\":[[\"A \\u00a320 carbon dividend would cut poverty by 3.1%\"],[\"A \\u00a320 carbon dividend would cut poverty among children by 3.6%\"],[\"A \\u00a320 carbon dividend would cut poverty among adults by 2.8%\"]],\"hovertemplate\":\"%{customdata[0]}<extra></extra>\",\"legendgroup\":\"Poverty\",\"marker\":{\"color\":\"#49A6E2\",\"pattern\":{\"shape\":\"\"}},\"name\":\"Poverty\",\"offsetgroup\":\"Poverty\",\"orientation\":\"v\",\"showlegend\":true,\"textposition\":\"auto\",\"x\":[\"All\",\"Children\",\"Adults\"],\"xaxis\":\"x\",\"y\":[-0.030631893766748686,-0.03621679936872768,-0.027970679793603903],\"yaxis\":\"y\",\"type\":\"bar\"},{\"alignmentgroup\":\"True\",\"customdata\":[[\"A \\u00a320 carbon dividend would cut deep poverty by 4.6%\"],[\"A \\u00a320 carbon dividend would cut deep poverty among children by 10.0%\"],[\"A \\u00a320 carbon dividend would cut deep poverty among adults by 2.9%\"]],\"hovertemplate\":\"%{customdata[0]}<extra></extra>\",\"legendgroup\":\"Deep poverty\",\"marker\":{\"color\":\"#0F4AA1\",\"pattern\":{\"shape\":\"\"}},\"name\":\"Deep poverty\",\"offsetgroup\":\"Deep poverty\",\"orientation\":\"v\",\"showlegend\":true,\"textposition\":\"auto\",\"x\":[\"All\",\"Children\",\"Adults\"],\"xaxis\":\"x\",\"y\":[-0.04628315705090713,-0.09976164750738858,-0.02851726442547442],\"yaxis\":\"y\",\"type\":\"bar\"}],\"name\":\"20\"},{\"data\":[{\"alignmentgroup\":\"True\",\"customdata\":[[\"A \\u00a325 carbon dividend would cut poverty by 3.3%\"],[\"A \\u00a325 carbon dividend would cut poverty among children by 4.0%\"],[\"A \\u00a325 carbon dividend would cut poverty among adults by 3.0%\"]],\"hovertemplate\":\"%{customdata[0]}<extra></extra>\",\"legendgroup\":\"Poverty\",\"marker\":{\"color\":\"#49A6E2\",\"pattern\":{\"shape\":\"\"}},\"name\":\"Poverty\",\"offsetgroup\":\"Poverty\",\"orientation\":\"v\",\"showlegend\":true,\"textposition\":\"auto\",\"x\":[\"All\",\"Children\",\"Adults\"],\"xaxis\":\"x\",\"y\":[-0.032872542483411316,-0.03980631159449721,-0.02956859348945806],\"yaxis\":\"y\",\"type\":\"bar\"},{\"alignmentgroup\":\"True\",\"customdata\":[[\"A \\u00a325 carbon dividend would cut deep poverty by 5.3%\"],[\"A \\u00a325 carbon dividend would cut deep poverty among children by 9.4%\"],[\"A \\u00a325 carbon dividend would cut deep poverty among adults by 4.0%\"]],\"hovertemplate\":\"%{customdata[0]}<extra></extra>\",\"legendgroup\":\"Deep poverty\",\"marker\":{\"color\":\"#0F4AA1\",\"pattern\":{\"shape\":\"\"}},\"name\":\"Deep poverty\",\"offsetgroup\":\"Deep poverty\",\"orientation\":\"v\",\"showlegend\":true,\"textposition\":\"auto\",\"x\":[\"All\",\"Children\",\"Adults\"],\"xaxis\":\"x\",\"y\":[-0.05319973706522252,-0.09423891532994444,-0.03956626259233409],\"yaxis\":\"y\",\"type\":\"bar\"}],\"name\":\"25\"},{\"data\":[{\"alignmentgroup\":\"True\",\"customdata\":[[\"A \\u00a330 carbon dividend would cut poverty by 4.0%\"],[\"A \\u00a330 carbon dividend would cut poverty among children by 4.9%\"],[\"A \\u00a330 carbon dividend would cut poverty among adults by 3.5%\"]],\"hovertemplate\":\"%{customdata[0]}<extra></extra>\",\"legendgroup\":\"Poverty\",\"marker\":{\"color\":\"#49A6E2\",\"pattern\":{\"shape\":\"\"}},\"name\":\"Poverty\",\"offsetgroup\":\"Poverty\",\"orientation\":\"v\",\"showlegend\":true,\"textposition\":\"auto\",\"x\":[\"All\",\"Children\",\"Adults\"],\"xaxis\":\"x\",\"y\":[-0.03969809973869909,-0.04889323649931154,-0.03531660644655643],\"yaxis\":\"y\",\"type\":\"bar\"},{\"alignmentgroup\":\"True\",\"customdata\":[[\"A \\u00a330 carbon dividend would cut deep poverty by 6.7%\"],[\"A \\u00a330 carbon dividend would cut deep poverty among children by 12.5%\"],[\"A \\u00a330 carbon dividend would cut deep poverty among adults by 4.8%\"]],\"hovertemplate\":\"%{customdata[0]}<extra></extra>\",\"legendgroup\":\"Deep poverty\",\"marker\":{\"color\":\"#0F4AA1\",\"pattern\":{\"shape\":\"\"}},\"name\":\"Deep poverty\",\"offsetgroup\":\"Deep poverty\",\"orientation\":\"v\",\"showlegend\":true,\"textposition\":\"auto\",\"x\":[\"All\",\"Children\",\"Adults\"],\"xaxis\":\"x\",\"y\":[-0.06687711361795312,-0.12473452636077287,-0.04765651532506132],\"yaxis\":\"y\",\"type\":\"bar\"}],\"name\":\"30\"},{\"data\":[{\"alignmentgroup\":\"True\",\"customdata\":[[\"A \\u00a335 carbon dividend would cut poverty by 4.9%\"],[\"A \\u00a335 carbon dividend would cut poverty among children by 6.1%\"],[\"A \\u00a335 carbon dividend would cut poverty among adults by 4.3%\"]],\"hovertemplate\":\"%{customdata[0]}<extra></extra>\",\"legendgroup\":\"Poverty\",\"marker\":{\"color\":\"#49A6E2\",\"pattern\":{\"shape\":\"\"}},\"name\":\"Poverty\",\"offsetgroup\":\"Poverty\",\"orientation\":\"v\",\"showlegend\":true,\"textposition\":\"auto\",\"x\":[\"All\",\"Children\",\"Adults\"],\"xaxis\":\"x\",\"y\":[-0.04881209653888785,-0.06140677029689301,-0.0428107199390525],\"yaxis\":\"y\",\"type\":\"bar\"},{\"alignmentgroup\":\"True\",\"customdata\":[[\"A \\u00a335 carbon dividend would cut deep poverty by 8.4%\"],[\"A \\u00a335 carbon dividend would cut deep poverty among children by 15.6%\"],[\"A \\u00a335 carbon dividend would cut deep poverty among adults by 6.0%\"]],\"hovertemplate\":\"%{customdata[0]}<extra></extra>\",\"legendgroup\":\"Deep poverty\",\"marker\":{\"color\":\"#0F4AA1\",\"pattern\":{\"shape\":\"\"}},\"name\":\"Deep poverty\",\"offsetgroup\":\"Deep poverty\",\"orientation\":\"v\",\"showlegend\":true,\"textposition\":\"auto\",\"x\":[\"All\",\"Children\",\"Adults\"],\"xaxis\":\"x\",\"y\":[-0.08396951245300799,-0.15643956905748346,-0.059894501486835505],\"yaxis\":\"y\",\"type\":\"bar\"}],\"name\":\"35\"},{\"data\":[{\"alignmentgroup\":\"True\",\"customdata\":[[\"A \\u00a340 carbon dividend would cut poverty by 6.3%\"],[\"A \\u00a340 carbon dividend would cut poverty among children by 7.8%\"],[\"A \\u00a340 carbon dividend would cut poverty among adults by 5.5%\"]],\"hovertemplate\":\"%{customdata[0]}<extra></extra>\",\"legendgroup\":\"Poverty\",\"marker\":{\"color\":\"#49A6E2\",\"pattern\":{\"shape\":\"\"}},\"name\":\"Poverty\",\"offsetgroup\":\"Poverty\",\"orientation\":\"v\",\"showlegend\":true,\"textposition\":\"auto\",\"x\":[\"All\",\"Children\",\"Adults\"],\"xaxis\":\"x\",\"y\":[-0.06259122407816642,-0.07760362767945084,-0.055437796414129714],\"yaxis\":\"y\",\"type\":\"bar\"},{\"alignmentgroup\":\"True\",\"customdata\":[[\"A \\u00a340 carbon dividend would cut deep poverty by 8.7%\"],[\"A \\u00a340 carbon dividend would cut deep poverty among children by 16.4%\"],[\"A \\u00a340 carbon dividend would cut deep poverty among adults by 6.2%\"]],\"hovertemplate\":\"%{customdata[0]}<extra></extra>\",\"legendgroup\":\"Deep poverty\",\"marker\":{\"color\":\"#0F4AA1\",\"pattern\":{\"shape\":\"\"}},\"name\":\"Deep poverty\",\"offsetgroup\":\"Deep poverty\",\"orientation\":\"v\",\"showlegend\":true,\"textposition\":\"auto\",\"x\":[\"All\",\"Children\",\"Adults\"],\"xaxis\":\"x\",\"y\":[-0.08726457887670391,-0.16355283401251308,-0.06192113821943046],\"yaxis\":\"y\",\"type\":\"bar\"}],\"name\":\"40\"},{\"data\":[{\"alignmentgroup\":\"True\",\"customdata\":[[\"A \\u00a345 carbon dividend would cut poverty by 7.4%\"],[\"A \\u00a345 carbon dividend would cut poverty among children by 9.2%\"],[\"A \\u00a345 carbon dividend would cut poverty among adults by 6.5%\"]],\"hovertemplate\":\"%{customdata[0]}<extra></extra>\",\"legendgroup\":\"Poverty\",\"marker\":{\"color\":\"#49A6E2\",\"pattern\":{\"shape\":\"\"}},\"name\":\"Poverty\",\"offsetgroup\":\"Poverty\",\"orientation\":\"v\",\"showlegend\":true,\"textposition\":\"auto\",\"x\":[\"All\",\"Children\",\"Adults\"],\"xaxis\":\"x\",\"y\":[-0.0735897089911679,-0.0920708718051646,-0.06478341355384687],\"yaxis\":\"y\",\"type\":\"bar\"},{\"alignmentgroup\":\"True\",\"customdata\":[[\"A \\u00a345 carbon dividend would cut deep poverty by 10.3%\"],[\"A \\u00a345 carbon dividend would cut deep poverty among children by 18.2%\"],[\"A \\u00a345 carbon dividend would cut deep poverty among adults by 7.7%\"]],\"hovertemplate\":\"%{customdata[0]}<extra></extra>\",\"legendgroup\":\"Deep poverty\",\"marker\":{\"color\":\"#0F4AA1\",\"pattern\":{\"shape\":\"\"}},\"name\":\"Deep poverty\",\"offsetgroup\":\"Deep poverty\",\"orientation\":\"v\",\"showlegend\":true,\"textposition\":\"auto\",\"x\":[\"All\",\"Children\",\"Adults\"],\"xaxis\":\"x\",\"y\":[-0.10286316898965564,-0.18182981965886402,-0.07662994840313109],\"yaxis\":\"y\",\"type\":\"bar\"}],\"name\":\"45\"},{\"data\":[{\"alignmentgroup\":\"True\",\"customdata\":[[\"A \\u00a350 carbon dividend would cut poverty by 7.9%\"],[\"A \\u00a350 carbon dividend would cut poverty among children by 10.0%\"],[\"A \\u00a350 carbon dividend would cut poverty among adults by 6.9%\"]],\"hovertemplate\":\"%{customdata[0]}<extra></extra>\",\"legendgroup\":\"Poverty\",\"marker\":{\"color\":\"#49A6E2\",\"pattern\":{\"shape\":\"\"}},\"name\":\"Poverty\",\"offsetgroup\":\"Poverty\",\"orientation\":\"v\",\"showlegend\":true,\"textposition\":\"auto\",\"x\":[\"All\",\"Children\",\"Adults\"],\"xaxis\":\"x\",\"y\":[-0.07936985121445617,-0.10030824036685082,-0.06939268458736825],\"yaxis\":\"y\",\"type\":\"bar\"},{\"alignmentgroup\":\"True\",\"customdata\":[[\"A \\u00a350 carbon dividend would cut deep poverty by 12.1%\"],[\"A \\u00a350 carbon dividend would cut deep poverty among children by 22.0%\"],[\"A \\u00a350 carbon dividend would cut deep poverty among adults by 8.8%\"]],\"hovertemplate\":\"%{customdata[0]}<extra></extra>\",\"legendgroup\":\"Deep poverty\",\"marker\":{\"color\":\"#0F4AA1\",\"pattern\":{\"shape\":\"\"}},\"name\":\"Deep poverty\",\"offsetgroup\":\"Deep poverty\",\"orientation\":\"v\",\"showlegend\":true,\"textposition\":\"auto\",\"x\":[\"All\",\"Children\",\"Adults\"],\"xaxis\":\"x\",\"y\":[-0.12085238078081983,-0.2204770451537419,-0.08775643744011541],\"yaxis\":\"y\",\"type\":\"bar\"}],\"name\":\"50\"},{\"data\":[{\"alignmentgroup\":\"True\",\"customdata\":[[\"A \\u00a355 carbon dividend would cut poverty by 8.3%\"],[\"A \\u00a355 carbon dividend would cut poverty among children by 10.6%\"],[\"A \\u00a355 carbon dividend would cut poverty among adults by 7.2%\"]],\"hovertemplate\":\"%{customdata[0]}<extra></extra>\",\"legendgroup\":\"Poverty\",\"marker\":{\"color\":\"#49A6E2\",\"pattern\":{\"shape\":\"\"}},\"name\":\"Poverty\",\"offsetgroup\":\"Poverty\",\"orientation\":\"v\",\"showlegend\":true,\"textposition\":\"auto\",\"x\":[\"All\",\"Children\",\"Adults\"],\"xaxis\":\"x\",\"y\":[-0.08312755736426847,-0.10598784876044365,-0.0722346020971083],\"yaxis\":\"y\",\"type\":\"bar\"},{\"alignmentgroup\":\"True\",\"customdata\":[[\"A \\u00a355 carbon dividend would cut deep poverty by 13.2%\"],[\"A \\u00a355 carbon dividend would cut deep poverty among children by 22.3%\"],[\"A \\u00a355 carbon dividend would cut deep poverty among adults by 10.2%\"]],\"hovertemplate\":\"%{customdata[0]}<extra></extra>\",\"legendgroup\":\"Deep poverty\",\"marker\":{\"color\":\"#0F4AA1\",\"pattern\":{\"shape\":\"\"}},\"name\":\"Deep poverty\",\"offsetgroup\":\"Deep poverty\",\"orientation\":\"v\",\"showlegend\":true,\"textposition\":\"auto\",\"x\":[\"All\",\"Children\",\"Adults\"],\"xaxis\":\"x\",\"y\":[-0.13212319442230525,-0.22319973309561603,-0.10186699248102538],\"yaxis\":\"y\",\"type\":\"bar\"}],\"name\":\"55\"},{\"data\":[{\"alignmentgroup\":\"True\",\"customdata\":[[\"A \\u00a360 carbon dividend would cut poverty by 8.8%\"],[\"A \\u00a360 carbon dividend would cut poverty among children by 11.2%\"],[\"A \\u00a360 carbon dividend would cut poverty among adults by 7.6%\"]],\"hovertemplate\":\"%{customdata[0]}<extra></extra>\",\"legendgroup\":\"Poverty\",\"marker\":{\"color\":\"#49A6E2\",\"pattern\":{\"shape\":\"\"}},\"name\":\"Poverty\",\"offsetgroup\":\"Poverty\",\"orientation\":\"v\",\"showlegend\":true,\"textposition\":\"auto\",\"x\":[\"All\",\"Children\",\"Adults\"],\"xaxis\":\"x\",\"y\":[-0.0875256370436257,-0.11196503719542816,-0.07588023462962357],\"yaxis\":\"y\",\"type\":\"bar\"},{\"alignmentgroup\":\"True\",\"customdata\":[[\"A \\u00a360 carbon dividend would cut deep poverty by 14.8%\"],[\"A \\u00a360 carbon dividend would cut deep poverty among children by 25.5%\"],[\"A \\u00a360 carbon dividend would cut deep poverty among adults by 11.3%\"]],\"hovertemplate\":\"%{customdata[0]}<extra></extra>\",\"legendgroup\":\"Deep poverty\",\"marker\":{\"color\":\"#0F4AA1\",\"pattern\":{\"shape\":\"\"}},\"name\":\"Deep poverty\",\"offsetgroup\":\"Deep poverty\",\"orientation\":\"v\",\"showlegend\":true,\"textposition\":\"auto\",\"x\":[\"All\",\"Children\",\"Adults\"],\"xaxis\":\"x\",\"y\":[-0.14841779395296628,-0.2553038516222641,-0.11290956985202938],\"yaxis\":\"y\",\"type\":\"bar\"}],\"name\":\"60\"},{\"data\":[{\"alignmentgroup\":\"True\",\"customdata\":[[\"A \\u00a365 carbon dividend would cut poverty by 9.5%\"],[\"A \\u00a365 carbon dividend would cut poverty among children by 12.2%\"],[\"A \\u00a365 carbon dividend would cut poverty among adults by 8.3%\"]],\"hovertemplate\":\"%{customdata[0]}<extra></extra>\",\"legendgroup\":\"Poverty\",\"marker\":{\"color\":\"#49A6E2\",\"pattern\":{\"shape\":\"\"}},\"name\":\"Poverty\",\"offsetgroup\":\"Poverty\",\"orientation\":\"v\",\"showlegend\":true,\"textposition\":\"auto\",\"x\":[\"All\",\"Children\",\"Adults\"],\"xaxis\":\"x\",\"y\":[-0.09533928549176107,-0.12188182306746664,-0.08269173566492682],\"yaxis\":\"y\",\"type\":\"bar\"},{\"alignmentgroup\":\"True\",\"customdata\":[[\"A \\u00a365 carbon dividend would cut deep poverty by 14.5%\"],[\"A \\u00a365 carbon dividend would cut deep poverty among children by 25.0%\"],[\"A \\u00a365 carbon dividend would cut deep poverty among adults by 11.0%\"]],\"hovertemplate\":\"%{customdata[0]}<extra></extra>\",\"legendgroup\":\"Deep poverty\",\"marker\":{\"color\":\"#0F4AA1\",\"pattern\":{\"shape\":\"\"}},\"name\":\"Deep poverty\",\"offsetgroup\":\"Deep poverty\",\"orientation\":\"v\",\"showlegend\":true,\"textposition\":\"auto\",\"x\":[\"All\",\"Children\",\"Adults\"],\"xaxis\":\"x\",\"y\":[-0.14506291896346002,-0.2502528964622437,-0.11011814341793824],\"yaxis\":\"y\",\"type\":\"bar\"}],\"name\":\"65\"},{\"data\":[{\"alignmentgroup\":\"True\",\"customdata\":[[\"A \\u00a370 carbon dividend would cut poverty by 9.8%\"],[\"A \\u00a370 carbon dividend would cut poverty among children by 12.5%\"],[\"A \\u00a370 carbon dividend would cut poverty among adults by 8.5%\"]],\"hovertemplate\":\"%{customdata[0]}<extra></extra>\",\"legendgroup\":\"Poverty\",\"marker\":{\"color\":\"#49A6E2\",\"pattern\":{\"shape\":\"\"}},\"name\":\"Poverty\",\"offsetgroup\":\"Poverty\",\"orientation\":\"v\",\"showlegend\":true,\"textposition\":\"auto\",\"x\":[\"All\",\"Children\",\"Adults\"],\"xaxis\":\"x\",\"y\":[-0.0982014091849942,-0.12549991994927046,-0.08519363726021911],\"yaxis\":\"y\",\"type\":\"bar\"},{\"alignmentgroup\":\"True\",\"customdata\":[[\"A \\u00a370 carbon dividend would cut deep poverty by 16.2%\"],[\"A \\u00a370 carbon dividend would cut deep poverty among children by 27.6%\"],[\"A \\u00a370 carbon dividend would cut deep poverty among adults by 12.5%\"]],\"hovertemplate\":\"%{customdata[0]}<extra></extra>\",\"legendgroup\":\"Deep poverty\",\"marker\":{\"color\":\"#0F4AA1\",\"pattern\":{\"shape\":\"\"}},\"name\":\"Deep poverty\",\"offsetgroup\":\"Deep poverty\",\"orientation\":\"v\",\"showlegend\":true,\"textposition\":\"auto\",\"x\":[\"All\",\"Children\",\"Adults\"],\"xaxis\":\"x\",\"y\":[-0.1624273459205876,-0.2758931774351251,-0.12473327935034462],\"yaxis\":\"y\",\"type\":\"bar\"}],\"name\":\"70\"},{\"data\":[{\"alignmentgroup\":\"True\",\"customdata\":[[\"A \\u00a375 carbon dividend would cut poverty by 10.2%\"],[\"A \\u00a375 carbon dividend would cut poverty among children by 13.1%\"],[\"A \\u00a375 carbon dividend would cut poverty among adults by 8.8%\"]],\"hovertemplate\":\"%{customdata[0]}<extra></extra>\",\"legendgroup\":\"Poverty\",\"marker\":{\"color\":\"#49A6E2\",\"pattern\":{\"shape\":\"\"}},\"name\":\"Poverty\",\"offsetgroup\":\"Poverty\",\"orientation\":\"v\",\"showlegend\":true,\"textposition\":\"auto\",\"x\":[\"All\",\"Children\",\"Adults\"],\"xaxis\":\"x\",\"y\":[-0.10197779377588578,-0.13123937718770562,-0.08803461546606972],\"yaxis\":\"y\",\"type\":\"bar\"},{\"alignmentgroup\":\"True\",\"customdata\":[[\"A \\u00a375 carbon dividend would cut deep poverty by 16.7%\"],[\"A \\u00a375 carbon dividend would cut deep poverty among children by 28.2%\"],[\"A \\u00a375 carbon dividend would cut deep poverty among adults by 12.9%\"]],\"hovertemplate\":\"%{customdata[0]}<extra></extra>\",\"legendgroup\":\"Deep poverty\",\"marker\":{\"color\":\"#0F4AA1\",\"pattern\":{\"shape\":\"\"}},\"name\":\"Deep poverty\",\"offsetgroup\":\"Deep poverty\",\"orientation\":\"v\",\"showlegend\":true,\"textposition\":\"auto\",\"x\":[\"All\",\"Children\",\"Adults\"],\"xaxis\":\"x\",\"y\":[-0.1672465598759736,-0.2820105817740709,-0.12912122625303657],\"yaxis\":\"y\",\"type\":\"bar\"}],\"name\":\"75\"},{\"data\":[{\"alignmentgroup\":\"True\",\"customdata\":[[\"A \\u00a380 carbon dividend would cut poverty by 10.6%\"],[\"A \\u00a380 carbon dividend would cut poverty among children by 13.8%\"],[\"A \\u00a380 carbon dividend would cut poverty among adults by 9.1%\"]],\"hovertemplate\":\"%{customdata[0]}<extra></extra>\",\"legendgroup\":\"Poverty\",\"marker\":{\"color\":\"#49A6E2\",\"pattern\":{\"shape\":\"\"}},\"name\":\"Poverty\",\"offsetgroup\":\"Poverty\",\"orientation\":\"v\",\"showlegend\":true,\"textposition\":\"auto\",\"x\":[\"All\",\"Children\",\"Adults\"],\"xaxis\":\"x\",\"y\":[-0.106088754858924,-0.13819823256792374,-0.09078855162553345],\"yaxis\":\"y\",\"type\":\"bar\"},{\"alignmentgroup\":\"True\",\"customdata\":[[\"A \\u00a380 carbon dividend would cut deep poverty by 17.1%\"],[\"A \\u00a380 carbon dividend would cut deep poverty among children by 29.8%\"],[\"A \\u00a380 carbon dividend would cut deep poverty among adults by 12.9%\"]],\"hovertemplate\":\"%{customdata[0]}<extra></extra>\",\"legendgroup\":\"Deep poverty\",\"marker\":{\"color\":\"#0F4AA1\",\"pattern\":{\"shape\":\"\"}},\"name\":\"Deep poverty\",\"offsetgroup\":\"Deep poverty\",\"orientation\":\"v\",\"showlegend\":true,\"textposition\":\"auto\",\"x\":[\"All\",\"Children\",\"Adults\"],\"xaxis\":\"x\",\"y\":[-0.17092927473253328,-0.2976765364553834,-0.12882303308070175],\"yaxis\":\"y\",\"type\":\"bar\"}],\"name\":\"80\"},{\"data\":[{\"alignmentgroup\":\"True\",\"customdata\":[[\"A \\u00a385 carbon dividend would cut poverty by 11.5%\"],[\"A \\u00a385 carbon dividend would cut poverty among children by 15.5%\"],[\"A \\u00a385 carbon dividend would cut poverty among adults by 9.6%\"]],\"hovertemplate\":\"%{customdata[0]}<extra></extra>\",\"legendgroup\":\"Poverty\",\"marker\":{\"color\":\"#49A6E2\",\"pattern\":{\"shape\":\"\"}},\"name\":\"Poverty\",\"offsetgroup\":\"Poverty\",\"orientation\":\"v\",\"showlegend\":true,\"textposition\":\"auto\",\"x\":[\"All\",\"Children\",\"Adults\"],\"xaxis\":\"x\",\"y\":[-0.11518504203849644,-0.15455735180871355,-0.09642409093515658],\"yaxis\":\"y\",\"type\":\"bar\"},{\"alignmentgroup\":\"True\",\"customdata\":[[\"A \\u00a385 carbon dividend would cut deep poverty by 18.1%\"],[\"A \\u00a385 carbon dividend would cut deep poverty among children by 29.8%\"],[\"A \\u00a385 carbon dividend would cut deep poverty among adults by 14.3%\"]],\"hovertemplate\":\"%{customdata[0]}<extra></extra>\",\"legendgroup\":\"Deep poverty\",\"marker\":{\"color\":\"#0F4AA1\",\"pattern\":{\"shape\":\"\"}},\"name\":\"Deep poverty\",\"offsetgroup\":\"Deep poverty\",\"orientation\":\"v\",\"showlegend\":true,\"textposition\":\"auto\",\"x\":[\"All\",\"Children\",\"Adults\"],\"xaxis\":\"x\",\"y\":[-0.18133698114073005,-0.2976765364553834,-0.14268824535615043],\"yaxis\":\"y\",\"type\":\"bar\"}],\"name\":\"85\"},{\"data\":[{\"alignmentgroup\":\"True\",\"customdata\":[[\"A \\u00a390 carbon dividend would cut poverty by 12.6%\"],[\"A \\u00a390 carbon dividend would cut poverty among children by 17.4%\"],[\"A \\u00a390 carbon dividend would cut poverty among adults by 10.4%\"]],\"hovertemplate\":\"%{customdata[0]}<extra></extra>\",\"legendgroup\":\"Poverty\",\"marker\":{\"color\":\"#49A6E2\",\"pattern\":{\"shape\":\"\"}},\"name\":\"Poverty\",\"offsetgroup\":\"Poverty\",\"orientation\":\"v\",\"showlegend\":true,\"textposition\":\"auto\",\"x\":[\"All\",\"Children\",\"Adults\"],\"xaxis\":\"x\",\"y\":[-0.126266905198944,-0.17402345314309786,-0.10351085491706968],\"yaxis\":\"y\",\"type\":\"bar\"},{\"alignmentgroup\":\"True\",\"customdata\":[[\"A \\u00a390 carbon dividend would cut deep poverty by 19.2%\"],[\"A \\u00a390 carbon dividend would cut deep poverty among children by 31.8%\"],[\"A \\u00a390 carbon dividend would cut deep poverty among adults by 15.0%\"]],\"hovertemplate\":\"%{customdata[0]}<extra></extra>\",\"legendgroup\":\"Deep poverty\",\"marker\":{\"color\":\"#0F4AA1\",\"pattern\":{\"shape\":\"\"}},\"name\":\"Deep poverty\",\"offsetgroup\":\"Deep poverty\",\"orientation\":\"v\",\"showlegend\":true,\"textposition\":\"auto\",\"x\":[\"All\",\"Children\",\"Adults\"],\"xaxis\":\"x\",\"y\":[-0.19163841140544957,-0.3175362138053247,-0.14981436551106797],\"yaxis\":\"y\",\"type\":\"bar\"}],\"name\":\"90\"},{\"data\":[{\"alignmentgroup\":\"True\",\"customdata\":[[\"A \\u00a395 carbon dividend would cut poverty by 13.5%\"],[\"A \\u00a395 carbon dividend would cut poverty among children by 18.6%\"],[\"A \\u00a395 carbon dividend would cut poverty among adults by 11.0%\"]],\"hovertemplate\":\"%{customdata[0]}<extra></extra>\",\"legendgroup\":\"Poverty\",\"marker\":{\"color\":\"#49A6E2\",\"pattern\":{\"shape\":\"\"}},\"name\":\"Poverty\",\"offsetgroup\":\"Poverty\",\"orientation\":\"v\",\"showlegend\":true,\"textposition\":\"auto\",\"x\":[\"All\",\"Children\",\"Adults\"],\"xaxis\":\"x\",\"y\":[-0.1347428758116962,-0.18605400423493057,-0.11029306382394],\"yaxis\":\"y\",\"type\":\"bar\"},{\"alignmentgroup\":\"True\",\"customdata\":[[\"A \\u00a395 carbon dividend would cut deep poverty by 18.8%\"],[\"A \\u00a395 carbon dividend would cut deep poverty among children by 31.8%\"],[\"A \\u00a395 carbon dividend would cut deep poverty among adults by 14.5%\"]],\"hovertemplate\":\"%{customdata[0]}<extra></extra>\",\"legendgroup\":\"Deep poverty\",\"marker\":{\"color\":\"#0F4AA1\",\"pattern\":{\"shape\":\"\"}},\"name\":\"Deep poverty\",\"offsetgroup\":\"Deep poverty\",\"orientation\":\"v\",\"showlegend\":true,\"textposition\":\"auto\",\"x\":[\"All\",\"Children\",\"Adults\"],\"xaxis\":\"x\",\"y\":[-0.18807276827421993,-0.3175362138053247,-0.14506419318932984],\"yaxis\":\"y\",\"type\":\"bar\"}],\"name\":\"95\"},{\"data\":[{\"alignmentgroup\":\"True\",\"customdata\":[[\"A \\u00a3100 carbon dividend would cut poverty by 13.8%\"],[\"A \\u00a3100 carbon dividend would cut poverty among children by 19.1%\"],[\"A \\u00a3100 carbon dividend would cut poverty among adults by 11.3%\"]],\"hovertemplate\":\"%{customdata[0]}<extra></extra>\",\"legendgroup\":\"Poverty\",\"marker\":{\"color\":\"#49A6E2\",\"pattern\":{\"shape\":\"\"}},\"name\":\"Poverty\",\"offsetgroup\":\"Poverty\",\"orientation\":\"v\",\"showlegend\":true,\"textposition\":\"auto\",\"x\":[\"All\",\"Children\",\"Adults\"],\"xaxis\":\"x\",\"y\":[-0.13800153990321007,-0.19104779934256888,-0.11272493598118905],\"yaxis\":\"y\",\"type\":\"bar\"},{\"alignmentgroup\":\"True\",\"customdata\":[[\"A \\u00a3100 carbon dividend would cut deep poverty by 19.1%\"],[\"A \\u00a3100 carbon dividend would cut deep poverty among children by 32.7%\"],[\"A \\u00a3100 carbon dividend would cut deep poverty among adults by 14.6%\"]],\"hovertemplate\":\"%{customdata[0]}<extra></extra>\",\"legendgroup\":\"Deep poverty\",\"marker\":{\"color\":\"#0F4AA1\",\"pattern\":{\"shape\":\"\"}},\"name\":\"Deep poverty\",\"offsetgroup\":\"Deep poverty\",\"orientation\":\"v\",\"showlegend\":true,\"textposition\":\"auto\",\"x\":[\"All\",\"Children\",\"Adults\"],\"xaxis\":\"x\",\"y\":[-0.19134166121857055,-0.32727120857550085,-0.14618500622786823],\"yaxis\":\"y\",\"type\":\"bar\"}],\"name\":\"100\"}]);\n",
                     "                        }).then(function(){\n",
                     "                            \n",
                     "var gd = document.getElementById('6bfe3146-97ce-4474-ac68-5a03d4efd9da');\n",
                     "var x = new MutationObserver(function (mutations, observer) {{\n",
                     "        var display = window.getComputedStyle(gd).display;\n",
                     "        if (!display || display === 'none') {{\n",
                     "            console.log([gd, 'removed!']);\n",
                     "            Plotly.purge(gd);\n",
                     "            observer.disconnect();\n",
                     "        }}\n",
                     "}});\n",
                     "\n",
                     "// Listen for the removal of the full notebook cells\n",
                     "var notebookContainer = gd.closest('#notebook-container');\n",
                     "if (notebookContainer) {{\n",
                     "    x.observe(notebookContainer, {childList: true});\n",
                     "}}\n",
                     "\n",
                     "// Listen for the clearing of the current output cell\n",
                     "var outputEl = gd.closest('.output');\n",
                     "if (outputEl) {{\n",
                     "    x.observe(outputEl, {childList: true});\n",
                     "}}\n",
                     "\n",
                     "                        })                };                });            </script>        </div>"
                  ]
               },
               "metadata": {},
               "output_type": "display_data"
            }
         ],
         "source": [
            "# Current the dataframe has columns [price, ubi, poverty, deep poverty, child poverty, deep child poverty, working-age poverty, deep working-age poverty, senior poverty, deep senior poverty]\n",
            "# We need it with columns [price, age group, poverty type, value]\n",
            "\n",
            "import numpy as np\n",
            "\n",
            "long_df = df.melt(\n",
            "    id_vars=\"carbon_tax\",\n",
            "    value_vars=[\n",
            "        \"poverty\",\n",
            "        \"deep_poverty\",\n",
            "        \"child_poverty\",\n",
            "        \"deep_child_poverty\",\n",
            "        \"adult_poverty\",\n",
            "        \"deep_adult_poverty\",\n",
            "    ],\n",
            ")\n",
            "long_df[\"age_group\"] = np.where(\n",
            "    long_df.variable.str.contains(\"child\"),\n",
            "    \"Children\",\n",
            "    np.where(long_df.variable.str.contains(\"adult\"), \"Adults\", \"All\"),\n",
            ")\n",
            "long_df[\"poverty_type\"] = np.where(\n",
            "    long_df.variable.str.contains(\"deep\"), \"Deep poverty\", \"Poverty\"\n",
            ")\n",
            "\n",
            "long_df[\"hover\"] = (\n",
            "    \"A £\"\n",
            "    + long_df.carbon_tax.astype(str)\n",
            "    + \" carbon dividend would cut \"\n",
            "    + long_df.poverty_type.str.lower()\n",
            "    + np.where(long_df.age_group == \"All\", \"\", \" among \" + long_df.age_group.str.lower())\n",
            "    + \" by \"\n",
            "    + (-100 * long_df.value).round(1).astype(str)\n",
            "    + \"%\"\n",
            ")\n",
            "\n",
            "import plotly.io as pio\n",
            "\n",
            "#pio.renderers.default = \"notebook_connected\"  # As per https://github.com/microsoft/vscode-jupyter/issues/4364#issuecomment-817352686\n",
            "fig = px.bar(\n",
            "    long_df,\n",
            "    x=\"age_group\",\n",
            "    y=\"value\",\n",
            "    color=\"poverty_type\",\n",
            "    barmode=\"group\",\n",
            "    animation_frame=\"carbon_tax\",\n",
            "    color_discrete_sequence=[LIGHT_BLUE, DARK_BLUE],\n",
            "    labels=LABELS,\n",
            "    #hover_data=[\"hover\"],\n",
            "    custom_data=[\"hover\"],\n",
            ").update_layout(\n",
            "    yaxis_title=\"Poverty impact\",\n",
            "    yaxis_tickformat=\".0%\",\n",
            "    xaxis_title=\"\",\n",
            "    title=\"Carbon dividend poverty impact by age group\",\n",
            "    legend_title=\"\",\n",
            "    yaxis_range=[-0.35, 0],\n",
            ").update_traces(hovertemplate=HOVER_TEMPLATE)\n",
            "\n",
            "# Needed to get hover cards working with animation frames.\n",
            "for frame in fig.frames:\n",
            "    for data in frame.data:\n",
            "        data.hovertemplate = HOVER_TEMPLATE\n",
            "\n",
            "format_fig(fig)\n"
         ]
      },
      {
         "cell_type": "markdown",
         "metadata": {},
         "source": [
            "*Thanks to ​​Inés Fernández Barhumi and Reema Mohanty for their research assistance on our carbon tax model.*"
         ]
      }
   ],
   "metadata": {
      "interpreter": {
         "hash": "acd536c30d59fb9239b78f26155dcd58ce48444653c59c0cbc6c2d93043c3f07"
      },
      "kernelspec": {
         "display_name": "Python 3 (ipykernel)",
         "language": "python",
         "name": "python3"
      },
      "language_info": {
         "codemirror_mode": {
            "name": "ipython",
            "version": 3
         },
         "file_extension": ".py",
         "mimetype": "text/x-python",
         "name": "python",
         "nbconvert_exporter": "python",
         "pygments_lexer": "ipython3",
         "version": "3.7.11"
      }
   },
   "nbformat": 4,
   "nbformat_minor": 4
}
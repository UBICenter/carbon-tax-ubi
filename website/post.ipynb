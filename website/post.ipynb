{
 "cells": [
  {
   "cell_type": "markdown",
   "metadata": {},
   "source": [
    "# The progressivity of a UK carbon dividend\n",
    "\n",
    "Earlier this month, the International Panel on Climate Change ([IPCC](https://www.ipcc.ch/)) released the [third installment](https://report.ipcc.ch/ar6wg3/) of its Sixth Assessment Report, titled \"Mitigation of Climate Change.\" The report covered a wide range of policy options to reduce carbon emissions, as well as a wide range of benefits such policies would have for humanity.\n",
    "\n",
    "As [Dana Nuccitelli of Citizens' Climate Lobby noted](https://citizensclimatelobby.org/blog/policy/the-latest-ipcc-report-has-a-lot-to-say-about-carbon-fee-and-dividend/), the report has a lot to say about one policy in particular: it contains 680 mentions of carbon pricing, from the economic theory and evidence to policy design and political support. While most climate change proposals require funding, carbon pricing policies raise revenue by charging fossil fuel companies for their carbon pollution. That means it also raises costs in isolation; to address this, the IPCC says, \"Carbon pricing is most effective if revenues are redistributed or used impartially.\" What's more impartial than redistributing to everyone equally?\n",
    "\n",
    "For Earth Day, we're [following up our report on US carbon dividends](https://www.ubicenter.org/us-carbon-dividend) with an analysis of the policy in the UK. Using [PolicyEngine](http://policyengine.org), we find that levying a fee on each tonne of carbon emissions, and redistributing the proceeds equally to all UK residents, would have a progressive distributional impact. A carbon dividend would significantly reduce poverty and inequality, and the larger the program, the more of each it does.\n",
    "Methodology\n",
    "\n",
    "As we've written on the [PolicyEngine blog today](...), PolicyEngine uses a range of data sources and techniques to estimate how carbon taxes would affect different types of households. \n"
   ]
  },
  {
   "cell_type": "code",
   "execution_count": 6,
   "metadata": {},
   "outputs": [
    {
     "name": "stdout",
     "output_type": "stream",
     "text": [
      "0\n",
      "10\n",
      "20\n",
      "30\n",
      "40\n",
      "50\n",
      "60\n",
      "70\n",
      "80\n",
      "90\n"
     ]
    }
   ],
   "source": [
    "from policyengine.countries import UK\n",
    "import pandas as pd\n",
    "\n",
    "uk = UK()\n",
    "\n",
    "tax_rates = list(range(0, 100, 10))\n",
    "changes = dict(\n",
    "    carbon_tax=[],\n",
    "    ubi=[],\n",
    "    poverty=[],\n",
    "    deep_poverty=[],\n",
    "    child_poverty=[],\n",
    "    deep_child_poverty=[],\n",
    "    adult_poverty=[],\n",
    "    deep_adult_poverty=[],\n",
    ")\n",
    "\n",
    "baseline_in_poverty = uk.baseline.calc(\"in_poverty_bhc\", map_to=\"person\")\n",
    "baseline_in_deep_poverty = uk.baseline.calc(\"in_deep_poverty_bhc\", map_to=\"person\")\n",
    "is_child = uk.baseline.calc(\"is_child\", map_to=\"person\")\n",
    "is_adult = uk.baseline.calc(\"is_adult\", map_to=\"person\")\n",
    "\n",
    "for tax_rate in tax_rates:\n",
    "    print(tax_rate)\n",
    "    baseline, reformed = uk._get_microsimulations(dict(carbon_tax=tax_rate))\n",
    "    revenue = reformed.calc(\"carbon_tax\").sum()\n",
    "    weekly_ubi = revenue / baseline.calc(\"people\").sum() / 52\n",
    "    baseline, reformed = uk._get_microsimulations(dict(carbon_tax=tax_rate, child_bi=weekly_ubi, adult_bi=weekly_ubi, senior_bi=weekly_ubi))\n",
    "    changes[\"carbon_tax\"] += [tax_rate]\n",
    "    changes[\"ubi\"] += [weekly_ubi]\n",
    "    in_poverty = reformed.calc(\"in_poverty_bhc\", map_to=\"person\")\n",
    "    in_deep_poverty = reformed.calc(\"in_deep_poverty_bhc\", map_to=\"person\")\n",
    "    changes[\"poverty\"] += [in_poverty.mean() / baseline_in_poverty.mean() - 1]\n",
    "    changes[\"deep_poverty\"] += [in_deep_poverty.mean() / baseline_in_deep_poverty.mean() - 1]\n",
    "    changes[\"child_poverty\"] += [in_poverty[is_child].mean() / baseline_in_poverty[is_child].mean() - 1]\n",
    "    changes[\"deep_child_poverty\"] += [in_deep_poverty[is_child].mean() / baseline_in_deep_poverty[is_child].mean() - 1]\n",
    "    changes[\"adult_poverty\"] += [in_poverty[is_adult].mean() / baseline_in_poverty[is_adult].mean() - 1]\n",
    "    changes[\"deep_adult_poverty\"] += [in_deep_poverty[is_adult].mean() / baseline_in_deep_poverty[is_adult].mean() - 1]\n",
    "\n",
    "\n",
    "df = pd.DataFrame(changes)\n"
   ]
  },
  {
   "cell_type": "code",
   "execution_count": 7,
   "metadata": {},
   "outputs": [
    {
     "data": {
      "text/html": [
       "<div>                            <div id=\"9541fcb1-0355-4b0b-afa2-2705c3858d50\" class=\"plotly-graph-div\" style=\"height:600px; width:800px;\"></div>            <script type=\"text/javascript\">                require([\"plotly\"], function(Plotly) {                    window.PLOTLYENV=window.PLOTLYENV || {};                                    if (document.getElementById(\"9541fcb1-0355-4b0b-afa2-2705c3858d50\")) {                    Plotly.newPlot(                        \"9541fcb1-0355-4b0b-afa2-2705c3858d50\",                        [{\"hovertemplate\":\"carbon_tax=%{x}<br>ubi=%{y}<extra></extra>\",\"legendgroup\":\"\",\"line\":{\"color\":\"#49A6E2\",\"dash\":\"solid\"},\"marker\":{\"symbol\":\"circle\"},\"mode\":\"lines\",\"name\":\"\",\"orientation\":\"v\",\"showlegend\":false,\"x\":[0,10,20,30,40,50,60,70,80,90],\"xaxis\":\"x\",\"y\":[0.0,1.5554428888654017,3.1108857777308034,4.6663286669274635,6.221771555461607,7.777214439714967,9.332657333854927,10.888100219531061,12.443543110923214,13.998985992351338],\"yaxis\":\"y\",\"type\":\"scatter\"}],                        {\"template\":{\"data\":{\"bar\":[{\"error_x\":{\"color\":\"#2a3f5f\"},\"error_y\":{\"color\":\"#2a3f5f\"},\"marker\":{\"line\":{\"color\":\"#E5ECF6\",\"width\":0.5},\"pattern\":{\"fillmode\":\"overlay\",\"size\":10,\"solidity\":0.2}},\"type\":\"bar\"}],\"barpolar\":[{\"marker\":{\"line\":{\"color\":\"#E5ECF6\",\"width\":0.5},\"pattern\":{\"fillmode\":\"overlay\",\"size\":10,\"solidity\":0.2}},\"type\":\"barpolar\"}],\"carpet\":[{\"aaxis\":{\"endlinecolor\":\"#2a3f5f\",\"gridcolor\":\"white\",\"linecolor\":\"white\",\"minorgridcolor\":\"white\",\"startlinecolor\":\"#2a3f5f\"},\"baxis\":{\"endlinecolor\":\"#2a3f5f\",\"gridcolor\":\"white\",\"linecolor\":\"white\",\"minorgridcolor\":\"white\",\"startlinecolor\":\"#2a3f5f\"},\"type\":\"carpet\"}],\"choropleth\":[{\"colorbar\":{\"outlinewidth\":0,\"ticks\":\"\"},\"type\":\"choropleth\"}],\"contour\":[{\"colorbar\":{\"outlinewidth\":0,\"ticks\":\"\"},\"colorscale\":[[0.0,\"#0d0887\"],[0.1111111111111111,\"#46039f\"],[0.2222222222222222,\"#7201a8\"],[0.3333333333333333,\"#9c179e\"],[0.4444444444444444,\"#bd3786\"],[0.5555555555555556,\"#d8576b\"],[0.6666666666666666,\"#ed7953\"],[0.7777777777777778,\"#fb9f3a\"],[0.8888888888888888,\"#fdca26\"],[1.0,\"#f0f921\"]],\"type\":\"contour\"}],\"contourcarpet\":[{\"colorbar\":{\"outlinewidth\":0,\"ticks\":\"\"},\"type\":\"contourcarpet\"}],\"heatmap\":[{\"colorbar\":{\"outlinewidth\":0,\"ticks\":\"\"},\"colorscale\":[[0.0,\"#0d0887\"],[0.1111111111111111,\"#46039f\"],[0.2222222222222222,\"#7201a8\"],[0.3333333333333333,\"#9c179e\"],[0.4444444444444444,\"#bd3786\"],[0.5555555555555556,\"#d8576b\"],[0.6666666666666666,\"#ed7953\"],[0.7777777777777778,\"#fb9f3a\"],[0.8888888888888888,\"#fdca26\"],[1.0,\"#f0f921\"]],\"type\":\"heatmap\"}],\"heatmapgl\":[{\"colorbar\":{\"outlinewidth\":0,\"ticks\":\"\"},\"colorscale\":[[0.0,\"#0d0887\"],[0.1111111111111111,\"#46039f\"],[0.2222222222222222,\"#7201a8\"],[0.3333333333333333,\"#9c179e\"],[0.4444444444444444,\"#bd3786\"],[0.5555555555555556,\"#d8576b\"],[0.6666666666666666,\"#ed7953\"],[0.7777777777777778,\"#fb9f3a\"],[0.8888888888888888,\"#fdca26\"],[1.0,\"#f0f921\"]],\"type\":\"heatmapgl\"}],\"histogram\":[{\"marker\":{\"pattern\":{\"fillmode\":\"overlay\",\"size\":10,\"solidity\":0.2}},\"type\":\"histogram\"}],\"histogram2d\":[{\"colorbar\":{\"outlinewidth\":0,\"ticks\":\"\"},\"colorscale\":[[0.0,\"#0d0887\"],[0.1111111111111111,\"#46039f\"],[0.2222222222222222,\"#7201a8\"],[0.3333333333333333,\"#9c179e\"],[0.4444444444444444,\"#bd3786\"],[0.5555555555555556,\"#d8576b\"],[0.6666666666666666,\"#ed7953\"],[0.7777777777777778,\"#fb9f3a\"],[0.8888888888888888,\"#fdca26\"],[1.0,\"#f0f921\"]],\"type\":\"histogram2d\"}],\"histogram2dcontour\":[{\"colorbar\":{\"outlinewidth\":0,\"ticks\":\"\"},\"colorscale\":[[0.0,\"#0d0887\"],[0.1111111111111111,\"#46039f\"],[0.2222222222222222,\"#7201a8\"],[0.3333333333333333,\"#9c179e\"],[0.4444444444444444,\"#bd3786\"],[0.5555555555555556,\"#d8576b\"],[0.6666666666666666,\"#ed7953\"],[0.7777777777777778,\"#fb9f3a\"],[0.8888888888888888,\"#fdca26\"],[1.0,\"#f0f921\"]],\"type\":\"histogram2dcontour\"}],\"mesh3d\":[{\"colorbar\":{\"outlinewidth\":0,\"ticks\":\"\"},\"type\":\"mesh3d\"}],\"parcoords\":[{\"line\":{\"colorbar\":{\"outlinewidth\":0,\"ticks\":\"\"}},\"type\":\"parcoords\"}],\"pie\":[{\"automargin\":true,\"type\":\"pie\"}],\"scatter\":[{\"marker\":{\"colorbar\":{\"outlinewidth\":0,\"ticks\":\"\"}},\"type\":\"scatter\"}],\"scatter3d\":[{\"line\":{\"colorbar\":{\"outlinewidth\":0,\"ticks\":\"\"}},\"marker\":{\"colorbar\":{\"outlinewidth\":0,\"ticks\":\"\"}},\"type\":\"scatter3d\"}],\"scattercarpet\":[{\"marker\":{\"colorbar\":{\"outlinewidth\":0,\"ticks\":\"\"}},\"type\":\"scattercarpet\"}],\"scattergeo\":[{\"marker\":{\"colorbar\":{\"outlinewidth\":0,\"ticks\":\"\"}},\"type\":\"scattergeo\"}],\"scattergl\":[{\"marker\":{\"colorbar\":{\"outlinewidth\":0,\"ticks\":\"\"}},\"type\":\"scattergl\"}],\"scattermapbox\":[{\"marker\":{\"colorbar\":{\"outlinewidth\":0,\"ticks\":\"\"}},\"type\":\"scattermapbox\"}],\"scatterpolar\":[{\"marker\":{\"colorbar\":{\"outlinewidth\":0,\"ticks\":\"\"}},\"type\":\"scatterpolar\"}],\"scatterpolargl\":[{\"marker\":{\"colorbar\":{\"outlinewidth\":0,\"ticks\":\"\"}},\"type\":\"scatterpolargl\"}],\"scatterternary\":[{\"marker\":{\"colorbar\":{\"outlinewidth\":0,\"ticks\":\"\"}},\"type\":\"scatterternary\"}],\"surface\":[{\"colorbar\":{\"outlinewidth\":0,\"ticks\":\"\"},\"colorscale\":[[0.0,\"#0d0887\"],[0.1111111111111111,\"#46039f\"],[0.2222222222222222,\"#7201a8\"],[0.3333333333333333,\"#9c179e\"],[0.4444444444444444,\"#bd3786\"],[0.5555555555555556,\"#d8576b\"],[0.6666666666666666,\"#ed7953\"],[0.7777777777777778,\"#fb9f3a\"],[0.8888888888888888,\"#fdca26\"],[1.0,\"#f0f921\"]],\"type\":\"surface\"}],\"table\":[{\"cells\":{\"fill\":{\"color\":\"#EBF0F8\"},\"line\":{\"color\":\"white\"}},\"header\":{\"fill\":{\"color\":\"#C8D4E3\"},\"line\":{\"color\":\"white\"}},\"type\":\"table\"}]},\"layout\":{\"annotationdefaults\":{\"arrowcolor\":\"#2a3f5f\",\"arrowhead\":0,\"arrowwidth\":1},\"autotypenumbers\":\"strict\",\"coloraxis\":{\"colorbar\":{\"outlinewidth\":0,\"ticks\":\"\"}},\"colorscale\":{\"diverging\":[[0,\"#8e0152\"],[0.1,\"#c51b7d\"],[0.2,\"#de77ae\"],[0.3,\"#f1b6da\"],[0.4,\"#fde0ef\"],[0.5,\"#f7f7f7\"],[0.6,\"#e6f5d0\"],[0.7,\"#b8e186\"],[0.8,\"#7fbc41\"],[0.9,\"#4d9221\"],[1,\"#276419\"]],\"sequential\":[[0.0,\"#0d0887\"],[0.1111111111111111,\"#46039f\"],[0.2222222222222222,\"#7201a8\"],[0.3333333333333333,\"#9c179e\"],[0.4444444444444444,\"#bd3786\"],[0.5555555555555556,\"#d8576b\"],[0.6666666666666666,\"#ed7953\"],[0.7777777777777778,\"#fb9f3a\"],[0.8888888888888888,\"#fdca26\"],[1.0,\"#f0f921\"]],\"sequentialminus\":[[0.0,\"#0d0887\"],[0.1111111111111111,\"#46039f\"],[0.2222222222222222,\"#7201a8\"],[0.3333333333333333,\"#9c179e\"],[0.4444444444444444,\"#bd3786\"],[0.5555555555555556,\"#d8576b\"],[0.6666666666666666,\"#ed7953\"],[0.7777777777777778,\"#fb9f3a\"],[0.8888888888888888,\"#fdca26\"],[1.0,\"#f0f921\"]]},\"colorway\":[\"#636efa\",\"#EF553B\",\"#00cc96\",\"#ab63fa\",\"#FFA15A\",\"#19d3f3\",\"#FF6692\",\"#B6E880\",\"#FF97FF\",\"#FECB52\"],\"font\":{\"color\":\"#2a3f5f\"},\"geo\":{\"bgcolor\":\"white\",\"lakecolor\":\"white\",\"landcolor\":\"#E5ECF6\",\"showlakes\":true,\"showland\":true,\"subunitcolor\":\"white\"},\"hoverlabel\":{\"align\":\"left\"},\"hovermode\":\"closest\",\"mapbox\":{\"style\":\"light\"},\"paper_bgcolor\":\"white\",\"plot_bgcolor\":\"#E5ECF6\",\"polar\":{\"angularaxis\":{\"gridcolor\":\"white\",\"linecolor\":\"white\",\"ticks\":\"\"},\"bgcolor\":\"#E5ECF6\",\"radialaxis\":{\"gridcolor\":\"white\",\"linecolor\":\"white\",\"ticks\":\"\"}},\"scene\":{\"xaxis\":{\"backgroundcolor\":\"#E5ECF6\",\"gridcolor\":\"white\",\"gridwidth\":2,\"linecolor\":\"white\",\"showbackground\":true,\"ticks\":\"\",\"zerolinecolor\":\"white\"},\"yaxis\":{\"backgroundcolor\":\"#E5ECF6\",\"gridcolor\":\"white\",\"gridwidth\":2,\"linecolor\":\"white\",\"showbackground\":true,\"ticks\":\"\",\"zerolinecolor\":\"white\"},\"zaxis\":{\"backgroundcolor\":\"#E5ECF6\",\"gridcolor\":\"white\",\"gridwidth\":2,\"linecolor\":\"white\",\"showbackground\":true,\"ticks\":\"\",\"zerolinecolor\":\"white\"}},\"shapedefaults\":{\"line\":{\"color\":\"#2a3f5f\"}},\"ternary\":{\"aaxis\":{\"gridcolor\":\"white\",\"linecolor\":\"white\",\"ticks\":\"\"},\"baxis\":{\"gridcolor\":\"white\",\"linecolor\":\"white\",\"ticks\":\"\"},\"bgcolor\":\"#E5ECF6\",\"caxis\":{\"gridcolor\":\"white\",\"linecolor\":\"white\",\"ticks\":\"\"}},\"title\":{\"x\":0.05},\"xaxis\":{\"automargin\":true,\"gridcolor\":\"white\",\"linecolor\":\"white\",\"ticks\":\"\",\"title\":{\"standoff\":15},\"zerolinecolor\":\"white\",\"zerolinewidth\":2},\"yaxis\":{\"automargin\":true,\"gridcolor\":\"white\",\"linecolor\":\"white\",\"ticks\":\"\",\"title\":{\"standoff\":15},\"zerolinecolor\":\"white\",\"zerolinewidth\":2}}},\"xaxis\":{\"anchor\":\"y\",\"domain\":[0.0,1.0],\"title\":{\"text\":\"Carbon price\",\"font\":{\"size\":16,\"color\":\"black\"}},\"tickprefix\":\"\\u00a3\",\"tickfont\":{\"size\":14}},\"yaxis\":{\"anchor\":\"x\",\"domain\":[0.0,1.0],\"title\":{\"text\":\"Weekly dividend\",\"font\":{\"size\":16,\"color\":\"black\"}},\"tickprefix\":\"\\u00a3\",\"tickfont\":{\"size\":14}},\"legend\":{\"tracegroupgap\":0},\"title\":{\"text\":\"Weekly carbon dividend by per-tonne carbon price\",\"font\":{\"size\":20}},\"images\":[{\"sizex\":0.12,\"sizey\":0.12,\"source\":\"https://raw.githubusercontent.com/UBICenter/ubicenter.org/master/assets/images/logos/wide-blue.jpg\",\"x\":0.98,\"xanchor\":\"right\",\"xref\":\"paper\",\"y\":-0.12,\"yanchor\":\"bottom\",\"yref\":\"paper\"}],\"hoverlabel\":{\"align\":\"right\"},\"font\":{\"family\":\"Roboto\"},\"plot_bgcolor\":\"white\",\"paper_bgcolor\":\"white\",\"width\":800,\"height\":600},                        {\"displayModeBar\": false, \"responsive\": true}                    ).then(function(){\n",
       "                            \n",
       "var gd = document.getElementById('9541fcb1-0355-4b0b-afa2-2705c3858d50');\n",
       "var x = new MutationObserver(function (mutations, observer) {{\n",
       "        var display = window.getComputedStyle(gd).display;\n",
       "        if (!display || display === 'none') {{\n",
       "            console.log([gd, 'removed!']);\n",
       "            Plotly.purge(gd);\n",
       "            observer.disconnect();\n",
       "        }}\n",
       "}});\n",
       "\n",
       "// Listen for the removal of the full notebook cells\n",
       "var notebookContainer = gd.closest('#notebook-container');\n",
       "if (notebookContainer) {{\n",
       "    x.observe(notebookContainer, {childList: true});\n",
       "}}\n",
       "\n",
       "// Listen for the clearing of the current output cell\n",
       "var outputEl = gd.closest('.output');\n",
       "if (outputEl) {{\n",
       "    x.observe(outputEl, {childList: true});\n",
       "}}\n",
       "\n",
       "                        })                };                });            </script>        </div>"
      ]
     },
     "metadata": {},
     "output_type": "display_data"
    }
   ],
   "source": [
    "import plotly.express as px\n",
    "from ubicenter import format_fig\n",
    "from ubicenter.plotly import LIGHT_BLUE\n",
    "\n",
    "# UBI by tax rate\n",
    "\n",
    "fig = px.line(df, x=\"carbon_tax\", y=\"ubi\", title=\"Weekly carbon dividend by per-tonne carbon price\", color_discrete_sequence=[LIGHT_BLUE])\n",
    "fig.update_layout(\n",
    "    yaxis_tickprefix=\"£\",\n",
    "    xaxis_tickprefix=\"£\",\n",
    "    xaxis_title=\"Carbon price\",\n",
    "    yaxis_title=\"Weekly dividend\",\n",
    ")\n",
    "format_fig(fig)"
   ]
  },
  {
   "cell_type": "code",
   "execution_count": 9,
   "metadata": {},
   "outputs": [
    {
     "data": {
      "text/html": [
       "<div>                            <div id=\"269140b5-4e3c-41e0-b5cd-a543ed722e2e\" class=\"plotly-graph-div\" style=\"height:600px; width:800px;\"></div>            <script type=\"text/javascript\">                require([\"plotly\"], function(Plotly) {                    window.PLOTLYENV=window.PLOTLYENV || {};                                    if (document.getElementById(\"269140b5-4e3c-41e0-b5cd-a543ed722e2e\")) {                    Plotly.newPlot(                        \"269140b5-4e3c-41e0-b5cd-a543ed722e2e\",                        [{\"hovertemplate\":\"variable=Poverty<br>Carbon price=%{x}<br>value=%{y}<extra></extra>\",\"legendgroup\":\"Poverty\",\"line\":{\"color\":\"#49A6E2\",\"dash\":\"solid\"},\"marker\":{\"symbol\":\"circle\"},\"mode\":\"lines\",\"name\":\"Poverty\",\"orientation\":\"v\",\"showlegend\":true,\"x\":[0,10,20,30,40,50,60,70,80,90],\"xaxis\":\"x\",\"y\":[0.0,-0.011290252916857257,-0.028875557727584766,-0.046086640212807284,-0.05281256093669329,-0.06139790010054469,-0.06908106619717147,-0.0901404454940683,-0.10937813956861953,-0.11361293119711302],\"yaxis\":\"y\",\"type\":\"scatter\"},{\"hovertemplate\":\"variable=Deep poverty<br>Carbon price=%{x}<br>value=%{y}<extra></extra>\",\"legendgroup\":\"Deep poverty\",\"line\":{\"color\":\"#0F4AA1\",\"dash\":\"solid\"},\"marker\":{\"symbol\":\"circle\"},\"mode\":\"lines\",\"name\":\"Deep poverty\",\"orientation\":\"v\",\"showlegend\":true,\"x\":[0,10,20,30,40,50,60,70,80,90],\"xaxis\":\"x\",\"y\":[0.0,-0.04701262058204725,-0.0661356642667662,-0.0878223840978124,-0.09806426310819094,-0.11956073722872818,-0.1354511371291054,-0.1380002913060524,-0.15516177990476565,-0.16184271681398754],\"yaxis\":\"y\",\"type\":\"scatter\"}],                        {\"template\":{\"data\":{\"bar\":[{\"error_x\":{\"color\":\"#2a3f5f\"},\"error_y\":{\"color\":\"#2a3f5f\"},\"marker\":{\"line\":{\"color\":\"#E5ECF6\",\"width\":0.5},\"pattern\":{\"fillmode\":\"overlay\",\"size\":10,\"solidity\":0.2}},\"type\":\"bar\"}],\"barpolar\":[{\"marker\":{\"line\":{\"color\":\"#E5ECF6\",\"width\":0.5},\"pattern\":{\"fillmode\":\"overlay\",\"size\":10,\"solidity\":0.2}},\"type\":\"barpolar\"}],\"carpet\":[{\"aaxis\":{\"endlinecolor\":\"#2a3f5f\",\"gridcolor\":\"white\",\"linecolor\":\"white\",\"minorgridcolor\":\"white\",\"startlinecolor\":\"#2a3f5f\"},\"baxis\":{\"endlinecolor\":\"#2a3f5f\",\"gridcolor\":\"white\",\"linecolor\":\"white\",\"minorgridcolor\":\"white\",\"startlinecolor\":\"#2a3f5f\"},\"type\":\"carpet\"}],\"choropleth\":[{\"colorbar\":{\"outlinewidth\":0,\"ticks\":\"\"},\"type\":\"choropleth\"}],\"contour\":[{\"colorbar\":{\"outlinewidth\":0,\"ticks\":\"\"},\"colorscale\":[[0.0,\"#0d0887\"],[0.1111111111111111,\"#46039f\"],[0.2222222222222222,\"#7201a8\"],[0.3333333333333333,\"#9c179e\"],[0.4444444444444444,\"#bd3786\"],[0.5555555555555556,\"#d8576b\"],[0.6666666666666666,\"#ed7953\"],[0.7777777777777778,\"#fb9f3a\"],[0.8888888888888888,\"#fdca26\"],[1.0,\"#f0f921\"]],\"type\":\"contour\"}],\"contourcarpet\":[{\"colorbar\":{\"outlinewidth\":0,\"ticks\":\"\"},\"type\":\"contourcarpet\"}],\"heatmap\":[{\"colorbar\":{\"outlinewidth\":0,\"ticks\":\"\"},\"colorscale\":[[0.0,\"#0d0887\"],[0.1111111111111111,\"#46039f\"],[0.2222222222222222,\"#7201a8\"],[0.3333333333333333,\"#9c179e\"],[0.4444444444444444,\"#bd3786\"],[0.5555555555555556,\"#d8576b\"],[0.6666666666666666,\"#ed7953\"],[0.7777777777777778,\"#fb9f3a\"],[0.8888888888888888,\"#fdca26\"],[1.0,\"#f0f921\"]],\"type\":\"heatmap\"}],\"heatmapgl\":[{\"colorbar\":{\"outlinewidth\":0,\"ticks\":\"\"},\"colorscale\":[[0.0,\"#0d0887\"],[0.1111111111111111,\"#46039f\"],[0.2222222222222222,\"#7201a8\"],[0.3333333333333333,\"#9c179e\"],[0.4444444444444444,\"#bd3786\"],[0.5555555555555556,\"#d8576b\"],[0.6666666666666666,\"#ed7953\"],[0.7777777777777778,\"#fb9f3a\"],[0.8888888888888888,\"#fdca26\"],[1.0,\"#f0f921\"]],\"type\":\"heatmapgl\"}],\"histogram\":[{\"marker\":{\"pattern\":{\"fillmode\":\"overlay\",\"size\":10,\"solidity\":0.2}},\"type\":\"histogram\"}],\"histogram2d\":[{\"colorbar\":{\"outlinewidth\":0,\"ticks\":\"\"},\"colorscale\":[[0.0,\"#0d0887\"],[0.1111111111111111,\"#46039f\"],[0.2222222222222222,\"#7201a8\"],[0.3333333333333333,\"#9c179e\"],[0.4444444444444444,\"#bd3786\"],[0.5555555555555556,\"#d8576b\"],[0.6666666666666666,\"#ed7953\"],[0.7777777777777778,\"#fb9f3a\"],[0.8888888888888888,\"#fdca26\"],[1.0,\"#f0f921\"]],\"type\":\"histogram2d\"}],\"histogram2dcontour\":[{\"colorbar\":{\"outlinewidth\":0,\"ticks\":\"\"},\"colorscale\":[[0.0,\"#0d0887\"],[0.1111111111111111,\"#46039f\"],[0.2222222222222222,\"#7201a8\"],[0.3333333333333333,\"#9c179e\"],[0.4444444444444444,\"#bd3786\"],[0.5555555555555556,\"#d8576b\"],[0.6666666666666666,\"#ed7953\"],[0.7777777777777778,\"#fb9f3a\"],[0.8888888888888888,\"#fdca26\"],[1.0,\"#f0f921\"]],\"type\":\"histogram2dcontour\"}],\"mesh3d\":[{\"colorbar\":{\"outlinewidth\":0,\"ticks\":\"\"},\"type\":\"mesh3d\"}],\"parcoords\":[{\"line\":{\"colorbar\":{\"outlinewidth\":0,\"ticks\":\"\"}},\"type\":\"parcoords\"}],\"pie\":[{\"automargin\":true,\"type\":\"pie\"}],\"scatter\":[{\"marker\":{\"colorbar\":{\"outlinewidth\":0,\"ticks\":\"\"}},\"type\":\"scatter\"}],\"scatter3d\":[{\"line\":{\"colorbar\":{\"outlinewidth\":0,\"ticks\":\"\"}},\"marker\":{\"colorbar\":{\"outlinewidth\":0,\"ticks\":\"\"}},\"type\":\"scatter3d\"}],\"scattercarpet\":[{\"marker\":{\"colorbar\":{\"outlinewidth\":0,\"ticks\":\"\"}},\"type\":\"scattercarpet\"}],\"scattergeo\":[{\"marker\":{\"colorbar\":{\"outlinewidth\":0,\"ticks\":\"\"}},\"type\":\"scattergeo\"}],\"scattergl\":[{\"marker\":{\"colorbar\":{\"outlinewidth\":0,\"ticks\":\"\"}},\"type\":\"scattergl\"}],\"scattermapbox\":[{\"marker\":{\"colorbar\":{\"outlinewidth\":0,\"ticks\":\"\"}},\"type\":\"scattermapbox\"}],\"scatterpolar\":[{\"marker\":{\"colorbar\":{\"outlinewidth\":0,\"ticks\":\"\"}},\"type\":\"scatterpolar\"}],\"scatterpolargl\":[{\"marker\":{\"colorbar\":{\"outlinewidth\":0,\"ticks\":\"\"}},\"type\":\"scatterpolargl\"}],\"scatterternary\":[{\"marker\":{\"colorbar\":{\"outlinewidth\":0,\"ticks\":\"\"}},\"type\":\"scatterternary\"}],\"surface\":[{\"colorbar\":{\"outlinewidth\":0,\"ticks\":\"\"},\"colorscale\":[[0.0,\"#0d0887\"],[0.1111111111111111,\"#46039f\"],[0.2222222222222222,\"#7201a8\"],[0.3333333333333333,\"#9c179e\"],[0.4444444444444444,\"#bd3786\"],[0.5555555555555556,\"#d8576b\"],[0.6666666666666666,\"#ed7953\"],[0.7777777777777778,\"#fb9f3a\"],[0.8888888888888888,\"#fdca26\"],[1.0,\"#f0f921\"]],\"type\":\"surface\"}],\"table\":[{\"cells\":{\"fill\":{\"color\":\"#EBF0F8\"},\"line\":{\"color\":\"white\"}},\"header\":{\"fill\":{\"color\":\"#C8D4E3\"},\"line\":{\"color\":\"white\"}},\"type\":\"table\"}]},\"layout\":{\"annotationdefaults\":{\"arrowcolor\":\"#2a3f5f\",\"arrowhead\":0,\"arrowwidth\":1},\"autotypenumbers\":\"strict\",\"coloraxis\":{\"colorbar\":{\"outlinewidth\":0,\"ticks\":\"\"}},\"colorscale\":{\"diverging\":[[0,\"#8e0152\"],[0.1,\"#c51b7d\"],[0.2,\"#de77ae\"],[0.3,\"#f1b6da\"],[0.4,\"#fde0ef\"],[0.5,\"#f7f7f7\"],[0.6,\"#e6f5d0\"],[0.7,\"#b8e186\"],[0.8,\"#7fbc41\"],[0.9,\"#4d9221\"],[1,\"#276419\"]],\"sequential\":[[0.0,\"#0d0887\"],[0.1111111111111111,\"#46039f\"],[0.2222222222222222,\"#7201a8\"],[0.3333333333333333,\"#9c179e\"],[0.4444444444444444,\"#bd3786\"],[0.5555555555555556,\"#d8576b\"],[0.6666666666666666,\"#ed7953\"],[0.7777777777777778,\"#fb9f3a\"],[0.8888888888888888,\"#fdca26\"],[1.0,\"#f0f921\"]],\"sequentialminus\":[[0.0,\"#0d0887\"],[0.1111111111111111,\"#46039f\"],[0.2222222222222222,\"#7201a8\"],[0.3333333333333333,\"#9c179e\"],[0.4444444444444444,\"#bd3786\"],[0.5555555555555556,\"#d8576b\"],[0.6666666666666666,\"#ed7953\"],[0.7777777777777778,\"#fb9f3a\"],[0.8888888888888888,\"#fdca26\"],[1.0,\"#f0f921\"]]},\"colorway\":[\"#636efa\",\"#EF553B\",\"#00cc96\",\"#ab63fa\",\"#FFA15A\",\"#19d3f3\",\"#FF6692\",\"#B6E880\",\"#FF97FF\",\"#FECB52\"],\"font\":{\"color\":\"#2a3f5f\"},\"geo\":{\"bgcolor\":\"white\",\"lakecolor\":\"white\",\"landcolor\":\"#E5ECF6\",\"showlakes\":true,\"showland\":true,\"subunitcolor\":\"white\"},\"hoverlabel\":{\"align\":\"left\"},\"hovermode\":\"closest\",\"mapbox\":{\"style\":\"light\"},\"paper_bgcolor\":\"white\",\"plot_bgcolor\":\"#E5ECF6\",\"polar\":{\"angularaxis\":{\"gridcolor\":\"white\",\"linecolor\":\"white\",\"ticks\":\"\"},\"bgcolor\":\"#E5ECF6\",\"radialaxis\":{\"gridcolor\":\"white\",\"linecolor\":\"white\",\"ticks\":\"\"}},\"scene\":{\"xaxis\":{\"backgroundcolor\":\"#E5ECF6\",\"gridcolor\":\"white\",\"gridwidth\":2,\"linecolor\":\"white\",\"showbackground\":true,\"ticks\":\"\",\"zerolinecolor\":\"white\"},\"yaxis\":{\"backgroundcolor\":\"#E5ECF6\",\"gridcolor\":\"white\",\"gridwidth\":2,\"linecolor\":\"white\",\"showbackground\":true,\"ticks\":\"\",\"zerolinecolor\":\"white\"},\"zaxis\":{\"backgroundcolor\":\"#E5ECF6\",\"gridcolor\":\"white\",\"gridwidth\":2,\"linecolor\":\"white\",\"showbackground\":true,\"ticks\":\"\",\"zerolinecolor\":\"white\"}},\"shapedefaults\":{\"line\":{\"color\":\"#2a3f5f\"}},\"ternary\":{\"aaxis\":{\"gridcolor\":\"white\",\"linecolor\":\"white\",\"ticks\":\"\"},\"baxis\":{\"gridcolor\":\"white\",\"linecolor\":\"white\",\"ticks\":\"\"},\"bgcolor\":\"#E5ECF6\",\"caxis\":{\"gridcolor\":\"white\",\"linecolor\":\"white\",\"ticks\":\"\"}},\"title\":{\"x\":0.05},\"xaxis\":{\"automargin\":true,\"gridcolor\":\"white\",\"linecolor\":\"white\",\"ticks\":\"\",\"title\":{\"standoff\":15},\"zerolinecolor\":\"white\",\"zerolinewidth\":2},\"yaxis\":{\"automargin\":true,\"gridcolor\":\"white\",\"linecolor\":\"white\",\"ticks\":\"\",\"title\":{\"standoff\":15},\"zerolinecolor\":\"white\",\"zerolinewidth\":2}}},\"xaxis\":{\"anchor\":\"y\",\"domain\":[0.0,1.0],\"title\":{\"text\":\"Carbon price\",\"font\":{\"size\":16,\"color\":\"black\"}},\"tickprefix\":\"\\u00a3\",\"tickfont\":{\"size\":14}},\"yaxis\":{\"anchor\":\"x\",\"domain\":[0.0,1.0],\"title\":{\"text\":\"Poverty impact\",\"font\":{\"size\":16,\"color\":\"black\"}},\"tickformat\":\".0%\",\"tickfont\":{\"size\":14}},\"legend\":{\"title\":{\"text\":\"\"},\"tracegroupgap\":0},\"margin\":{\"t\":60},\"title\":{\"text\":\"Carbon dividend poverty impact by carbon price\",\"font\":{\"size\":20}},\"images\":[{\"sizex\":0.12,\"sizey\":0.12,\"source\":\"https://raw.githubusercontent.com/UBICenter/ubicenter.org/master/assets/images/logos/wide-blue.jpg\",\"x\":0.98,\"xanchor\":\"right\",\"xref\":\"paper\",\"y\":-0.12,\"yanchor\":\"bottom\",\"yref\":\"paper\"}],\"hoverlabel\":{\"align\":\"right\"},\"font\":{\"family\":\"Roboto\"},\"plot_bgcolor\":\"white\",\"paper_bgcolor\":\"white\",\"width\":800,\"height\":600},                        {\"displayModeBar\": false, \"responsive\": true}                    ).then(function(){\n",
       "                            \n",
       "var gd = document.getElementById('269140b5-4e3c-41e0-b5cd-a543ed722e2e');\n",
       "var x = new MutationObserver(function (mutations, observer) {{\n",
       "        var display = window.getComputedStyle(gd).display;\n",
       "        if (!display || display === 'none') {{\n",
       "            console.log([gd, 'removed!']);\n",
       "            Plotly.purge(gd);\n",
       "            observer.disconnect();\n",
       "        }}\n",
       "}});\n",
       "\n",
       "// Listen for the removal of the full notebook cells\n",
       "var notebookContainer = gd.closest('#notebook-container');\n",
       "if (notebookContainer) {{\n",
       "    x.observe(notebookContainer, {childList: true});\n",
       "}}\n",
       "\n",
       "// Listen for the clearing of the current output cell\n",
       "var outputEl = gd.closest('.output');\n",
       "if (outputEl) {{\n",
       "    x.observe(outputEl, {childList: true});\n",
       "}}\n",
       "\n",
       "                        })                };                });            </script>        </div>"
      ]
     },
     "metadata": {},
     "output_type": "display_data"
    }
   ],
   "source": [
    "df = df.rename(columns=dict(\n",
    "    poverty=\"Poverty\",\n",
    "    deep_poverty=\"Deep poverty\",\n",
    "    child_poverty=\"Child poverty\",\n",
    "    deep_child_poverty=\"Deep child poverty\",\n",
    "    adult_poverty=\"Adult poverty\",\n",
    "    deep_adult_poverty=\"Deep adult poverty\",\n",
    "    carbon_tax=\"Carbon price\"\n",
    "))\n",
    "from ubicenter.plotly import DARK_BLUE\n",
    "fig = px.line(\n",
    "    df,\n",
    "    x=\"Carbon price\",\n",
    "    y=[\n",
    "        \"Poverty\",\n",
    "        \"Deep poverty\",\n",
    "    ],\n",
    "    color_discrete_sequence=[LIGHT_BLUE, DARK_BLUE],\n",
    ").update_layout(\n",
    "    title=\"Carbon dividend poverty impact by carbon price\",\n",
    "    yaxis_tickformat=\".0%\",\n",
    "    xaxis_tickprefix=\"£\",\n",
    "    legend_title=\"\",\n",
    "    yaxis_title=\"Poverty impact\",\n",
    ")\n",
    "format_fig(fig)"
   ]
  },
  {
   "cell_type": "code",
   "execution_count": 12,
   "metadata": {},
   "outputs": [
    {
     "data": {
      "text/html": [
       "        <script type=\"text/javascript\">\n",
       "        window.PlotlyConfig = {MathJaxConfig: 'local'};\n",
       "        if (window.MathJax) {MathJax.Hub.Config({SVG: {font: \"STIX-Web\"}});}\n",
       "        if (typeof require !== 'undefined') {\n",
       "        require.undef(\"plotly\");\n",
       "        requirejs.config({\n",
       "            paths: {\n",
       "                'plotly': ['https://cdn.plot.ly/plotly-2.6.3.min']\n",
       "            }\n",
       "        });\n",
       "        require(['plotly'], function(Plotly) {\n",
       "            window._Plotly = Plotly;\n",
       "        });\n",
       "        }\n",
       "        </script>\n",
       "        "
      ]
     },
     "metadata": {},
     "output_type": "display_data"
    },
    {
     "data": {
      "text/html": [
       "<div>                            <div id=\"f41b9d50-da27-409c-88a7-e0f3c62f06f7\" class=\"plotly-graph-div\" style=\"height:600px; width:800px;\"></div>            <script type=\"text/javascript\">                require([\"plotly\"], function(Plotly) {                    window.PLOTLYENV=window.PLOTLYENV || {};                                    if (document.getElementById(\"f41b9d50-da27-409c-88a7-e0f3c62f06f7\")) {                    Plotly.newPlot(                        \"f41b9d50-da27-409c-88a7-e0f3c62f06f7\",                        [{\"alignmentgroup\":\"True\",\"hovertemplate\":\"Poverty type=Poverty<br>Carbon price=0<br>Age group=%{x}<br>value=%{y}<extra></extra>\",\"legendgroup\":\"Poverty\",\"marker\":{\"color\":\"#49A6E2\",\"pattern\":{\"shape\":\"\"}},\"name\":\"Poverty\",\"offsetgroup\":\"Poverty\",\"orientation\":\"v\",\"showlegend\":true,\"textposition\":\"auto\",\"x\":[\"All\",\"Children\",\"Adults\"],\"xaxis\":\"x\",\"y\":[0.0,0.0,0.0],\"yaxis\":\"y\",\"type\":\"bar\"},{\"alignmentgroup\":\"True\",\"hovertemplate\":\"Poverty type=Deep poverty<br>Carbon price=0<br>Age group=%{x}<br>value=%{y}<extra></extra>\",\"legendgroup\":\"Deep poverty\",\"marker\":{\"color\":\"#0F4AA1\",\"pattern\":{\"shape\":\"\"}},\"name\":\"Deep poverty\",\"offsetgroup\":\"Deep poverty\",\"orientation\":\"v\",\"showlegend\":true,\"textposition\":\"auto\",\"x\":[\"All\",\"Children\",\"Adults\"],\"xaxis\":\"x\",\"y\":[0.0,0.0,0.0],\"yaxis\":\"y\",\"type\":\"bar\"}],                        {\"template\":{\"data\":{\"bar\":[{\"error_x\":{\"color\":\"#2a3f5f\"},\"error_y\":{\"color\":\"#2a3f5f\"},\"marker\":{\"line\":{\"color\":\"#E5ECF6\",\"width\":0.5},\"pattern\":{\"fillmode\":\"overlay\",\"size\":10,\"solidity\":0.2}},\"type\":\"bar\"}],\"barpolar\":[{\"marker\":{\"line\":{\"color\":\"#E5ECF6\",\"width\":0.5},\"pattern\":{\"fillmode\":\"overlay\",\"size\":10,\"solidity\":0.2}},\"type\":\"barpolar\"}],\"carpet\":[{\"aaxis\":{\"endlinecolor\":\"#2a3f5f\",\"gridcolor\":\"white\",\"linecolor\":\"white\",\"minorgridcolor\":\"white\",\"startlinecolor\":\"#2a3f5f\"},\"baxis\":{\"endlinecolor\":\"#2a3f5f\",\"gridcolor\":\"white\",\"linecolor\":\"white\",\"minorgridcolor\":\"white\",\"startlinecolor\":\"#2a3f5f\"},\"type\":\"carpet\"}],\"choropleth\":[{\"colorbar\":{\"outlinewidth\":0,\"ticks\":\"\"},\"type\":\"choropleth\"}],\"contour\":[{\"colorbar\":{\"outlinewidth\":0,\"ticks\":\"\"},\"colorscale\":[[0.0,\"#0d0887\"],[0.1111111111111111,\"#46039f\"],[0.2222222222222222,\"#7201a8\"],[0.3333333333333333,\"#9c179e\"],[0.4444444444444444,\"#bd3786\"],[0.5555555555555556,\"#d8576b\"],[0.6666666666666666,\"#ed7953\"],[0.7777777777777778,\"#fb9f3a\"],[0.8888888888888888,\"#fdca26\"],[1.0,\"#f0f921\"]],\"type\":\"contour\"}],\"contourcarpet\":[{\"colorbar\":{\"outlinewidth\":0,\"ticks\":\"\"},\"type\":\"contourcarpet\"}],\"heatmap\":[{\"colorbar\":{\"outlinewidth\":0,\"ticks\":\"\"},\"colorscale\":[[0.0,\"#0d0887\"],[0.1111111111111111,\"#46039f\"],[0.2222222222222222,\"#7201a8\"],[0.3333333333333333,\"#9c179e\"],[0.4444444444444444,\"#bd3786\"],[0.5555555555555556,\"#d8576b\"],[0.6666666666666666,\"#ed7953\"],[0.7777777777777778,\"#fb9f3a\"],[0.8888888888888888,\"#fdca26\"],[1.0,\"#f0f921\"]],\"type\":\"heatmap\"}],\"heatmapgl\":[{\"colorbar\":{\"outlinewidth\":0,\"ticks\":\"\"},\"colorscale\":[[0.0,\"#0d0887\"],[0.1111111111111111,\"#46039f\"],[0.2222222222222222,\"#7201a8\"],[0.3333333333333333,\"#9c179e\"],[0.4444444444444444,\"#bd3786\"],[0.5555555555555556,\"#d8576b\"],[0.6666666666666666,\"#ed7953\"],[0.7777777777777778,\"#fb9f3a\"],[0.8888888888888888,\"#fdca26\"],[1.0,\"#f0f921\"]],\"type\":\"heatmapgl\"}],\"histogram\":[{\"marker\":{\"pattern\":{\"fillmode\":\"overlay\",\"size\":10,\"solidity\":0.2}},\"type\":\"histogram\"}],\"histogram2d\":[{\"colorbar\":{\"outlinewidth\":0,\"ticks\":\"\"},\"colorscale\":[[0.0,\"#0d0887\"],[0.1111111111111111,\"#46039f\"],[0.2222222222222222,\"#7201a8\"],[0.3333333333333333,\"#9c179e\"],[0.4444444444444444,\"#bd3786\"],[0.5555555555555556,\"#d8576b\"],[0.6666666666666666,\"#ed7953\"],[0.7777777777777778,\"#fb9f3a\"],[0.8888888888888888,\"#fdca26\"],[1.0,\"#f0f921\"]],\"type\":\"histogram2d\"}],\"histogram2dcontour\":[{\"colorbar\":{\"outlinewidth\":0,\"ticks\":\"\"},\"colorscale\":[[0.0,\"#0d0887\"],[0.1111111111111111,\"#46039f\"],[0.2222222222222222,\"#7201a8\"],[0.3333333333333333,\"#9c179e\"],[0.4444444444444444,\"#bd3786\"],[0.5555555555555556,\"#d8576b\"],[0.6666666666666666,\"#ed7953\"],[0.7777777777777778,\"#fb9f3a\"],[0.8888888888888888,\"#fdca26\"],[1.0,\"#f0f921\"]],\"type\":\"histogram2dcontour\"}],\"mesh3d\":[{\"colorbar\":{\"outlinewidth\":0,\"ticks\":\"\"},\"type\":\"mesh3d\"}],\"parcoords\":[{\"line\":{\"colorbar\":{\"outlinewidth\":0,\"ticks\":\"\"}},\"type\":\"parcoords\"}],\"pie\":[{\"automargin\":true,\"type\":\"pie\"}],\"scatter\":[{\"marker\":{\"colorbar\":{\"outlinewidth\":0,\"ticks\":\"\"}},\"type\":\"scatter\"}],\"scatter3d\":[{\"line\":{\"colorbar\":{\"outlinewidth\":0,\"ticks\":\"\"}},\"marker\":{\"colorbar\":{\"outlinewidth\":0,\"ticks\":\"\"}},\"type\":\"scatter3d\"}],\"scattercarpet\":[{\"marker\":{\"colorbar\":{\"outlinewidth\":0,\"ticks\":\"\"}},\"type\":\"scattercarpet\"}],\"scattergeo\":[{\"marker\":{\"colorbar\":{\"outlinewidth\":0,\"ticks\":\"\"}},\"type\":\"scattergeo\"}],\"scattergl\":[{\"marker\":{\"colorbar\":{\"outlinewidth\":0,\"ticks\":\"\"}},\"type\":\"scattergl\"}],\"scattermapbox\":[{\"marker\":{\"colorbar\":{\"outlinewidth\":0,\"ticks\":\"\"}},\"type\":\"scattermapbox\"}],\"scatterpolar\":[{\"marker\":{\"colorbar\":{\"outlinewidth\":0,\"ticks\":\"\"}},\"type\":\"scatterpolar\"}],\"scatterpolargl\":[{\"marker\":{\"colorbar\":{\"outlinewidth\":0,\"ticks\":\"\"}},\"type\":\"scatterpolargl\"}],\"scatterternary\":[{\"marker\":{\"colorbar\":{\"outlinewidth\":0,\"ticks\":\"\"}},\"type\":\"scatterternary\"}],\"surface\":[{\"colorbar\":{\"outlinewidth\":0,\"ticks\":\"\"},\"colorscale\":[[0.0,\"#0d0887\"],[0.1111111111111111,\"#46039f\"],[0.2222222222222222,\"#7201a8\"],[0.3333333333333333,\"#9c179e\"],[0.4444444444444444,\"#bd3786\"],[0.5555555555555556,\"#d8576b\"],[0.6666666666666666,\"#ed7953\"],[0.7777777777777778,\"#fb9f3a\"],[0.8888888888888888,\"#fdca26\"],[1.0,\"#f0f921\"]],\"type\":\"surface\"}],\"table\":[{\"cells\":{\"fill\":{\"color\":\"#EBF0F8\"},\"line\":{\"color\":\"white\"}},\"header\":{\"fill\":{\"color\":\"#C8D4E3\"},\"line\":{\"color\":\"white\"}},\"type\":\"table\"}]},\"layout\":{\"annotationdefaults\":{\"arrowcolor\":\"#2a3f5f\",\"arrowhead\":0,\"arrowwidth\":1},\"autotypenumbers\":\"strict\",\"coloraxis\":{\"colorbar\":{\"outlinewidth\":0,\"ticks\":\"\"}},\"colorscale\":{\"diverging\":[[0,\"#8e0152\"],[0.1,\"#c51b7d\"],[0.2,\"#de77ae\"],[0.3,\"#f1b6da\"],[0.4,\"#fde0ef\"],[0.5,\"#f7f7f7\"],[0.6,\"#e6f5d0\"],[0.7,\"#b8e186\"],[0.8,\"#7fbc41\"],[0.9,\"#4d9221\"],[1,\"#276419\"]],\"sequential\":[[0.0,\"#0d0887\"],[0.1111111111111111,\"#46039f\"],[0.2222222222222222,\"#7201a8\"],[0.3333333333333333,\"#9c179e\"],[0.4444444444444444,\"#bd3786\"],[0.5555555555555556,\"#d8576b\"],[0.6666666666666666,\"#ed7953\"],[0.7777777777777778,\"#fb9f3a\"],[0.8888888888888888,\"#fdca26\"],[1.0,\"#f0f921\"]],\"sequentialminus\":[[0.0,\"#0d0887\"],[0.1111111111111111,\"#46039f\"],[0.2222222222222222,\"#7201a8\"],[0.3333333333333333,\"#9c179e\"],[0.4444444444444444,\"#bd3786\"],[0.5555555555555556,\"#d8576b\"],[0.6666666666666666,\"#ed7953\"],[0.7777777777777778,\"#fb9f3a\"],[0.8888888888888888,\"#fdca26\"],[1.0,\"#f0f921\"]]},\"colorway\":[\"#636efa\",\"#EF553B\",\"#00cc96\",\"#ab63fa\",\"#FFA15A\",\"#19d3f3\",\"#FF6692\",\"#B6E880\",\"#FF97FF\",\"#FECB52\"],\"font\":{\"color\":\"#2a3f5f\"},\"geo\":{\"bgcolor\":\"white\",\"lakecolor\":\"white\",\"landcolor\":\"#E5ECF6\",\"showlakes\":true,\"showland\":true,\"subunitcolor\":\"white\"},\"hoverlabel\":{\"align\":\"left\"},\"hovermode\":\"closest\",\"mapbox\":{\"style\":\"light\"},\"paper_bgcolor\":\"white\",\"plot_bgcolor\":\"#E5ECF6\",\"polar\":{\"angularaxis\":{\"gridcolor\":\"white\",\"linecolor\":\"white\",\"ticks\":\"\"},\"bgcolor\":\"#E5ECF6\",\"radialaxis\":{\"gridcolor\":\"white\",\"linecolor\":\"white\",\"ticks\":\"\"}},\"scene\":{\"xaxis\":{\"backgroundcolor\":\"#E5ECF6\",\"gridcolor\":\"white\",\"gridwidth\":2,\"linecolor\":\"white\",\"showbackground\":true,\"ticks\":\"\",\"zerolinecolor\":\"white\"},\"yaxis\":{\"backgroundcolor\":\"#E5ECF6\",\"gridcolor\":\"white\",\"gridwidth\":2,\"linecolor\":\"white\",\"showbackground\":true,\"ticks\":\"\",\"zerolinecolor\":\"white\"},\"zaxis\":{\"backgroundcolor\":\"#E5ECF6\",\"gridcolor\":\"white\",\"gridwidth\":2,\"linecolor\":\"white\",\"showbackground\":true,\"ticks\":\"\",\"zerolinecolor\":\"white\"}},\"shapedefaults\":{\"line\":{\"color\":\"#2a3f5f\"}},\"ternary\":{\"aaxis\":{\"gridcolor\":\"white\",\"linecolor\":\"white\",\"ticks\":\"\"},\"baxis\":{\"gridcolor\":\"white\",\"linecolor\":\"white\",\"ticks\":\"\"},\"bgcolor\":\"#E5ECF6\",\"caxis\":{\"gridcolor\":\"white\",\"linecolor\":\"white\",\"ticks\":\"\"}},\"title\":{\"x\":0.05},\"xaxis\":{\"automargin\":true,\"gridcolor\":\"white\",\"linecolor\":\"white\",\"ticks\":\"\",\"title\":{\"standoff\":15},\"zerolinecolor\":\"white\",\"zerolinewidth\":2},\"yaxis\":{\"automargin\":true,\"gridcolor\":\"white\",\"linecolor\":\"white\",\"ticks\":\"\",\"title\":{\"standoff\":15},\"zerolinecolor\":\"white\",\"zerolinewidth\":2}}},\"xaxis\":{\"anchor\":\"y\",\"domain\":[0.0,1.0],\"title\":{\"text\":\"Age group\",\"font\":{\"size\":16,\"color\":\"black\"}},\"tickfont\":{\"size\":14}},\"yaxis\":{\"anchor\":\"x\",\"domain\":[0.0,1.0],\"title\":{\"text\":\"Poverty impact\",\"font\":{\"size\":16,\"color\":\"black\"}},\"tickformat\":\".0%\",\"range\":[-0.4,0],\"tickfont\":{\"size\":14}},\"legend\":{\"title\":{\"text\":\"\"},\"tracegroupgap\":0},\"margin\":{\"t\":60},\"barmode\":\"group\",\"updatemenus\":[{\"buttons\":[{\"args\":[null,{\"frame\":{\"duration\":500,\"redraw\":true},\"mode\":\"immediate\",\"fromcurrent\":true,\"transition\":{\"duration\":500,\"easing\":\"linear\"}}],\"label\":\"&#9654;\",\"method\":\"animate\"},{\"args\":[[null],{\"frame\":{\"duration\":0,\"redraw\":true},\"mode\":\"immediate\",\"fromcurrent\":true,\"transition\":{\"duration\":0,\"easing\":\"linear\"}}],\"label\":\"&#9724;\",\"method\":\"animate\"}],\"direction\":\"left\",\"pad\":{\"r\":10,\"t\":70},\"showactive\":false,\"type\":\"buttons\",\"x\":0.1,\"xanchor\":\"right\",\"y\":0,\"yanchor\":\"top\"}],\"sliders\":[{\"active\":0,\"currentvalue\":{\"prefix\":\"Carbon price=\"},\"len\":0.9,\"pad\":{\"b\":10,\"t\":60},\"steps\":[{\"args\":[[\"0\"],{\"frame\":{\"duration\":0,\"redraw\":true},\"mode\":\"immediate\",\"fromcurrent\":true,\"transition\":{\"duration\":0,\"easing\":\"linear\"}}],\"label\":\"0\",\"method\":\"animate\"},{\"args\":[[\"10\"],{\"frame\":{\"duration\":0,\"redraw\":true},\"mode\":\"immediate\",\"fromcurrent\":true,\"transition\":{\"duration\":0,\"easing\":\"linear\"}}],\"label\":\"10\",\"method\":\"animate\"},{\"args\":[[\"20\"],{\"frame\":{\"duration\":0,\"redraw\":true},\"mode\":\"immediate\",\"fromcurrent\":true,\"transition\":{\"duration\":0,\"easing\":\"linear\"}}],\"label\":\"20\",\"method\":\"animate\"},{\"args\":[[\"30\"],{\"frame\":{\"duration\":0,\"redraw\":true},\"mode\":\"immediate\",\"fromcurrent\":true,\"transition\":{\"duration\":0,\"easing\":\"linear\"}}],\"label\":\"30\",\"method\":\"animate\"},{\"args\":[[\"40\"],{\"frame\":{\"duration\":0,\"redraw\":true},\"mode\":\"immediate\",\"fromcurrent\":true,\"transition\":{\"duration\":0,\"easing\":\"linear\"}}],\"label\":\"40\",\"method\":\"animate\"},{\"args\":[[\"50\"],{\"frame\":{\"duration\":0,\"redraw\":true},\"mode\":\"immediate\",\"fromcurrent\":true,\"transition\":{\"duration\":0,\"easing\":\"linear\"}}],\"label\":\"50\",\"method\":\"animate\"},{\"args\":[[\"60\"],{\"frame\":{\"duration\":0,\"redraw\":true},\"mode\":\"immediate\",\"fromcurrent\":true,\"transition\":{\"duration\":0,\"easing\":\"linear\"}}],\"label\":\"60\",\"method\":\"animate\"},{\"args\":[[\"70\"],{\"frame\":{\"duration\":0,\"redraw\":true},\"mode\":\"immediate\",\"fromcurrent\":true,\"transition\":{\"duration\":0,\"easing\":\"linear\"}}],\"label\":\"70\",\"method\":\"animate\"},{\"args\":[[\"80\"],{\"frame\":{\"duration\":0,\"redraw\":true},\"mode\":\"immediate\",\"fromcurrent\":true,\"transition\":{\"duration\":0,\"easing\":\"linear\"}}],\"label\":\"80\",\"method\":\"animate\"},{\"args\":[[\"90\"],{\"frame\":{\"duration\":0,\"redraw\":true},\"mode\":\"immediate\",\"fromcurrent\":true,\"transition\":{\"duration\":0,\"easing\":\"linear\"}}],\"label\":\"90\",\"method\":\"animate\"}],\"x\":0.1,\"xanchor\":\"left\",\"y\":0,\"yanchor\":\"top\"}],\"title\":{\"text\":\"Carbon dividend poverty impact by age group\",\"font\":{\"size\":20}},\"images\":[{\"sizex\":0.12,\"sizey\":0.12,\"source\":\"https://raw.githubusercontent.com/UBICenter/ubicenter.org/master/assets/images/logos/wide-blue.jpg\",\"x\":0.98,\"xanchor\":\"right\",\"xref\":\"paper\",\"y\":-0.12,\"yanchor\":\"bottom\",\"yref\":\"paper\"}],\"hoverlabel\":{\"align\":\"right\"},\"font\":{\"family\":\"Roboto\"},\"plot_bgcolor\":\"white\",\"paper_bgcolor\":\"white\",\"width\":800,\"height\":600},                        {\"displayModeBar\": false, \"responsive\": true}                    ).then(function(){\n",
       "                            Plotly.addFrames('f41b9d50-da27-409c-88a7-e0f3c62f06f7', [{\"data\":[{\"alignmentgroup\":\"True\",\"hovertemplate\":\"Poverty type=Poverty<br>Carbon price=0<br>Age group=%{x}<br>value=%{y}<extra></extra>\",\"legendgroup\":\"Poverty\",\"marker\":{\"color\":\"#49A6E2\",\"pattern\":{\"shape\":\"\"}},\"name\":\"Poverty\",\"offsetgroup\":\"Poverty\",\"orientation\":\"v\",\"showlegend\":true,\"textposition\":\"auto\",\"x\":[\"All\",\"Children\",\"Adults\"],\"xaxis\":\"x\",\"y\":[0.0,0.0,0.0],\"yaxis\":\"y\",\"type\":\"bar\"},{\"alignmentgroup\":\"True\",\"hovertemplate\":\"Poverty type=Deep poverty<br>Carbon price=0<br>Age group=%{x}<br>value=%{y}<extra></extra>\",\"legendgroup\":\"Deep poverty\",\"marker\":{\"color\":\"#0F4AA1\",\"pattern\":{\"shape\":\"\"}},\"name\":\"Deep poverty\",\"offsetgroup\":\"Deep poverty\",\"orientation\":\"v\",\"showlegend\":true,\"textposition\":\"auto\",\"x\":[\"All\",\"Children\",\"Adults\"],\"xaxis\":\"x\",\"y\":[0.0,0.0,0.0],\"yaxis\":\"y\",\"type\":\"bar\"}],\"name\":\"0\"},{\"data\":[{\"alignmentgroup\":\"True\",\"hovertemplate\":\"Poverty type=Poverty<br>Carbon price=10<br>Age group=%{x}<br>value=%{y}<extra></extra>\",\"legendgroup\":\"Poverty\",\"marker\":{\"color\":\"#49A6E2\",\"pattern\":{\"shape\":\"\"}},\"name\":\"Poverty\",\"offsetgroup\":\"Poverty\",\"orientation\":\"v\",\"showlegend\":true,\"textposition\":\"auto\",\"x\":[\"All\",\"Children\",\"Adults\"],\"xaxis\":\"x\",\"y\":[-0.011290252916857257,-0.01095387397380243,-0.011456316893181162],\"yaxis\":\"y\",\"type\":\"bar\"},{\"alignmentgroup\":\"True\",\"hovertemplate\":\"Poverty type=Deep poverty<br>Carbon price=10<br>Age group=%{x}<br>value=%{y}<extra></extra>\",\"legendgroup\":\"Deep poverty\",\"marker\":{\"color\":\"#0F4AA1\",\"pattern\":{\"shape\":\"\"}},\"name\":\"Deep poverty\",\"offsetgroup\":\"Deep poverty\",\"orientation\":\"v\",\"showlegend\":true,\"textposition\":\"auto\",\"x\":[\"All\",\"Children\",\"Adults\"],\"xaxis\":\"x\",\"y\":[-0.04701262058204725,-0.10483412965419103,-0.02863694476620182],\"yaxis\":\"y\",\"type\":\"bar\"}],\"name\":\"10\"},{\"data\":[{\"alignmentgroup\":\"True\",\"hovertemplate\":\"Poverty type=Poverty<br>Carbon price=20<br>Age group=%{x}<br>value=%{y}<extra></extra>\",\"legendgroup\":\"Poverty\",\"marker\":{\"color\":\"#49A6E2\",\"pattern\":{\"shape\":\"\"}},\"name\":\"Poverty\",\"offsetgroup\":\"Poverty\",\"orientation\":\"v\",\"showlegend\":true,\"textposition\":\"auto\",\"x\":[\"All\",\"Children\",\"Adults\"],\"xaxis\":\"x\",\"y\":[-0.028875557727584766,-0.033625854784534615,-0.026530425149329018],\"yaxis\":\"y\",\"type\":\"bar\"},{\"alignmentgroup\":\"True\",\"hovertemplate\":\"Poverty type=Deep poverty<br>Carbon price=20<br>Age group=%{x}<br>value=%{y}<extra></extra>\",\"legendgroup\":\"Deep poverty\",\"marker\":{\"color\":\"#0F4AA1\",\"pattern\":{\"shape\":\"\"}},\"name\":\"Deep poverty\",\"offsetgroup\":\"Deep poverty\",\"orientation\":\"v\",\"showlegend\":true,\"textposition\":\"auto\",\"x\":[\"All\",\"Children\",\"Adults\"],\"xaxis\":\"x\",\"y\":[-0.0661356642667662,-0.12750493622348402,-0.04663250939192409],\"yaxis\":\"y\",\"type\":\"bar\"}],\"name\":\"20\"},{\"data\":[{\"alignmentgroup\":\"True\",\"hovertemplate\":\"Poverty type=Poverty<br>Carbon price=30<br>Age group=%{x}<br>value=%{y}<extra></extra>\",\"legendgroup\":\"Poverty\",\"marker\":{\"color\":\"#49A6E2\",\"pattern\":{\"shape\":\"\"}},\"name\":\"Poverty\",\"offsetgroup\":\"Poverty\",\"orientation\":\"v\",\"showlegend\":true,\"textposition\":\"auto\",\"x\":[\"All\",\"Children\",\"Adults\"],\"xaxis\":\"x\",\"y\":[-0.046086640212807284,-0.05189507605645427,-0.04321912435804276],\"yaxis\":\"y\",\"type\":\"bar\"},{\"alignmentgroup\":\"True\",\"hovertemplate\":\"Poverty type=Deep poverty<br>Carbon price=30<br>Age group=%{x}<br>value=%{y}<extra></extra>\",\"legendgroup\":\"Deep poverty\",\"marker\":{\"color\":\"#0F4AA1\",\"pattern\":{\"shape\":\"\"}},\"name\":\"Deep poverty\",\"offsetgroup\":\"Deep poverty\",\"orientation\":\"v\",\"showlegend\":true,\"textposition\":\"auto\",\"x\":[\"All\",\"Children\",\"Adults\"],\"xaxis\":\"x\",\"y\":[-0.0878223840978124,-0.1744678480575368,-0.06028645530268417],\"yaxis\":\"y\",\"type\":\"bar\"}],\"name\":\"30\"},{\"data\":[{\"alignmentgroup\":\"True\",\"hovertemplate\":\"Poverty type=Poverty<br>Carbon price=40<br>Age group=%{x}<br>value=%{y}<extra></extra>\",\"legendgroup\":\"Poverty\",\"marker\":{\"color\":\"#49A6E2\",\"pattern\":{\"shape\":\"\"}},\"name\":\"Poverty\",\"offsetgroup\":\"Poverty\",\"orientation\":\"v\",\"showlegend\":true,\"textposition\":\"auto\",\"x\":[\"All\",\"Children\",\"Adults\"],\"xaxis\":\"x\",\"y\":[-0.05281256093669329,-0.06309465170752948,-0.04773648553547338],\"yaxis\":\"y\",\"type\":\"bar\"},{\"alignmentgroup\":\"True\",\"hovertemplate\":\"Poverty type=Deep poverty<br>Carbon price=40<br>Age group=%{x}<br>value=%{y}<extra></extra>\",\"legendgroup\":\"Deep poverty\",\"marker\":{\"color\":\"#0F4AA1\",\"pattern\":{\"shape\":\"\"}},\"name\":\"Deep poverty\",\"offsetgroup\":\"Deep poverty\",\"orientation\":\"v\",\"showlegend\":true,\"textposition\":\"auto\",\"x\":[\"All\",\"Children\",\"Adults\"],\"xaxis\":\"x\",\"y\":[-0.09806426310819094,-0.18299371272316656,-0.07107368367873024],\"yaxis\":\"y\",\"type\":\"bar\"}],\"name\":\"40\"},{\"data\":[{\"alignmentgroup\":\"True\",\"hovertemplate\":\"Poverty type=Poverty<br>Carbon price=50<br>Age group=%{x}<br>value=%{y}<extra></extra>\",\"legendgroup\":\"Poverty\",\"marker\":{\"color\":\"#49A6E2\",\"pattern\":{\"shape\":\"\"}},\"name\":\"Poverty\",\"offsetgroup\":\"Poverty\",\"orientation\":\"v\",\"showlegend\":true,\"textposition\":\"auto\",\"x\":[\"All\",\"Children\",\"Adults\"],\"xaxis\":\"x\",\"y\":[-0.06139790010054469,-0.07853401236763291,-0.05293812281495336],\"yaxis\":\"y\",\"type\":\"bar\"},{\"alignmentgroup\":\"True\",\"hovertemplate\":\"Poverty type=Deep poverty<br>Carbon price=50<br>Age group=%{x}<br>value=%{y}<extra></extra>\",\"legendgroup\":\"Deep poverty\",\"marker\":{\"color\":\"#0F4AA1\",\"pattern\":{\"shape\":\"\"}},\"name\":\"Deep poverty\",\"offsetgroup\":\"Deep poverty\",\"orientation\":\"v\",\"showlegend\":true,\"textposition\":\"auto\",\"x\":[\"All\",\"Children\",\"Adults\"],\"xaxis\":\"x\",\"y\":[-0.11956073722872818,-0.2020544448415963,-0.09334423661734059],\"yaxis\":\"y\",\"type\":\"bar\"}],\"name\":\"50\"},{\"data\":[{\"alignmentgroup\":\"True\",\"hovertemplate\":\"Poverty type=Poverty<br>Carbon price=60<br>Age group=%{x}<br>value=%{y}<extra></extra>\",\"legendgroup\":\"Poverty\",\"marker\":{\"color\":\"#49A6E2\",\"pattern\":{\"shape\":\"\"}},\"name\":\"Poverty\",\"offsetgroup\":\"Poverty\",\"orientation\":\"v\",\"showlegend\":true,\"textposition\":\"auto\",\"x\":[\"All\",\"Children\",\"Adults\"],\"xaxis\":\"x\",\"y\":[-0.06908106619717147,-0.09283678933889661,-0.057353311155373565],\"yaxis\":\"y\",\"type\":\"bar\"},{\"alignmentgroup\":\"True\",\"hovertemplate\":\"Poverty type=Deep poverty<br>Carbon price=60<br>Age group=%{x}<br>value=%{y}<extra></extra>\",\"legendgroup\":\"Deep poverty\",\"marker\":{\"color\":\"#0F4AA1\",\"pattern\":{\"shape\":\"\"}},\"name\":\"Deep poverty\",\"offsetgroup\":\"Deep poverty\",\"orientation\":\"v\",\"showlegend\":true,\"textposition\":\"auto\",\"x\":[\"All\",\"Children\",\"Adults\"],\"xaxis\":\"x\",\"y\":[-0.1354511371291054,-0.21083457947689765,-0.11149427884757612],\"yaxis\":\"y\",\"type\":\"bar\"}],\"name\":\"60\"},{\"data\":[{\"alignmentgroup\":\"True\",\"hovertemplate\":\"Poverty type=Poverty<br>Carbon price=70<br>Age group=%{x}<br>value=%{y}<extra></extra>\",\"legendgroup\":\"Poverty\",\"marker\":{\"color\":\"#49A6E2\",\"pattern\":{\"shape\":\"\"}},\"name\":\"Poverty\",\"offsetgroup\":\"Poverty\",\"orientation\":\"v\",\"showlegend\":true,\"textposition\":\"auto\",\"x\":[\"All\",\"Children\",\"Adults\"],\"xaxis\":\"x\",\"y\":[-0.0901404454940683,-0.1315403011944981,-0.069702113075232],\"yaxis\":\"y\",\"type\":\"bar\"},{\"alignmentgroup\":\"True\",\"hovertemplate\":\"Poverty type=Deep poverty<br>Carbon price=70<br>Age group=%{x}<br>value=%{y}<extra></extra>\",\"legendgroup\":\"Deep poverty\",\"marker\":{\"color\":\"#0F4AA1\",\"pattern\":{\"shape\":\"\"}},\"name\":\"Deep poverty\",\"offsetgroup\":\"Deep poverty\",\"orientation\":\"v\",\"showlegend\":true,\"textposition\":\"auto\",\"x\":[\"All\",\"Children\",\"Adults\"],\"xaxis\":\"x\",\"y\":[-0.1380002913060524,-0.22048526723883644,-0.1117865656226309],\"yaxis\":\"y\",\"type\":\"bar\"}],\"name\":\"70\"},{\"data\":[{\"alignmentgroup\":\"True\",\"hovertemplate\":\"Poverty type=Poverty<br>Carbon price=80<br>Age group=%{x}<br>value=%{y}<extra></extra>\",\"legendgroup\":\"Poverty\",\"marker\":{\"color\":\"#49A6E2\",\"pattern\":{\"shape\":\"\"}},\"name\":\"Poverty\",\"offsetgroup\":\"Poverty\",\"orientation\":\"v\",\"showlegend\":true,\"textposition\":\"auto\",\"x\":[\"All\",\"Children\",\"Adults\"],\"xaxis\":\"x\",\"y\":[-0.10937813956861953,-0.16569372022687412,-0.08157619344151645],\"yaxis\":\"y\",\"type\":\"bar\"},{\"alignmentgroup\":\"True\",\"hovertemplate\":\"Poverty type=Deep poverty<br>Carbon price=80<br>Age group=%{x}<br>value=%{y}<extra></extra>\",\"legendgroup\":\"Deep poverty\",\"marker\":{\"color\":\"#0F4AA1\",\"pattern\":{\"shape\":\"\"}},\"name\":\"Deep poverty\",\"offsetgroup\":\"Deep poverty\",\"orientation\":\"v\",\"showlegend\":true,\"textposition\":\"auto\",\"x\":[\"All\",\"Children\",\"Adults\"],\"xaxis\":\"x\",\"y\":[-0.15516177990476565,-0.2677101617088554,-0.11939390371444492],\"yaxis\":\"y\",\"type\":\"bar\"}],\"name\":\"80\"},{\"data\":[{\"alignmentgroup\":\"True\",\"hovertemplate\":\"Poverty type=Poverty<br>Carbon price=90<br>Age group=%{x}<br>value=%{y}<extra></extra>\",\"legendgroup\":\"Poverty\",\"marker\":{\"color\":\"#49A6E2\",\"pattern\":{\"shape\":\"\"}},\"name\":\"Poverty\",\"offsetgroup\":\"Poverty\",\"orientation\":\"v\",\"showlegend\":true,\"textposition\":\"auto\",\"x\":[\"All\",\"Children\",\"Adults\"],\"xaxis\":\"x\",\"y\":[-0.11361293119711302,-0.17047933443476615,-0.08553905429172404],\"yaxis\":\"y\",\"type\":\"bar\"},{\"alignmentgroup\":\"True\",\"hovertemplate\":\"Poverty type=Deep poverty<br>Carbon price=90<br>Age group=%{x}<br>value=%{y}<extra></extra>\",\"legendgroup\":\"Deep poverty\",\"marker\":{\"color\":\"#0F4AA1\",\"pattern\":{\"shape\":\"\"}},\"name\":\"Deep poverty\",\"offsetgroup\":\"Deep poverty\",\"orientation\":\"v\",\"showlegend\":true,\"textposition\":\"auto\",\"x\":[\"All\",\"Children\",\"Adults\"],\"xaxis\":\"x\",\"y\":[-0.16184271681398754,-0.28810049506319424,-0.1217179943782315],\"yaxis\":\"y\",\"type\":\"bar\"}],\"name\":\"90\"}]);\n",
       "                        }).then(function(){\n",
       "                            \n",
       "var gd = document.getElementById('f41b9d50-da27-409c-88a7-e0f3c62f06f7');\n",
       "var x = new MutationObserver(function (mutations, observer) {{\n",
       "        var display = window.getComputedStyle(gd).display;\n",
       "        if (!display || display === 'none') {{\n",
       "            console.log([gd, 'removed!']);\n",
       "            Plotly.purge(gd);\n",
       "            observer.disconnect();\n",
       "        }}\n",
       "}});\n",
       "\n",
       "// Listen for the removal of the full notebook cells\n",
       "var notebookContainer = gd.closest('#notebook-container');\n",
       "if (notebookContainer) {{\n",
       "    x.observe(notebookContainer, {childList: true});\n",
       "}}\n",
       "\n",
       "// Listen for the clearing of the current output cell\n",
       "var outputEl = gd.closest('.output');\n",
       "if (outputEl) {{\n",
       "    x.observe(outputEl, {childList: true});\n",
       "}}\n",
       "\n",
       "                        })                };                });            </script>        </div>"
      ]
     },
     "metadata": {},
     "output_type": "display_data"
    }
   ],
   "source": [
    "# Current the dataframe has columns [price, ubi, poverty, deep poverty, child poverty, deep child poverty, working-age poverty, deep working-age poverty, senior poverty, deep senior poverty]\n",
    "# We need it with columns [price, age group, poverty type, value]\n",
    "\n",
    "long_df = pd.melt(df, id_vars=[\"Carbon price\"], value_vars=[\n",
    "    \"Poverty\",\n",
    "    \"Deep poverty\",\n",
    "    \"Child poverty\",\n",
    "    \"Deep child poverty\",\n",
    "    \"Adult poverty\",\n",
    "    \"Deep adult poverty\",\n",
    "])\n",
    "long_df[\"Age group\"] = long_df.variable.map({\n",
    "    \"Poverty\": \"All\",\n",
    "    \"Deep poverty\": \"All\",\n",
    "    \"Child poverty\": \"Children\",\n",
    "    \"Deep child poverty\": \"Children\",\n",
    "    \"Adult poverty\": \"Adults\",\n",
    "    \"Deep adult poverty\": \"Adults\",\n",
    "})\n",
    "long_df[\"Poverty type\"] = long_df.variable.apply(lambda x: \"Deep poverty\" if \"deep\" in x.lower() else \"Poverty\")\n",
    "import plotly.io as pio\n",
    "pio.renderers.default = \"notebook_connected\" # As per https://github.com/microsoft/vscode-jupyter/issues/4364#issuecomment-817352686\n",
    "fig = px.bar(\n",
    "    long_df,\n",
    "    x=\"Age group\",\n",
    "    y=\"value\",\n",
    "    color=\"Poverty type\",\n",
    "    barmode=\"group\",\n",
    "    animation_frame=\"Carbon price\",\n",
    "    color_discrete_sequence=[LIGHT_BLUE, DARK_BLUE],\n",
    ").update_layout(\n",
    "    yaxis_title=\"Poverty impact\",\n",
    "    yaxis_tickformat=\".0%\",\n",
    "    title=\"Carbon dividend poverty impact by age group\",\n",
    "    legend_title=\"\",\n",
    "    yaxis_range=[-0.4, 0],\n",
    ")\n",
    "format_fig(fig)"
   ]
  }
 ],
 "metadata": {
  "interpreter": {
   "hash": "acd536c30d59fb9239b78f26155dcd58ce48444653c59c0cbc6c2d93043c3f07"
  },
  "kernelspec": {
   "display_name": "Python 3",
   "language": "python",
   "name": "python3"
  },
  "language_info": {
   "codemirror_mode": {
    "name": "ipython",
    "version": 3
   },
   "file_extension": ".py",
   "mimetype": "text/x-python",
   "name": "python",
   "nbconvert_exporter": "python",
   "pygments_lexer": "ipython3",
   "version": "3.7.11"
  }
 },
 "nbformat": 4,
 "nbformat_minor": 4
}
